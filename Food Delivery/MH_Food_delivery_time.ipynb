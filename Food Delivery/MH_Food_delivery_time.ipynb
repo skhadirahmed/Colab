{
  "nbformat": 4,
  "nbformat_minor": 0,
  "metadata": {
    "colab": {
      "name": "MH-Food delivery time",
      "provenance": []
    },
    "kernelspec": {
      "display_name": "Python 3",
      "language": "python",
      "name": "python3"
    },
    "language_info": {
      "codemirror_mode": {
        "name": "ipython",
        "version": 3
      },
      "file_extension": ".py",
      "mimetype": "text/x-python",
      "name": "python",
      "nbconvert_exporter": "python",
      "pygments_lexer": "ipython3",
      "version": "3.7.4"
    }
  },
  "cells": [
    {
      "cell_type": "code",
      "metadata": {
        "colab_type": "code",
        "id": "SszGJLH6y1P0",
        "colab": {}
      },
      "source": [
        "import pandas as pd\n",
        "#pip install openpyxl"
      ],
      "execution_count": 0,
      "outputs": []
    },
    {
      "cell_type": "code",
      "metadata": {
        "colab_type": "code",
        "id": "afY8OUu9zKyC",
        "colab": {}
      },
      "source": [
        "Data_Train = pd.read_excel(\"Data_Train.xlsx\")"
      ],
      "execution_count": 0,
      "outputs": []
    },
    {
      "cell_type": "code",
      "metadata": {
        "colab_type": "code",
        "id": "bgPDioLqzfNP",
        "outputId": "6863b22c-40db-4b62-b464-1321c6d55532",
        "colab": {
          "base_uri": "https://localhost:8080/",
          "height": 306
        }
      },
      "source": [
        "Data_Train.head()"
      ],
      "execution_count": 4,
      "outputs": [
        {
          "output_type": "execute_result",
          "data": {
            "text/html": [
              "<div>\n",
              "<style scoped>\n",
              "    .dataframe tbody tr th:only-of-type {\n",
              "        vertical-align: middle;\n",
              "    }\n",
              "\n",
              "    .dataframe tbody tr th {\n",
              "        vertical-align: top;\n",
              "    }\n",
              "\n",
              "    .dataframe thead th {\n",
              "        text-align: right;\n",
              "    }\n",
              "</style>\n",
              "<table border=\"1\" class=\"dataframe\">\n",
              "  <thead>\n",
              "    <tr style=\"text-align: right;\">\n",
              "      <th></th>\n",
              "      <th>Restaurant</th>\n",
              "      <th>Location</th>\n",
              "      <th>Cuisines</th>\n",
              "      <th>Average_Cost</th>\n",
              "      <th>Minimum_Order</th>\n",
              "      <th>Rating</th>\n",
              "      <th>Votes</th>\n",
              "      <th>Reviews</th>\n",
              "      <th>Delivery_Time</th>\n",
              "    </tr>\n",
              "  </thead>\n",
              "  <tbody>\n",
              "    <tr>\n",
              "      <th>0</th>\n",
              "      <td>ID_6321</td>\n",
              "      <td>FTI College, Law College Road, Pune</td>\n",
              "      <td>Fast Food, Rolls, Burger, Salad, Wraps</td>\n",
              "      <td>₹200</td>\n",
              "      <td>₹50</td>\n",
              "      <td>3.5</td>\n",
              "      <td>12</td>\n",
              "      <td>4</td>\n",
              "      <td>30 minutes</td>\n",
              "    </tr>\n",
              "    <tr>\n",
              "      <th>1</th>\n",
              "      <td>ID_2882</td>\n",
              "      <td>Sector 3, Marathalli</td>\n",
              "      <td>Ice Cream, Desserts</td>\n",
              "      <td>₹100</td>\n",
              "      <td>₹50</td>\n",
              "      <td>3.5</td>\n",
              "      <td>11</td>\n",
              "      <td>4</td>\n",
              "      <td>30 minutes</td>\n",
              "    </tr>\n",
              "    <tr>\n",
              "      <th>2</th>\n",
              "      <td>ID_1595</td>\n",
              "      <td>Mumbai Central</td>\n",
              "      <td>Italian, Street Food, Fast Food</td>\n",
              "      <td>₹150</td>\n",
              "      <td>₹50</td>\n",
              "      <td>3.6</td>\n",
              "      <td>99</td>\n",
              "      <td>30</td>\n",
              "      <td>65 minutes</td>\n",
              "    </tr>\n",
              "    <tr>\n",
              "      <th>3</th>\n",
              "      <td>ID_5929</td>\n",
              "      <td>Sector 1, Noida</td>\n",
              "      <td>Mughlai, North Indian, Chinese</td>\n",
              "      <td>₹250</td>\n",
              "      <td>₹99</td>\n",
              "      <td>3.7</td>\n",
              "      <td>176</td>\n",
              "      <td>95</td>\n",
              "      <td>30 minutes</td>\n",
              "    </tr>\n",
              "    <tr>\n",
              "      <th>4</th>\n",
              "      <td>ID_6123</td>\n",
              "      <td>Rmz Centennial, I Gate, Whitefield</td>\n",
              "      <td>Cafe, Beverages</td>\n",
              "      <td>₹200</td>\n",
              "      <td>₹99</td>\n",
              "      <td>3.2</td>\n",
              "      <td>521</td>\n",
              "      <td>235</td>\n",
              "      <td>65 minutes</td>\n",
              "    </tr>\n",
              "  </tbody>\n",
              "</table>\n",
              "</div>"
            ],
            "text/plain": [
              "  Restaurant                             Location  ... Reviews Delivery_Time\n",
              "0    ID_6321  FTI College, Law College Road, Pune  ...       4    30 minutes\n",
              "1    ID_2882                 Sector 3, Marathalli  ...       4    30 minutes\n",
              "2    ID_1595                       Mumbai Central  ...      30    65 minutes\n",
              "3    ID_5929                      Sector 1, Noida  ...      95    30 minutes\n",
              "4    ID_6123   Rmz Centennial, I Gate, Whitefield  ...     235    65 minutes\n",
              "\n",
              "[5 rows x 9 columns]"
            ]
          },
          "metadata": {
            "tags": []
          },
          "execution_count": 4
        }
      ]
    },
    {
      "cell_type": "code",
      "metadata": {
        "colab_type": "code",
        "id": "WrqS19Mzz1bH",
        "outputId": "48101967-f754-4f85-93ab-4036f352de9c",
        "colab": {
          "base_uri": "https://localhost:8080/",
          "height": 224
        }
      },
      "source": [
        "print(len(Data_Train))\n",
        "Data_Train.describe()"
      ],
      "execution_count": 5,
      "outputs": [
        {
          "output_type": "stream",
          "text": [
            "11094\n"
          ],
          "name": "stdout"
        },
        {
          "output_type": "execute_result",
          "data": {
            "text/html": [
              "<div>\n",
              "<style scoped>\n",
              "    .dataframe tbody tr th:only-of-type {\n",
              "        vertical-align: middle;\n",
              "    }\n",
              "\n",
              "    .dataframe tbody tr th {\n",
              "        vertical-align: top;\n",
              "    }\n",
              "\n",
              "    .dataframe thead th {\n",
              "        text-align: right;\n",
              "    }\n",
              "</style>\n",
              "<table border=\"1\" class=\"dataframe\">\n",
              "  <thead>\n",
              "    <tr style=\"text-align: right;\">\n",
              "      <th></th>\n",
              "      <th>Restaurant</th>\n",
              "      <th>Location</th>\n",
              "      <th>Cuisines</th>\n",
              "      <th>Average_Cost</th>\n",
              "      <th>Minimum_Order</th>\n",
              "      <th>Rating</th>\n",
              "      <th>Votes</th>\n",
              "      <th>Reviews</th>\n",
              "      <th>Delivery_Time</th>\n",
              "    </tr>\n",
              "  </thead>\n",
              "  <tbody>\n",
              "    <tr>\n",
              "      <th>count</th>\n",
              "      <td>11094</td>\n",
              "      <td>11094</td>\n",
              "      <td>11094</td>\n",
              "      <td>11094</td>\n",
              "      <td>11094</td>\n",
              "      <td>11094</td>\n",
              "      <td>11094</td>\n",
              "      <td>11094</td>\n",
              "      <td>11094</td>\n",
              "    </tr>\n",
              "    <tr>\n",
              "      <th>unique</th>\n",
              "      <td>7480</td>\n",
              "      <td>35</td>\n",
              "      <td>2179</td>\n",
              "      <td>26</td>\n",
              "      <td>18</td>\n",
              "      <td>33</td>\n",
              "      <td>1103</td>\n",
              "      <td>761</td>\n",
              "      <td>7</td>\n",
              "    </tr>\n",
              "    <tr>\n",
              "      <th>top</th>\n",
              "      <td>ID_7184</td>\n",
              "      <td>Mico Layout, Stage 2, BTM Layout,Bangalore</td>\n",
              "      <td>North Indian</td>\n",
              "      <td>₹200</td>\n",
              "      <td>₹50</td>\n",
              "      <td>-</td>\n",
              "      <td>-</td>\n",
              "      <td>-</td>\n",
              "      <td>30 minutes</td>\n",
              "    </tr>\n",
              "    <tr>\n",
              "      <th>freq</th>\n",
              "      <td>22</td>\n",
              "      <td>947</td>\n",
              "      <td>850</td>\n",
              "      <td>3241</td>\n",
              "      <td>10118</td>\n",
              "      <td>1191</td>\n",
              "      <td>2074</td>\n",
              "      <td>2312</td>\n",
              "      <td>7406</td>\n",
              "    </tr>\n",
              "  </tbody>\n",
              "</table>\n",
              "</div>"
            ],
            "text/plain": [
              "       Restaurant  ... Delivery_Time\n",
              "count       11094  ...         11094\n",
              "unique       7480  ...             7\n",
              "top       ID_7184  ...    30 minutes\n",
              "freq           22  ...          7406\n",
              "\n",
              "[4 rows x 9 columns]"
            ]
          },
          "metadata": {
            "tags": []
          },
          "execution_count": 5
        }
      ]
    },
    {
      "cell_type": "code",
      "metadata": {
        "colab_type": "code",
        "id": "NCNGltm6zhYq",
        "colab": {}
      },
      "source": [
        "X = Data_Train.copy()"
      ],
      "execution_count": 0,
      "outputs": []
    },
    {
      "cell_type": "code",
      "metadata": {
        "colab_type": "code",
        "id": "3wC8aE8D0O3g",
        "colab": {}
      },
      "source": [
        "X.dropna(axis=0,subset=['Delivery_Time'],inplace=True)\n",
        "y= X.Delivery_Time\n",
        "X.drop(['Delivery_Time'],axis=1,inplace=True)"
      ],
      "execution_count": 0,
      "outputs": []
    },
    {
      "cell_type": "code",
      "metadata": {
        "colab_type": "code",
        "id": "kb1-3q2508_9",
        "outputId": "212000dc-f45a-480a-963a-f5b4609e937c",
        "colab": {
          "base_uri": "https://localhost:8080/",
          "height": 34
        }
      },
      "source": [
        "len(X)"
      ],
      "execution_count": 8,
      "outputs": [
        {
          "output_type": "execute_result",
          "data": {
            "text/plain": [
              "11094"
            ]
          },
          "metadata": {
            "tags": []
          },
          "execution_count": 8
        }
      ]
    },
    {
      "cell_type": "code",
      "metadata": {
        "colab_type": "code",
        "id": "pgKxAVSZ0-XF",
        "outputId": "fa14dd24-c09a-4796-9d94-588e600859a1",
        "colab": {
          "base_uri": "https://localhost:8080/",
          "height": 122
        }
      },
      "source": [
        "from sklearn.model_selection import train_test_split\n",
        "\n",
        "#features = [\"Rating\",\t\"Votes\", \"Reviews\"]\n",
        "features = [\"Rating\",\"Delivery_Time\"]\n",
        "X_new = Data_Train.copy()\n",
        "X_rating = X_new[features]\n",
        "X_rating.dropna(axis=0,subset=features,inplace=True)\n"
      ],
      "execution_count": 9,
      "outputs": [
        {
          "output_type": "stream",
          "text": [
            "/usr/local/lib/python3.6/dist-packages/ipykernel_launcher.py:7: SettingWithCopyWarning: \n",
            "A value is trying to be set on a copy of a slice from a DataFrame\n",
            "\n",
            "See the caveats in the documentation: http://pandas.pydata.org/pandas-docs/stable/user_guide/indexing.html#returning-a-view-versus-a-copy\n",
            "  import sys\n"
          ],
          "name": "stderr"
        }
      ]
    },
    {
      "cell_type": "code",
      "metadata": {
        "colab_type": "code",
        "id": "eDgIsZFw2CA5",
        "outputId": "6e10582a-ee6a-4311-a661-5f8ab3d28629",
        "colab": {
          "base_uri": "https://localhost:8080/",
          "height": 425
        }
      },
      "source": [
        "for row in X_rating:\n",
        "  print(X_rating[row])"
      ],
      "execution_count": 10,
      "outputs": [
        {
          "output_type": "stream",
          "text": [
            "0        3.5\n",
            "1        3.5\n",
            "2        3.6\n",
            "3        3.7\n",
            "4        3.2\n",
            "        ... \n",
            "11089    4.2\n",
            "11090    3.6\n",
            "11091    3.5\n",
            "11092    3.1\n",
            "11093    NEW\n",
            "Name: Rating, Length: 11094, dtype: object\n",
            "0        30 minutes\n",
            "1        30 minutes\n",
            "2        65 minutes\n",
            "3        30 minutes\n",
            "4        65 minutes\n",
            "            ...    \n",
            "11089    30 minutes\n",
            "11090    30 minutes\n",
            "11091    30 minutes\n",
            "11092    30 minutes\n",
            "11093    30 minutes\n",
            "Name: Delivery_Time, Length: 11094, dtype: object\n"
          ],
          "name": "stdout"
        }
      ]
    },
    {
      "cell_type": "code",
      "metadata": {
        "colab_type": "code",
        "id": "SkoO_3qi2MZ8",
        "colab": {}
      },
      "source": [
        "X_rating = X_rating.replace([\"NEW\",\"-\",\"Opening Soon\",'Temporarily Closed'],2.5)"
      ],
      "execution_count": 0,
      "outputs": []
    },
    {
      "cell_type": "code",
      "metadata": {
        "colab_type": "code",
        "id": "-JngNYHT7BvG",
        "outputId": "68898d35-e50e-4ea6-c067-dbc8c5361814",
        "colab": {
          "base_uri": "https://localhost:8080/",
          "height": 419
        }
      },
      "source": [
        "X_rating"
      ],
      "execution_count": 12,
      "outputs": [
        {
          "output_type": "execute_result",
          "data": {
            "text/html": [
              "<div>\n",
              "<style scoped>\n",
              "    .dataframe tbody tr th:only-of-type {\n",
              "        vertical-align: middle;\n",
              "    }\n",
              "\n",
              "    .dataframe tbody tr th {\n",
              "        vertical-align: top;\n",
              "    }\n",
              "\n",
              "    .dataframe thead th {\n",
              "        text-align: right;\n",
              "    }\n",
              "</style>\n",
              "<table border=\"1\" class=\"dataframe\">\n",
              "  <thead>\n",
              "    <tr style=\"text-align: right;\">\n",
              "      <th></th>\n",
              "      <th>Rating</th>\n",
              "      <th>Delivery_Time</th>\n",
              "    </tr>\n",
              "  </thead>\n",
              "  <tbody>\n",
              "    <tr>\n",
              "      <th>0</th>\n",
              "      <td>3.5</td>\n",
              "      <td>30 minutes</td>\n",
              "    </tr>\n",
              "    <tr>\n",
              "      <th>1</th>\n",
              "      <td>3.5</td>\n",
              "      <td>30 minutes</td>\n",
              "    </tr>\n",
              "    <tr>\n",
              "      <th>2</th>\n",
              "      <td>3.6</td>\n",
              "      <td>65 minutes</td>\n",
              "    </tr>\n",
              "    <tr>\n",
              "      <th>3</th>\n",
              "      <td>3.7</td>\n",
              "      <td>30 minutes</td>\n",
              "    </tr>\n",
              "    <tr>\n",
              "      <th>4</th>\n",
              "      <td>3.2</td>\n",
              "      <td>65 minutes</td>\n",
              "    </tr>\n",
              "    <tr>\n",
              "      <th>...</th>\n",
              "      <td>...</td>\n",
              "      <td>...</td>\n",
              "    </tr>\n",
              "    <tr>\n",
              "      <th>11089</th>\n",
              "      <td>4.2</td>\n",
              "      <td>30 minutes</td>\n",
              "    </tr>\n",
              "    <tr>\n",
              "      <th>11090</th>\n",
              "      <td>3.6</td>\n",
              "      <td>30 minutes</td>\n",
              "    </tr>\n",
              "    <tr>\n",
              "      <th>11091</th>\n",
              "      <td>3.5</td>\n",
              "      <td>30 minutes</td>\n",
              "    </tr>\n",
              "    <tr>\n",
              "      <th>11092</th>\n",
              "      <td>3.1</td>\n",
              "      <td>30 minutes</td>\n",
              "    </tr>\n",
              "    <tr>\n",
              "      <th>11093</th>\n",
              "      <td>2.5</td>\n",
              "      <td>30 minutes</td>\n",
              "    </tr>\n",
              "  </tbody>\n",
              "</table>\n",
              "<p>11094 rows × 2 columns</p>\n",
              "</div>"
            ],
            "text/plain": [
              "      Rating Delivery_Time\n",
              "0        3.5    30 minutes\n",
              "1        3.5    30 minutes\n",
              "2        3.6    65 minutes\n",
              "3        3.7    30 minutes\n",
              "4        3.2    65 minutes\n",
              "...      ...           ...\n",
              "11089    4.2    30 minutes\n",
              "11090    3.6    30 minutes\n",
              "11091    3.5    30 minutes\n",
              "11092    3.1    30 minutes\n",
              "11093    2.5    30 minutes\n",
              "\n",
              "[11094 rows x 2 columns]"
            ]
          },
          "metadata": {
            "tags": []
          },
          "execution_count": 12
        }
      ]
    },
    {
      "cell_type": "code",
      "metadata": {
        "colab_type": "code",
        "id": "xbN_OHXz7R6F",
        "outputId": "0d5628e1-60a8-433c-a015-bb66fdafa540",
        "colab": {
          "base_uri": "https://localhost:8080/",
          "height": 51
        }
      },
      "source": [
        "y_rating = X_rating.Delivery_Time\n",
        "X_rating.drop([\"Delivery_Time\"],axis=1,inplace=True)\n",
        "X_rating.astype(\"float32\").dtypes"
      ],
      "execution_count": 13,
      "outputs": [
        {
          "output_type": "execute_result",
          "data": {
            "text/plain": [
              "Rating    float32\n",
              "dtype: object"
            ]
          },
          "metadata": {
            "tags": []
          },
          "execution_count": 13
        }
      ]
    },
    {
      "cell_type": "code",
      "metadata": {
        "id": "793NswuHF_lV",
        "colab_type": "code",
        "colab": {
          "base_uri": "https://localhost:8080/",
          "height": 34
        },
        "outputId": "4b82b8fc-3c67-41c2-ca51-bc4ed1c70e08"
      },
      "source": [
        "X_rating.shape"
      ],
      "execution_count": 14,
      "outputs": [
        {
          "output_type": "execute_result",
          "data": {
            "text/plain": [
              "(11094, 1)"
            ]
          },
          "metadata": {
            "tags": []
          },
          "execution_count": 14
        }
      ]
    },
    {
      "cell_type": "code",
      "metadata": {
        "colab_type": "code",
        "id": "fgNIAsmd7ph-",
        "outputId": "5226ab12-dd1e-46a3-87e2-42249cd0bf56",
        "colab": {
          "base_uri": "https://localhost:8080/",
          "height": 221
        }
      },
      "source": [
        "y_rating"
      ],
      "execution_count": 15,
      "outputs": [
        {
          "output_type": "execute_result",
          "data": {
            "text/plain": [
              "0        30 minutes\n",
              "1        30 minutes\n",
              "2        65 minutes\n",
              "3        30 minutes\n",
              "4        65 minutes\n",
              "            ...    \n",
              "11089    30 minutes\n",
              "11090    30 minutes\n",
              "11091    30 minutes\n",
              "11092    30 minutes\n",
              "11093    30 minutes\n",
              "Name: Delivery_Time, Length: 11094, dtype: object"
            ]
          },
          "metadata": {
            "tags": []
          },
          "execution_count": 15
        }
      ]
    },
    {
      "cell_type": "code",
      "metadata": {
        "colab_type": "code",
        "id": "36s7Txdf9yH6",
        "outputId": "04532c6f-f4da-4f64-c36a-86f6a4228148",
        "colab": {
          "base_uri": "https://localhost:8080/",
          "height": 34
        }
      },
      "source": [
        "print(y_rating[0].replace(\"minutes\",\"\"))"
      ],
      "execution_count": 16,
      "outputs": [
        {
          "output_type": "stream",
          "text": [
            "30 \n"
          ],
          "name": "stdout"
        }
      ]
    },
    {
      "cell_type": "code",
      "metadata": {
        "colab_type": "code",
        "id": "ranjx0B497CS",
        "colab": {}
      },
      "source": [
        "for col in y_rating.index:\n",
        "  y_rating[col]=y_rating[col].replace(\"minutes\",\"\")"
      ],
      "execution_count": 0,
      "outputs": []
    },
    {
      "cell_type": "code",
      "metadata": {
        "colab_type": "code",
        "id": "noM8zqNr-6n8",
        "outputId": "3ab09cd6-10e3-4b27-983a-da623b4fd874",
        "colab": {
          "base_uri": "https://localhost:8080/",
          "height": 221
        }
      },
      "source": [
        "y_rating"
      ],
      "execution_count": 18,
      "outputs": [
        {
          "output_type": "execute_result",
          "data": {
            "text/plain": [
              "0        30 \n",
              "1        30 \n",
              "2        65 \n",
              "3        30 \n",
              "4        65 \n",
              "        ... \n",
              "11089    30 \n",
              "11090    30 \n",
              "11091    30 \n",
              "11092    30 \n",
              "11093    30 \n",
              "Name: Delivery_Time, Length: 11094, dtype: object"
            ]
          },
          "metadata": {
            "tags": []
          },
          "execution_count": 18
        }
      ]
    },
    {
      "cell_type": "code",
      "metadata": {
        "colab_type": "code",
        "id": "7oKO66QG_hyc",
        "outputId": "94cbd8ba-0c65-4d5d-c9c5-40f2849e0796",
        "colab": {
          "base_uri": "https://localhost:8080/",
          "height": 34
        }
      },
      "source": [
        "y_rating.astype(\"int32\").dtypes"
      ],
      "execution_count": 19,
      "outputs": [
        {
          "output_type": "execute_result",
          "data": {
            "text/plain": [
              "dtype('int32')"
            ]
          },
          "metadata": {
            "tags": []
          },
          "execution_count": 19
        }
      ]
    },
    {
      "cell_type": "code",
      "metadata": {
        "colab_type": "code",
        "id": "frfRSl6K_pik",
        "colab": {}
      },
      "source": [
        "from sklearn.ensemble import RandomForestRegressor"
      ],
      "execution_count": 0,
      "outputs": []
    },
    {
      "cell_type": "code",
      "metadata": {
        "colab_type": "code",
        "id": "q2ojHu8XAm25",
        "colab": {}
      },
      "source": [
        "model_1 = RandomForestRegressor(n_estimators=500,random_state=1)"
      ],
      "execution_count": 0,
      "outputs": []
    },
    {
      "cell_type": "code",
      "metadata": {
        "colab_type": "code",
        "id": "pwNM44voAyIJ",
        "colab": {}
      },
      "source": [
        "X_rating_train,X_rating_valid,y_rating_train,y_rating_valid = train_test_split(X_rating,y_rating)"
      ],
      "execution_count": 0,
      "outputs": []
    },
    {
      "cell_type": "code",
      "metadata": {
        "colab_type": "code",
        "id": "jEin3ILrBgP2",
        "outputId": "247a5d41-3f33-4e3b-e4df-a8861bb78a1f",
        "colab": {
          "base_uri": "https://localhost:8080/",
          "height": 34
        }
      },
      "source": [
        "len(X_rating_train)"
      ],
      "execution_count": 23,
      "outputs": [
        {
          "output_type": "execute_result",
          "data": {
            "text/plain": [
              "8320"
            ]
          },
          "metadata": {
            "tags": []
          },
          "execution_count": 23
        }
      ]
    },
    {
      "cell_type": "code",
      "metadata": {
        "colab_type": "code",
        "id": "sbAxMF1pBh0n",
        "outputId": "f68d9de2-a557-437d-ec72-8d10bc041557",
        "colab": {
          "base_uri": "https://localhost:8080/",
          "height": 136
        }
      },
      "source": [
        "model_1.fit(X_rating_train,y_rating_train)"
      ],
      "execution_count": 24,
      "outputs": [
        {
          "output_type": "execute_result",
          "data": {
            "text/plain": [
              "RandomForestRegressor(bootstrap=True, criterion='mse', max_depth=None,\n",
              "                      max_features='auto', max_leaf_nodes=None,\n",
              "                      min_impurity_decrease=0.0, min_impurity_split=None,\n",
              "                      min_samples_leaf=1, min_samples_split=2,\n",
              "                      min_weight_fraction_leaf=0.0, n_estimators=500,\n",
              "                      n_jobs=None, oob_score=False, random_state=1, verbose=0,\n",
              "                      warm_start=False)"
            ]
          },
          "metadata": {
            "tags": []
          },
          "execution_count": 24
        }
      ]
    },
    {
      "cell_type": "code",
      "metadata": {
        "colab_type": "code",
        "id": "oitRjwbRBr0z",
        "colab": {}
      },
      "source": [
        "pred = model_1.predict(X_rating_valid)"
      ],
      "execution_count": 0,
      "outputs": []
    },
    {
      "cell_type": "code",
      "metadata": {
        "colab_type": "code",
        "id": "dS_jnYkKB0J_",
        "colab": {}
      },
      "source": [
        "from sklearn.metrics import mean_absolute_error\n",
        "score = mean_absolute_error(pred,y_rating_valid)"
      ],
      "execution_count": 0,
      "outputs": []
    },
    {
      "cell_type": "code",
      "metadata": {
        "colab_type": "code",
        "id": "2_6ROppsB08K",
        "outputId": "b5f2705e-79e7-4ef9-82b6-5a81a9821e77",
        "colab": {
          "base_uri": "https://localhost:8080/",
          "height": 34
        }
      },
      "source": [
        "score"
      ],
      "execution_count": 27,
      "outputs": [
        {
          "output_type": "execute_result",
          "data": {
            "text/plain": [
              "0.001687094448449891"
            ]
          },
          "metadata": {
            "tags": []
          },
          "execution_count": 27
        }
      ]
    },
    {
      "cell_type": "code",
      "metadata": {
        "colab_type": "code",
        "id": "O3K1A5geDZBK",
        "colab": {}
      },
      "source": [
        "def getScores(n_est,X_train,y_train,X_valid,y_valid):\n",
        "  scores = {}\n",
        "  for k in n_est:\n",
        "    model = RandomForestRegressor(n_estimators=k,random_state=1)\n",
        "    model.fit(X_train,y_train)\n",
        "    preds = model.predict(X_valid)\n",
        "    score = mean_absolute_error(preds,y_valid)\n",
        "    scores[k]=score\n",
        "  return scores"
      ],
      "execution_count": 0,
      "outputs": []
    },
    {
      "cell_type": "code",
      "metadata": {
        "colab_type": "code",
        "id": "tK8BscZdDUwX",
        "colab": {}
      },
      "source": [
        "n_est = [50,100,150,200,500,1000,1500,2000]\n",
        "scores = getScores(n_est, X_rating_train, y_rating_train, X_rating_valid, y_rating_valid)"
      ],
      "execution_count": 0,
      "outputs": []
    },
    {
      "cell_type": "code",
      "metadata": {
        "colab_type": "code",
        "id": "sKDyCfiT18Fq",
        "outputId": "1505915e-cbf7-4769-ce8a-25ddae0cf6c8",
        "colab": {
          "base_uri": "https://localhost:8080/",
          "height": 153
        }
      },
      "source": [
        "scores"
      ],
      "execution_count": 30,
      "outputs": [
        {
          "output_type": "execute_result",
          "data": {
            "text/plain": [
              "{50: 0.0012977649603460712,\n",
              " 100: 0.0013698630136986304,\n",
              " 150: 0.001586157173756308,\n",
              " 200: 0.0014780100937274692,\n",
              " 500: 0.001687094448449891,\n",
              " 1000: 0.001737563085796683,\n",
              " 1500: 0.0017880317231434735,\n",
              " 2000: 0.0019214131218457122}"
            ]
          },
          "metadata": {
            "tags": []
          },
          "execution_count": 30
        }
      ]
    },
    {
      "cell_type": "code",
      "metadata": {
        "id": "CsRPNtkVF_mw",
        "colab_type": "code",
        "colab": {}
      },
      "source": [
        "X_rating = X_rating.drop([\"Delivery_Time\"],axis=1)"
      ],
      "execution_count": 0,
      "outputs": []
    },
    {
      "cell_type": "code",
      "metadata": {
        "id": "6cc0aZjSF_m0",
        "colab_type": "code",
        "colab": {
          "base_uri": "https://localhost:8080/",
          "height": 204
        },
        "outputId": "4f9dbf06-513c-4ebe-a1b8-fe91716faf82"
      },
      "source": [
        "X_rating.head()"
      ],
      "execution_count": 32,
      "outputs": [
        {
          "output_type": "execute_result",
          "data": {
            "text/html": [
              "<div>\n",
              "<style scoped>\n",
              "    .dataframe tbody tr th:only-of-type {\n",
              "        vertical-align: middle;\n",
              "    }\n",
              "\n",
              "    .dataframe tbody tr th {\n",
              "        vertical-align: top;\n",
              "    }\n",
              "\n",
              "    .dataframe thead th {\n",
              "        text-align: right;\n",
              "    }\n",
              "</style>\n",
              "<table border=\"1\" class=\"dataframe\">\n",
              "  <thead>\n",
              "    <tr style=\"text-align: right;\">\n",
              "      <th></th>\n",
              "      <th>Rating</th>\n",
              "    </tr>\n",
              "  </thead>\n",
              "  <tbody>\n",
              "    <tr>\n",
              "      <th>0</th>\n",
              "      <td>3.5</td>\n",
              "    </tr>\n",
              "    <tr>\n",
              "      <th>1</th>\n",
              "      <td>3.5</td>\n",
              "    </tr>\n",
              "    <tr>\n",
              "      <th>2</th>\n",
              "      <td>3.6</td>\n",
              "    </tr>\n",
              "    <tr>\n",
              "      <th>3</th>\n",
              "      <td>3.7</td>\n",
              "    </tr>\n",
              "    <tr>\n",
              "      <th>4</th>\n",
              "      <td>3.2</td>\n",
              "    </tr>\n",
              "  </tbody>\n",
              "</table>\n",
              "</div>"
            ],
            "text/plain": [
              "  Rating\n",
              "0    3.5\n",
              "1    3.5\n",
              "2    3.6\n",
              "3    3.7\n",
              "4    3.2"
            ]
          },
          "metadata": {
            "tags": []
          },
          "execution_count": 32
        }
      ]
    },
    {
      "cell_type": "code",
      "metadata": {
        "colab_type": "code",
        "id": "2w7bJXS42bVG",
        "colab": {
          "base_uri": "https://localhost:8080/",
          "height": 34
        },
        "outputId": "9adcf403-799c-42b7-9135-40baf9108d2a"
      },
      "source": [
        "model_test = RandomForestRegressor(n_estimators=100,random_state=1)\n",
        "model_test.fit(X_rating,y_rating)\n",
        "X_test = pd.read_excel(\"Data_Test.xlsx\")\n",
        "X_test = X_test[\"Rating\"]\n",
        "X_test = X_test.replace([\"NEW\",\"-\",\"Opening Soon\",'Temporarily Closed'],2.5)\n",
        "X_test.astype(\"float32\").dtypes"
      ],
      "execution_count": 35,
      "outputs": [
        {
          "output_type": "execute_result",
          "data": {
            "text/plain": [
              "dtype('float32')"
            ]
          },
          "metadata": {
            "tags": []
          },
          "execution_count": 35
        }
      ]
    },
    {
      "cell_type": "code",
      "metadata": {
        "id": "Vf61UTpnF_nD",
        "colab_type": "code",
        "colab": {
          "base_uri": "https://localhost:8080/",
          "height": 221
        },
        "outputId": "9ca18133-4205-4efe-c1ac-218bf06da65b"
      },
      "source": [
        "X_test"
      ],
      "execution_count": 36,
      "outputs": [
        {
          "output_type": "execute_result",
          "data": {
            "text/plain": [
              "0       4.2\n",
              "1       2.5\n",
              "2       3.6\n",
              "3       3.6\n",
              "4       2.9\n",
              "       ... \n",
              "2769    2.5\n",
              "2770    3.1\n",
              "2771    3.0\n",
              "2772    3.0\n",
              "2773    3.6\n",
              "Name: Rating, Length: 2774, dtype: object"
            ]
          },
          "metadata": {
            "tags": []
          },
          "execution_count": 36
        }
      ]
    },
    {
      "cell_type": "code",
      "metadata": {
        "id": "Juge2RXFF_nK",
        "colab_type": "code",
        "colab": {}
      },
      "source": [
        "import numpy as np"
      ],
      "execution_count": 0,
      "outputs": []
    },
    {
      "cell_type": "code",
      "metadata": {
        "id": "hNLeATn1F_nQ",
        "colab_type": "code",
        "colab": {}
      },
      "source": [
        "X_test = np.array(X_test)"
      ],
      "execution_count": 0,
      "outputs": []
    },
    {
      "cell_type": "code",
      "metadata": {
        "id": "W7HUcuiJF_nS",
        "colab_type": "code",
        "colab": {}
      },
      "source": [
        "X_test = X_test.reshape(-1,1)"
      ],
      "execution_count": 0,
      "outputs": []
    },
    {
      "cell_type": "code",
      "metadata": {
        "id": "diUZBR1lF_nW",
        "colab_type": "code",
        "colab": {
          "base_uri": "https://localhost:8080/",
          "height": 34
        },
        "outputId": "bd0267e3-610a-4cd4-d266-eb0c092a9ece"
      },
      "source": [
        "X_test.shape"
      ],
      "execution_count": 40,
      "outputs": [
        {
          "output_type": "execute_result",
          "data": {
            "text/plain": [
              "(2774, 1)"
            ]
          },
          "metadata": {
            "tags": []
          },
          "execution_count": 40
        }
      ]
    },
    {
      "cell_type": "code",
      "metadata": {
        "id": "qAF9dHcwF_na",
        "colab_type": "code",
        "colab": {
          "base_uri": "https://localhost:8080/",
          "height": 34
        },
        "outputId": "ce80cbb6-3ad3-411e-d18c-a92b5e37ba30"
      },
      "source": [
        "X_rating_train.shape"
      ],
      "execution_count": 41,
      "outputs": [
        {
          "output_type": "execute_result",
          "data": {
            "text/plain": [
              "(8320, 2)"
            ]
          },
          "metadata": {
            "tags": []
          },
          "execution_count": 41
        }
      ]
    },
    {
      "cell_type": "code",
      "metadata": {
        "id": "afZkdHRcF_nf",
        "colab_type": "code",
        "colab": {}
      },
      "source": [
        "predictions_test = model_test.predict(X_test)"
      ],
      "execution_count": 0,
      "outputs": []
    },
    {
      "cell_type": "code",
      "metadata": {
        "id": "tilO-J1RF_nj",
        "colab_type": "code",
        "colab": {}
      },
      "source": [
        "import math"
      ],
      "execution_count": 0,
      "outputs": []
    },
    {
      "cell_type": "code",
      "metadata": {
        "scrolled": true,
        "id": "nEjP--HNF_nr",
        "colab_type": "code",
        "colab": {}
      },
      "source": [
        "pred_min = []\n",
        "for p in predictions_test:\n",
        "    time = math.ceil(p)\n",
        "    d = time // 5\n",
        "    time = d * 5\n",
        "    pred_min.append(str(time) + \" minutes\")"
      ],
      "execution_count": 0,
      "outputs": []
    },
    {
      "cell_type": "code",
      "metadata": {
        "id": "Xoja4qTDF_nx",
        "colab_type": "code",
        "colab": {}
      },
      "source": [
        "#pred_min"
      ],
      "execution_count": 0,
      "outputs": []
    },
    {
      "cell_type": "code",
      "metadata": {
        "colab_type": "code",
        "id": "S_FjzVMvB_dD",
        "colab": {}
      },
      "source": [
        "output = pd.DataFrame({'Delivery_Time':pred_min})"
      ],
      "execution_count": 0,
      "outputs": []
    },
    {
      "cell_type": "code",
      "metadata": {
        "colab_type": "code",
        "id": "nitk1-4qDMQl",
        "colab": {}
      },
      "source": [
        "#output.to_csv(\"Submission_test_rating_min.csv\",index=False)"
      ],
      "execution_count": 0,
      "outputs": []
    },
    {
      "cell_type": "code",
      "metadata": {
        "id": "t_IwDWWhF_n8",
        "colab_type": "code",
        "colab": {},
        "outputId": "3529e518-ed02-4e68-f49f-c8803a50cf89"
      },
      "source": [
        ""
      ],
      "execution_count": 0,
      "outputs": [
        {
          "output_type": "stream",
          "text": [
            "Requirement already satisfied: openpyxl in c:\\users\\skhad\\anaconda3\\envs\\ml\\lib\\site-packages (3.0.1)\n",
            "Requirement already satisfied: jdcal in c:\\users\\skhad\\anaconda3\\envs\\ml\\lib\\site-packages (from openpyxl) (1.4.1)\n",
            "Requirement already satisfied: et-xmlfile in c:\\users\\skhad\\anaconda3\\envs\\ml\\lib\\site-packages (from openpyxl) (1.0.1)\n",
            "Note: you may need to restart the kernel to use updated packages.\n"
          ],
          "name": "stdout"
        }
      ]
    },
    {
      "cell_type": "code",
      "metadata": {
        "colab_type": "code",
        "id": "nB4-lCEfDOoK",
        "colab": {}
      },
      "source": [
        "output.to_excel(\"Submission_2.xlsx\",index=False)"
      ],
      "execution_count": 0,
      "outputs": []
    },
    {
      "cell_type": "code",
      "metadata": {
        "id": "-W_p7l5BF_oM",
        "colab_type": "code",
        "colab": {}
      },
      "source": [
        ""
      ],
      "execution_count": 0,
      "outputs": []
    }
  ]
}