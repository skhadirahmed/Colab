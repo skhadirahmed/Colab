{
  "nbformat": 4,
  "nbformat_minor": 0,
  "metadata": {
    "colab": {
      "name": "MH-Food delivery time",
      "provenance": []
    },
    "kernelspec": {
      "display_name": "Python 3",
      "language": "python",
      "name": "python3"
    },
    "language_info": {
      "codemirror_mode": {
        "name": "ipython",
        "version": 3
      },
      "file_extension": ".py",
      "mimetype": "text/x-python",
      "name": "python",
      "nbconvert_exporter": "python",
      "pygments_lexer": "ipython3",
      "version": "3.7.4"
    }
  },
  "cells": [
    {
      "cell_type": "markdown",
      "metadata": {
        "id": "9R7MP45LHUb2",
        "colab_type": "text"
      },
      "source": [
        "# Importing required packages"
      ]
    },
    {
      "cell_type": "code",
      "metadata": {
        "colab_type": "code",
        "id": "SszGJLH6y1P0",
        "colab": {}
      },
      "source": [
        "#pip install openpyxl\n",
        "import pandas as pd\n"
      ],
      "execution_count": 0,
      "outputs": []
    },
    {
      "cell_type": "markdown",
      "metadata": {
        "id": "QzGzciT9Hbwv",
        "colab_type": "text"
      },
      "source": [
        "# Reading Train and Test data"
      ]
    },
    {
      "cell_type": "code",
      "metadata": {
        "colab_type": "code",
        "id": "afY8OUu9zKyC",
        "colab": {
          "base_uri": "https://localhost:8080/",
          "height": 51
        },
        "outputId": "9c156ae5-4ceb-4e99-f903-66c7b9eef4eb"
      },
      "source": [
        "Data_Train = pd.read_excel(\"Data_Train.xlsx\")\n",
        "Data_Test = pd.read_excel(\"Data_Test.xlsx\")\n",
        "print(\"Number of records in Train\",len(Data_Train))\n",
        "print(\"Number of records in Test\",len(Data_Test))"
      ],
      "execution_count": 318,
      "outputs": [
        {
          "output_type": "stream",
          "text": [
            "Number of records in Train 11094\n",
            "Number of records in Test 2774\n"
          ],
          "name": "stdout"
        }
      ]
    },
    {
      "cell_type": "code",
      "metadata": {
        "colab_type": "code",
        "id": "bgPDioLqzfNP",
        "outputId": "927ea220-ce81-4363-d6cc-571dca97fe93",
        "colab": {
          "base_uri": "https://localhost:8080/",
          "height": 306
        }
      },
      "source": [
        "Data_Train.head()"
      ],
      "execution_count": 319,
      "outputs": [
        {
          "output_type": "execute_result",
          "data": {
            "text/html": [
              "<div>\n",
              "<style scoped>\n",
              "    .dataframe tbody tr th:only-of-type {\n",
              "        vertical-align: middle;\n",
              "    }\n",
              "\n",
              "    .dataframe tbody tr th {\n",
              "        vertical-align: top;\n",
              "    }\n",
              "\n",
              "    .dataframe thead th {\n",
              "        text-align: right;\n",
              "    }\n",
              "</style>\n",
              "<table border=\"1\" class=\"dataframe\">\n",
              "  <thead>\n",
              "    <tr style=\"text-align: right;\">\n",
              "      <th></th>\n",
              "      <th>Restaurant</th>\n",
              "      <th>Location</th>\n",
              "      <th>Cuisines</th>\n",
              "      <th>Average_Cost</th>\n",
              "      <th>Minimum_Order</th>\n",
              "      <th>Rating</th>\n",
              "      <th>Votes</th>\n",
              "      <th>Reviews</th>\n",
              "      <th>Delivery_Time</th>\n",
              "    </tr>\n",
              "  </thead>\n",
              "  <tbody>\n",
              "    <tr>\n",
              "      <th>0</th>\n",
              "      <td>ID_6321</td>\n",
              "      <td>FTI College, Law College Road, Pune</td>\n",
              "      <td>Fast Food, Rolls, Burger, Salad, Wraps</td>\n",
              "      <td>₹200</td>\n",
              "      <td>₹50</td>\n",
              "      <td>3.5</td>\n",
              "      <td>12</td>\n",
              "      <td>4</td>\n",
              "      <td>30 minutes</td>\n",
              "    </tr>\n",
              "    <tr>\n",
              "      <th>1</th>\n",
              "      <td>ID_2882</td>\n",
              "      <td>Sector 3, Marathalli</td>\n",
              "      <td>Ice Cream, Desserts</td>\n",
              "      <td>₹100</td>\n",
              "      <td>₹50</td>\n",
              "      <td>3.5</td>\n",
              "      <td>11</td>\n",
              "      <td>4</td>\n",
              "      <td>30 minutes</td>\n",
              "    </tr>\n",
              "    <tr>\n",
              "      <th>2</th>\n",
              "      <td>ID_1595</td>\n",
              "      <td>Mumbai Central</td>\n",
              "      <td>Italian, Street Food, Fast Food</td>\n",
              "      <td>₹150</td>\n",
              "      <td>₹50</td>\n",
              "      <td>3.6</td>\n",
              "      <td>99</td>\n",
              "      <td>30</td>\n",
              "      <td>65 minutes</td>\n",
              "    </tr>\n",
              "    <tr>\n",
              "      <th>3</th>\n",
              "      <td>ID_5929</td>\n",
              "      <td>Sector 1, Noida</td>\n",
              "      <td>Mughlai, North Indian, Chinese</td>\n",
              "      <td>₹250</td>\n",
              "      <td>₹99</td>\n",
              "      <td>3.7</td>\n",
              "      <td>176</td>\n",
              "      <td>95</td>\n",
              "      <td>30 minutes</td>\n",
              "    </tr>\n",
              "    <tr>\n",
              "      <th>4</th>\n",
              "      <td>ID_6123</td>\n",
              "      <td>Rmz Centennial, I Gate, Whitefield</td>\n",
              "      <td>Cafe, Beverages</td>\n",
              "      <td>₹200</td>\n",
              "      <td>₹99</td>\n",
              "      <td>3.2</td>\n",
              "      <td>521</td>\n",
              "      <td>235</td>\n",
              "      <td>65 minutes</td>\n",
              "    </tr>\n",
              "  </tbody>\n",
              "</table>\n",
              "</div>"
            ],
            "text/plain": [
              "  Restaurant                             Location  ... Reviews Delivery_Time\n",
              "0    ID_6321  FTI College, Law College Road, Pune  ...       4    30 minutes\n",
              "1    ID_2882                 Sector 3, Marathalli  ...       4    30 minutes\n",
              "2    ID_1595                       Mumbai Central  ...      30    65 minutes\n",
              "3    ID_5929                      Sector 1, Noida  ...      95    30 minutes\n",
              "4    ID_6123   Rmz Centennial, I Gate, Whitefield  ...     235    65 minutes\n",
              "\n",
              "[5 rows x 9 columns]"
            ]
          },
          "metadata": {
            "tags": []
          },
          "execution_count": 319
        }
      ]
    },
    {
      "cell_type": "code",
      "metadata": {
        "colab_type": "code",
        "id": "WrqS19Mzz1bH",
        "outputId": "cb2efe38-8d36-4dab-b313-c7114683f280",
        "colab": {
          "base_uri": "https://localhost:8080/",
          "height": 207
        }
      },
      "source": [
        "Data_Train.describe()"
      ],
      "execution_count": 320,
      "outputs": [
        {
          "output_type": "execute_result",
          "data": {
            "text/html": [
              "<div>\n",
              "<style scoped>\n",
              "    .dataframe tbody tr th:only-of-type {\n",
              "        vertical-align: middle;\n",
              "    }\n",
              "\n",
              "    .dataframe tbody tr th {\n",
              "        vertical-align: top;\n",
              "    }\n",
              "\n",
              "    .dataframe thead th {\n",
              "        text-align: right;\n",
              "    }\n",
              "</style>\n",
              "<table border=\"1\" class=\"dataframe\">\n",
              "  <thead>\n",
              "    <tr style=\"text-align: right;\">\n",
              "      <th></th>\n",
              "      <th>Restaurant</th>\n",
              "      <th>Location</th>\n",
              "      <th>Cuisines</th>\n",
              "      <th>Average_Cost</th>\n",
              "      <th>Minimum_Order</th>\n",
              "      <th>Rating</th>\n",
              "      <th>Votes</th>\n",
              "      <th>Reviews</th>\n",
              "      <th>Delivery_Time</th>\n",
              "    </tr>\n",
              "  </thead>\n",
              "  <tbody>\n",
              "    <tr>\n",
              "      <th>count</th>\n",
              "      <td>11094</td>\n",
              "      <td>11094</td>\n",
              "      <td>11094</td>\n",
              "      <td>11094</td>\n",
              "      <td>11094</td>\n",
              "      <td>11094</td>\n",
              "      <td>11094</td>\n",
              "      <td>11094</td>\n",
              "      <td>11094</td>\n",
              "    </tr>\n",
              "    <tr>\n",
              "      <th>unique</th>\n",
              "      <td>7480</td>\n",
              "      <td>35</td>\n",
              "      <td>2179</td>\n",
              "      <td>26</td>\n",
              "      <td>18</td>\n",
              "      <td>33</td>\n",
              "      <td>1103</td>\n",
              "      <td>761</td>\n",
              "      <td>7</td>\n",
              "    </tr>\n",
              "    <tr>\n",
              "      <th>top</th>\n",
              "      <td>ID_7184</td>\n",
              "      <td>Mico Layout, Stage 2, BTM Layout,Bangalore</td>\n",
              "      <td>North Indian</td>\n",
              "      <td>₹200</td>\n",
              "      <td>₹50</td>\n",
              "      <td>-</td>\n",
              "      <td>-</td>\n",
              "      <td>-</td>\n",
              "      <td>30 minutes</td>\n",
              "    </tr>\n",
              "    <tr>\n",
              "      <th>freq</th>\n",
              "      <td>22</td>\n",
              "      <td>947</td>\n",
              "      <td>850</td>\n",
              "      <td>3241</td>\n",
              "      <td>10118</td>\n",
              "      <td>1191</td>\n",
              "      <td>2074</td>\n",
              "      <td>2312</td>\n",
              "      <td>7406</td>\n",
              "    </tr>\n",
              "  </tbody>\n",
              "</table>\n",
              "</div>"
            ],
            "text/plain": [
              "       Restaurant  ... Delivery_Time\n",
              "count       11094  ...         11094\n",
              "unique       7480  ...             7\n",
              "top       ID_7184  ...    30 minutes\n",
              "freq           22  ...          7406\n",
              "\n",
              "[4 rows x 9 columns]"
            ]
          },
          "metadata": {
            "tags": []
          },
          "execution_count": 320
        }
      ]
    },
    {
      "cell_type": "markdown",
      "metadata": {
        "id": "R2QMi_XLIEDp",
        "colab_type": "text"
      },
      "source": [
        "# Preparing the data"
      ]
    },
    {
      "cell_type": "code",
      "metadata": {
        "colab_type": "code",
        "id": "NCNGltm6zhYq",
        "colab": {}
      },
      "source": [
        "X = Data_Train.copy() #Creating a new copy of Train data"
      ],
      "execution_count": 0,
      "outputs": []
    },
    {
      "cell_type": "code",
      "metadata": {
        "colab_type": "code",
        "id": "3wC8aE8D0O3g",
        "colab": {}
      },
      "source": [
        "#X.dropna(axis=0,subset=['Delivery_Time'],inplace=True)  #Dropping any rows with the predicting feature empty/NaN\n",
        "#y= X.Delivery_Time  #Setting the predicting feature\n",
        "#X.drop(['Delivery_Time'],axis=1,inplace=True) #Removing the Predicting feature from X"
      ],
      "execution_count": 0,
      "outputs": []
    },
    {
      "cell_type": "code",
      "metadata": {
        "id": "jZfQb2xAXB-e",
        "colab_type": "code",
        "colab": {}
      },
      "source": [
        "#X.loc[X.Minimum_Order.isin([\"₹50\"])]"
      ],
      "execution_count": 0,
      "outputs": []
    },
    {
      "cell_type": "code",
      "metadata": {
        "id": "nOrGfZzHl_sq",
        "colab_type": "code",
        "colab": {
          "base_uri": "https://localhost:8080/",
          "height": 68
        },
        "outputId": "53f69ad6-313d-492e-acd3-5ceedaf5554b"
      },
      "source": [
        "X.columns"
      ],
      "execution_count": 324,
      "outputs": [
        {
          "output_type": "execute_result",
          "data": {
            "text/plain": [
              "Index(['Restaurant', 'Location', 'Cuisines', 'Average_Cost', 'Minimum_Order',\n",
              "       'Rating', 'Votes', 'Reviews', 'Delivery_Time'],\n",
              "      dtype='object')"
            ]
          },
          "metadata": {
            "tags": []
          },
          "execution_count": 324
        }
      ]
    },
    {
      "cell_type": "code",
      "metadata": {
        "colab_type": "code",
        "id": "pgKxAVSZ0-XF",
        "outputId": "f2ee66ee-869f-4131-8bb7-1c1e5210cf3b",
        "colab": {
          "base_uri": "https://localhost:8080/",
          "height": 122
        }
      },
      "source": [
        "#features = [\"Location\",\"Average_Cost\",\"Minimum_Order\",\"Rating\",\t\"Votes\", \"Reviews\",\"Delivery_Time\"]\n",
        "features = [\"Location\",\"Rating\",\t\"Votes\", \"Reviews\",\"Delivery_Time\"]\n",
        "X_f = X[features]\n",
        "X_f.dropna(axis=0,subset=features,inplace=True)\n"
      ],
      "execution_count": 325,
      "outputs": [
        {
          "output_type": "stream",
          "text": [
            "/usr/local/lib/python3.6/dist-packages/ipykernel_launcher.py:3: SettingWithCopyWarning: \n",
            "A value is trying to be set on a copy of a slice from a DataFrame\n",
            "\n",
            "See the caveats in the documentation: http://pandas.pydata.org/pandas-docs/stable/user_guide/indexing.html#returning-a-view-versus-a-copy\n",
            "  This is separate from the ipykernel package so we can avoid doing imports until\n"
          ],
          "name": "stderr"
        }
      ]
    },
    {
      "cell_type": "code",
      "metadata": {
        "id": "XD0sHZHkJhUm",
        "colab_type": "code",
        "colab": {
          "base_uri": "https://localhost:8080/",
          "height": 204
        },
        "outputId": "890362ea-82b6-4cba-8c75-22c0e4221b68"
      },
      "source": [
        "X_f.head()"
      ],
      "execution_count": 326,
      "outputs": [
        {
          "output_type": "execute_result",
          "data": {
            "text/html": [
              "<div>\n",
              "<style scoped>\n",
              "    .dataframe tbody tr th:only-of-type {\n",
              "        vertical-align: middle;\n",
              "    }\n",
              "\n",
              "    .dataframe tbody tr th {\n",
              "        vertical-align: top;\n",
              "    }\n",
              "\n",
              "    .dataframe thead th {\n",
              "        text-align: right;\n",
              "    }\n",
              "</style>\n",
              "<table border=\"1\" class=\"dataframe\">\n",
              "  <thead>\n",
              "    <tr style=\"text-align: right;\">\n",
              "      <th></th>\n",
              "      <th>Location</th>\n",
              "      <th>Rating</th>\n",
              "      <th>Votes</th>\n",
              "      <th>Reviews</th>\n",
              "      <th>Delivery_Time</th>\n",
              "    </tr>\n",
              "  </thead>\n",
              "  <tbody>\n",
              "    <tr>\n",
              "      <th>0</th>\n",
              "      <td>FTI College, Law College Road, Pune</td>\n",
              "      <td>3.5</td>\n",
              "      <td>12</td>\n",
              "      <td>4</td>\n",
              "      <td>30 minutes</td>\n",
              "    </tr>\n",
              "    <tr>\n",
              "      <th>1</th>\n",
              "      <td>Sector 3, Marathalli</td>\n",
              "      <td>3.5</td>\n",
              "      <td>11</td>\n",
              "      <td>4</td>\n",
              "      <td>30 minutes</td>\n",
              "    </tr>\n",
              "    <tr>\n",
              "      <th>2</th>\n",
              "      <td>Mumbai Central</td>\n",
              "      <td>3.6</td>\n",
              "      <td>99</td>\n",
              "      <td>30</td>\n",
              "      <td>65 minutes</td>\n",
              "    </tr>\n",
              "    <tr>\n",
              "      <th>3</th>\n",
              "      <td>Sector 1, Noida</td>\n",
              "      <td>3.7</td>\n",
              "      <td>176</td>\n",
              "      <td>95</td>\n",
              "      <td>30 minutes</td>\n",
              "    </tr>\n",
              "    <tr>\n",
              "      <th>4</th>\n",
              "      <td>Rmz Centennial, I Gate, Whitefield</td>\n",
              "      <td>3.2</td>\n",
              "      <td>521</td>\n",
              "      <td>235</td>\n",
              "      <td>65 minutes</td>\n",
              "    </tr>\n",
              "  </tbody>\n",
              "</table>\n",
              "</div>"
            ],
            "text/plain": [
              "                              Location Rating Votes Reviews Delivery_Time\n",
              "0  FTI College, Law College Road, Pune    3.5    12       4    30 minutes\n",
              "1                 Sector 3, Marathalli    3.5    11       4    30 minutes\n",
              "2                       Mumbai Central    3.6    99      30    65 minutes\n",
              "3                      Sector 1, Noida    3.7   176      95    30 minutes\n",
              "4   Rmz Centennial, I Gate, Whitefield    3.2   521     235    65 minutes"
            ]
          },
          "metadata": {
            "tags": []
          },
          "execution_count": 326
        }
      ]
    },
    {
      "cell_type": "code",
      "metadata": {
        "id": "YpYVCw-EJpog",
        "colab_type": "code",
        "colab": {
          "base_uri": "https://localhost:8080/",
          "height": 173
        },
        "outputId": "9d5f199c-028c-4690-ec9c-da08c6c96b58"
      },
      "source": [
        "X_f.describe()"
      ],
      "execution_count": 327,
      "outputs": [
        {
          "output_type": "execute_result",
          "data": {
            "text/html": [
              "<div>\n",
              "<style scoped>\n",
              "    .dataframe tbody tr th:only-of-type {\n",
              "        vertical-align: middle;\n",
              "    }\n",
              "\n",
              "    .dataframe tbody tr th {\n",
              "        vertical-align: top;\n",
              "    }\n",
              "\n",
              "    .dataframe thead th {\n",
              "        text-align: right;\n",
              "    }\n",
              "</style>\n",
              "<table border=\"1\" class=\"dataframe\">\n",
              "  <thead>\n",
              "    <tr style=\"text-align: right;\">\n",
              "      <th></th>\n",
              "      <th>Location</th>\n",
              "      <th>Rating</th>\n",
              "      <th>Votes</th>\n",
              "      <th>Reviews</th>\n",
              "      <th>Delivery_Time</th>\n",
              "    </tr>\n",
              "  </thead>\n",
              "  <tbody>\n",
              "    <tr>\n",
              "      <th>count</th>\n",
              "      <td>11094</td>\n",
              "      <td>11094</td>\n",
              "      <td>11094</td>\n",
              "      <td>11094</td>\n",
              "      <td>11094</td>\n",
              "    </tr>\n",
              "    <tr>\n",
              "      <th>unique</th>\n",
              "      <td>35</td>\n",
              "      <td>33</td>\n",
              "      <td>1103</td>\n",
              "      <td>761</td>\n",
              "      <td>7</td>\n",
              "    </tr>\n",
              "    <tr>\n",
              "      <th>top</th>\n",
              "      <td>Mico Layout, Stage 2, BTM Layout,Bangalore</td>\n",
              "      <td>-</td>\n",
              "      <td>-</td>\n",
              "      <td>-</td>\n",
              "      <td>30 minutes</td>\n",
              "    </tr>\n",
              "    <tr>\n",
              "      <th>freq</th>\n",
              "      <td>947</td>\n",
              "      <td>1191</td>\n",
              "      <td>2074</td>\n",
              "      <td>2312</td>\n",
              "      <td>7406</td>\n",
              "    </tr>\n",
              "  </tbody>\n",
              "</table>\n",
              "</div>"
            ],
            "text/plain": [
              "                                          Location Rating  ... Reviews Delivery_Time\n",
              "count                                        11094  11094  ...   11094         11094\n",
              "unique                                          35     33  ...     761             7\n",
              "top     Mico Layout, Stage 2, BTM Layout,Bangalore      -  ...       -    30 minutes\n",
              "freq                                           947   1191  ...    2312          7406\n",
              "\n",
              "[4 rows x 5 columns]"
            ]
          },
          "metadata": {
            "tags": []
          },
          "execution_count": 327
        }
      ]
    },
    {
      "cell_type": "code",
      "metadata": {
        "id": "g5NjHpIXmD3o",
        "colab_type": "code",
        "colab": {}
      },
      "source": [
        "locations = X.Location"
      ],
      "execution_count": 0,
      "outputs": []
    },
    {
      "cell_type": "code",
      "metadata": {
        "id": "RHutUCPSmKRz",
        "colab_type": "code",
        "colab": {}
      },
      "source": [
        "locations = locations.astype(\"str\")"
      ],
      "execution_count": 0,
      "outputs": []
    },
    {
      "cell_type": "code",
      "metadata": {
        "id": "-O3qErGxmSAV",
        "colab_type": "code",
        "colab": {}
      },
      "source": [
        "l = locations[0]"
      ],
      "execution_count": 0,
      "outputs": []
    },
    {
      "cell_type": "code",
      "metadata": {
        "id": "J325nGkAmdVs",
        "colab_type": "code",
        "colab": {
          "base_uri": "https://localhost:8080/",
          "height": 51
        },
        "outputId": "8fb44844-14e8-4cf0-e2dd-f21f734e36d8"
      },
      "source": [
        "print(l.rsplit(sep=\", \"))\n",
        "city = l.rsplit(sep=\", \")[-1]\n",
        "print(city)"
      ],
      "execution_count": 331,
      "outputs": [
        {
          "output_type": "stream",
          "text": [
            "['FTI College', 'Law College Road', 'Pune']\n",
            "Pune\n"
          ],
          "name": "stdout"
        }
      ]
    },
    {
      "cell_type": "code",
      "metadata": {
        "id": "PonogcAzm8BI",
        "colab_type": "code",
        "colab": {}
      },
      "source": [
        "def getCity(X_Locations):\n",
        "  X_Locations = X_Locations.astype(\"str\")\n",
        "  city = []\n",
        "  for l in X_Locations:\n",
        "    city.append(l.rsplit(sep = \", \")[-1])\n",
        "  return city"
      ],
      "execution_count": 0,
      "outputs": []
    },
    {
      "cell_type": "code",
      "metadata": {
        "id": "XLSYU3I2l8lD",
        "colab_type": "code",
        "colab": {
          "base_uri": "https://localhost:8080/",
          "height": 139
        },
        "outputId": "b3862cf8-4a2e-45dc-a7ee-50a47a307a22"
      },
      "source": [
        "from sklearn import preprocessing\n",
        "le = preprocessing.LabelEncoder()\n",
        "\n",
        "city = getCity(X_f.Location)\n",
        "#le.fit(city)\n",
        "X_f[\"City\"] = le.fit_transform(city)\n",
        "X_f = X_f.drop(\"Location\",axis=1)"
      ],
      "execution_count": 333,
      "outputs": [
        {
          "output_type": "stream",
          "text": [
            "/usr/local/lib/python3.6/dist-packages/ipykernel_launcher.py:6: SettingWithCopyWarning: \n",
            "A value is trying to be set on a copy of a slice from a DataFrame.\n",
            "Try using .loc[row_indexer,col_indexer] = value instead\n",
            "\n",
            "See the caveats in the documentation: http://pandas.pydata.org/pandas-docs/stable/user_guide/indexing.html#returning-a-view-versus-a-copy\n",
            "  \n"
          ],
          "name": "stderr"
        }
      ]
    },
    {
      "cell_type": "code",
      "metadata": {
        "id": "fedA41POoCz8",
        "colab_type": "code",
        "colab": {
          "base_uri": "https://localhost:8080/",
          "height": 204
        },
        "outputId": "a65a4326-ede3-44fa-8bab-8d03ee784849"
      },
      "source": [
        "X_f.head()"
      ],
      "execution_count": 334,
      "outputs": [
        {
          "output_type": "execute_result",
          "data": {
            "text/html": [
              "<div>\n",
              "<style scoped>\n",
              "    .dataframe tbody tr th:only-of-type {\n",
              "        vertical-align: middle;\n",
              "    }\n",
              "\n",
              "    .dataframe tbody tr th {\n",
              "        vertical-align: top;\n",
              "    }\n",
              "\n",
              "    .dataframe thead th {\n",
              "        text-align: right;\n",
              "    }\n",
              "</style>\n",
              "<table border=\"1\" class=\"dataframe\">\n",
              "  <thead>\n",
              "    <tr style=\"text-align: right;\">\n",
              "      <th></th>\n",
              "      <th>Rating</th>\n",
              "      <th>Votes</th>\n",
              "      <th>Reviews</th>\n",
              "      <th>Delivery_Time</th>\n",
              "      <th>City</th>\n",
              "    </tr>\n",
              "  </thead>\n",
              "  <tbody>\n",
              "    <tr>\n",
              "      <th>0</th>\n",
              "      <td>3.5</td>\n",
              "      <td>12</td>\n",
              "      <td>4</td>\n",
              "      <td>30 minutes</td>\n",
              "      <td>17</td>\n",
              "    </tr>\n",
              "    <tr>\n",
              "      <th>1</th>\n",
              "      <td>3.5</td>\n",
              "      <td>11</td>\n",
              "      <td>4</td>\n",
              "      <td>30 minutes</td>\n",
              "      <td>12</td>\n",
              "    </tr>\n",
              "    <tr>\n",
              "      <th>2</th>\n",
              "      <td>3.6</td>\n",
              "      <td>99</td>\n",
              "      <td>30</td>\n",
              "      <td>65 minutes</td>\n",
              "      <td>15</td>\n",
              "    </tr>\n",
              "    <tr>\n",
              "      <th>3</th>\n",
              "      <td>3.7</td>\n",
              "      <td>176</td>\n",
              "      <td>95</td>\n",
              "      <td>30 minutes</td>\n",
              "      <td>16</td>\n",
              "    </tr>\n",
              "    <tr>\n",
              "      <th>4</th>\n",
              "      <td>3.2</td>\n",
              "      <td>521</td>\n",
              "      <td>235</td>\n",
              "      <td>65 minutes</td>\n",
              "      <td>21</td>\n",
              "    </tr>\n",
              "  </tbody>\n",
              "</table>\n",
              "</div>"
            ],
            "text/plain": [
              "  Rating Votes Reviews Delivery_Time  City\n",
              "0    3.5    12       4    30 minutes    17\n",
              "1    3.5    11       4    30 minutes    12\n",
              "2    3.6    99      30    65 minutes    15\n",
              "3    3.7   176      95    30 minutes    16\n",
              "4    3.2   521     235    65 minutes    21"
            ]
          },
          "metadata": {
            "tags": []
          },
          "execution_count": 334
        }
      ]
    },
    {
      "cell_type": "code",
      "metadata": {
        "colab_type": "code",
        "id": "SkoO_3qi2MZ8",
        "colab": {
          "base_uri": "https://localhost:8080/",
          "height": 54
        },
        "outputId": "86cf8759-af17-49d8-d6c5-86d057183b34"
      },
      "source": [
        "X_f.Rating.replace([\"NEW\",\"-\",\"Opening Soon\",'Temporarily Closed'],2.5,inplace=True)\n",
        "X_f.Votes.replace([\"-\"],0,inplace=True)\n",
        "X_f.Reviews.replace([\"-\"],0,inplace=True)\n",
        "'''\n",
        "for col in X_f.index:\n",
        "  s = str(X_f.Average_Cost[col])\n",
        "  if s.isalpha():\n",
        "    print(\"Average cost has a non numeric value \",s)\n",
        "    X_f.drop(index=col,axis=0,inplace=True)\n",
        "    continue\n",
        "  \n",
        "  X_f.Average_Cost[col]=X_f.Average_Cost[col].replace(\"₹\",\"\")\n",
        "  X_f.Average_Cost[col]=X_f.Average_Cost[col].replace(\",\",\"\")\n",
        "  X_f.Minimum_Order[col]=X_f.Minimum_Order[col].replace(\"₹\",\"\")\n",
        "  X_f.Minimum_Order[col]=X_f.Minimum_Order[col].replace(\",\",\"\")\n",
        "'''\n"
      ],
      "execution_count": 335,
      "outputs": [
        {
          "output_type": "execute_result",
          "data": {
            "text/plain": [
              "'\\nfor col in X_f.index:\\n  s = str(X_f.Average_Cost[col])\\n  if s.isalpha():\\n    print(\"Average cost has a non numeric value \",s)\\n    X_f.drop(index=col,axis=0,inplace=True)\\n    continue\\n  \\n  X_f.Average_Cost[col]=X_f.Average_Cost[col].replace(\"₹\",\"\")\\n  X_f.Average_Cost[col]=X_f.Average_Cost[col].replace(\",\",\"\")\\n  X_f.Minimum_Order[col]=X_f.Minimum_Order[col].replace(\"₹\",\"\")\\n  X_f.Minimum_Order[col]=X_f.Minimum_Order[col].replace(\",\",\"\")\\n'"
            ]
          },
          "metadata": {
            "tags": []
          },
          "execution_count": 335
        }
      ]
    },
    {
      "cell_type": "code",
      "metadata": {
        "colab_type": "code",
        "id": "-JngNYHT7BvG",
        "outputId": "f5b5a7c7-7d32-4910-885e-7e83f4e5c15f",
        "colab": {
          "base_uri": "https://localhost:8080/",
          "height": 419
        }
      },
      "source": [
        "X_f"
      ],
      "execution_count": 336,
      "outputs": [
        {
          "output_type": "execute_result",
          "data": {
            "text/html": [
              "<div>\n",
              "<style scoped>\n",
              "    .dataframe tbody tr th:only-of-type {\n",
              "        vertical-align: middle;\n",
              "    }\n",
              "\n",
              "    .dataframe tbody tr th {\n",
              "        vertical-align: top;\n",
              "    }\n",
              "\n",
              "    .dataframe thead th {\n",
              "        text-align: right;\n",
              "    }\n",
              "</style>\n",
              "<table border=\"1\" class=\"dataframe\">\n",
              "  <thead>\n",
              "    <tr style=\"text-align: right;\">\n",
              "      <th></th>\n",
              "      <th>Rating</th>\n",
              "      <th>Votes</th>\n",
              "      <th>Reviews</th>\n",
              "      <th>Delivery_Time</th>\n",
              "      <th>City</th>\n",
              "    </tr>\n",
              "  </thead>\n",
              "  <tbody>\n",
              "    <tr>\n",
              "      <th>0</th>\n",
              "      <td>3.5</td>\n",
              "      <td>12</td>\n",
              "      <td>4</td>\n",
              "      <td>30 minutes</td>\n",
              "      <td>17</td>\n",
              "    </tr>\n",
              "    <tr>\n",
              "      <th>1</th>\n",
              "      <td>3.5</td>\n",
              "      <td>11</td>\n",
              "      <td>4</td>\n",
              "      <td>30 minutes</td>\n",
              "      <td>12</td>\n",
              "    </tr>\n",
              "    <tr>\n",
              "      <th>2</th>\n",
              "      <td>3.6</td>\n",
              "      <td>99</td>\n",
              "      <td>30</td>\n",
              "      <td>65 minutes</td>\n",
              "      <td>15</td>\n",
              "    </tr>\n",
              "    <tr>\n",
              "      <th>3</th>\n",
              "      <td>3.7</td>\n",
              "      <td>176</td>\n",
              "      <td>95</td>\n",
              "      <td>30 minutes</td>\n",
              "      <td>16</td>\n",
              "    </tr>\n",
              "    <tr>\n",
              "      <th>4</th>\n",
              "      <td>3.2</td>\n",
              "      <td>521</td>\n",
              "      <td>235</td>\n",
              "      <td>65 minutes</td>\n",
              "      <td>21</td>\n",
              "    </tr>\n",
              "    <tr>\n",
              "      <th>...</th>\n",
              "      <td>...</td>\n",
              "      <td>...</td>\n",
              "      <td>...</td>\n",
              "      <td>...</td>\n",
              "      <td>...</td>\n",
              "    </tr>\n",
              "    <tr>\n",
              "      <th>11089</th>\n",
              "      <td>4.2</td>\n",
              "      <td>326</td>\n",
              "      <td>189</td>\n",
              "      <td>30 minutes</td>\n",
              "      <td>5</td>\n",
              "    </tr>\n",
              "    <tr>\n",
              "      <th>11090</th>\n",
              "      <td>3.6</td>\n",
              "      <td>36</td>\n",
              "      <td>16</td>\n",
              "      <td>30 minutes</td>\n",
              "      <td>16</td>\n",
              "    </tr>\n",
              "    <tr>\n",
              "      <th>11091</th>\n",
              "      <td>3.5</td>\n",
              "      <td>45</td>\n",
              "      <td>18</td>\n",
              "      <td>30 minutes</td>\n",
              "      <td>11</td>\n",
              "    </tr>\n",
              "    <tr>\n",
              "      <th>11092</th>\n",
              "      <td>3.1</td>\n",
              "      <td>24</td>\n",
              "      <td>9</td>\n",
              "      <td>30 minutes</td>\n",
              "      <td>12</td>\n",
              "    </tr>\n",
              "    <tr>\n",
              "      <th>11093</th>\n",
              "      <td>2.5</td>\n",
              "      <td>0</td>\n",
              "      <td>0</td>\n",
              "      <td>30 minutes</td>\n",
              "      <td>19</td>\n",
              "    </tr>\n",
              "  </tbody>\n",
              "</table>\n",
              "<p>11094 rows × 5 columns</p>\n",
              "</div>"
            ],
            "text/plain": [
              "      Rating Votes Reviews Delivery_Time  City\n",
              "0        3.5    12       4    30 minutes    17\n",
              "1        3.5    11       4    30 minutes    12\n",
              "2        3.6    99      30    65 minutes    15\n",
              "3        3.7   176      95    30 minutes    16\n",
              "4        3.2   521     235    65 minutes    21\n",
              "...      ...   ...     ...           ...   ...\n",
              "11089    4.2   326     189    30 minutes     5\n",
              "11090    3.6    36      16    30 minutes    16\n",
              "11091    3.5    45      18    30 minutes    11\n",
              "11092    3.1    24       9    30 minutes    12\n",
              "11093    2.5     0       0    30 minutes    19\n",
              "\n",
              "[11094 rows x 5 columns]"
            ]
          },
          "metadata": {
            "tags": []
          },
          "execution_count": 336
        }
      ]
    },
    {
      "cell_type": "code",
      "metadata": {
        "colab_type": "code",
        "id": "xbN_OHXz7R6F",
        "outputId": "f94d10a1-ac96-4de0-cdb2-93e81af3c465",
        "colab": {
          "base_uri": "https://localhost:8080/",
          "height": 102
        }
      },
      "source": [
        "y_f = X_f.Delivery_Time\n",
        "X_f.drop([\"Delivery_Time\"],axis=1,inplace=True)\n",
        "X_f.astype(\"float32\").dtypes"
      ],
      "execution_count": 337,
      "outputs": [
        {
          "output_type": "execute_result",
          "data": {
            "text/plain": [
              "Rating     float32\n",
              "Votes      float32\n",
              "Reviews    float32\n",
              "City       float32\n",
              "dtype: object"
            ]
          },
          "metadata": {
            "tags": []
          },
          "execution_count": 337
        }
      ]
    },
    {
      "cell_type": "code",
      "metadata": {
        "id": "793NswuHF_lV",
        "colab_type": "code",
        "colab": {
          "base_uri": "https://localhost:8080/",
          "height": 34
        },
        "outputId": "6ff9758f-fbf4-4515-b76b-3ae39ecbb5c9"
      },
      "source": [
        "X_f.shape"
      ],
      "execution_count": 338,
      "outputs": [
        {
          "output_type": "execute_result",
          "data": {
            "text/plain": [
              "(11094, 4)"
            ]
          },
          "metadata": {
            "tags": []
          },
          "execution_count": 338
        }
      ]
    },
    {
      "cell_type": "code",
      "metadata": {
        "colab_type": "code",
        "id": "fgNIAsmd7ph-",
        "outputId": "1d10aad6-9a5d-4090-de23-bb62bcdc9021",
        "colab": {
          "base_uri": "https://localhost:8080/",
          "height": 221
        }
      },
      "source": [
        "y_f"
      ],
      "execution_count": 339,
      "outputs": [
        {
          "output_type": "execute_result",
          "data": {
            "text/plain": [
              "0        30 minutes\n",
              "1        30 minutes\n",
              "2        65 minutes\n",
              "3        30 minutes\n",
              "4        65 minutes\n",
              "            ...    \n",
              "11089    30 minutes\n",
              "11090    30 minutes\n",
              "11091    30 minutes\n",
              "11092    30 minutes\n",
              "11093    30 minutes\n",
              "Name: Delivery_Time, Length: 11094, dtype: object"
            ]
          },
          "metadata": {
            "tags": []
          },
          "execution_count": 339
        }
      ]
    },
    {
      "cell_type": "code",
      "metadata": {
        "colab_type": "code",
        "id": "36s7Txdf9yH6",
        "outputId": "ad133e0f-784b-4ee9-fa0b-24a9e91ac789",
        "colab": {
          "base_uri": "https://localhost:8080/",
          "height": 34
        }
      },
      "source": [
        "print(y_rating[0].replace(\"minutes\",\"\"))"
      ],
      "execution_count": 340,
      "outputs": [
        {
          "output_type": "stream",
          "text": [
            "30 \n"
          ],
          "name": "stdout"
        }
      ]
    },
    {
      "cell_type": "code",
      "metadata": {
        "colab_type": "code",
        "id": "ranjx0B497CS",
        "colab": {
          "base_uri": "https://localhost:8080/",
          "height": 122
        },
        "outputId": "8d714e33-92f3-4767-9322-1aa37f20496b"
      },
      "source": [
        "for col in y_f.index:\n",
        "  y_f[col]=y_f[col].replace(\"minutes\",\"\")"
      ],
      "execution_count": 341,
      "outputs": [
        {
          "output_type": "stream",
          "text": [
            "/usr/local/lib/python3.6/dist-packages/ipykernel_launcher.py:2: SettingWithCopyWarning: \n",
            "A value is trying to be set on a copy of a slice from a DataFrame\n",
            "\n",
            "See the caveats in the documentation: http://pandas.pydata.org/pandas-docs/stable/user_guide/indexing.html#returning-a-view-versus-a-copy\n",
            "  \n"
          ],
          "name": "stderr"
        }
      ]
    },
    {
      "cell_type": "code",
      "metadata": {
        "colab_type": "code",
        "id": "noM8zqNr-6n8",
        "outputId": "72c3fba0-8486-4c12-9a6e-16fe08242470",
        "colab": {
          "base_uri": "https://localhost:8080/",
          "height": 221
        }
      },
      "source": [
        "y_f"
      ],
      "execution_count": 342,
      "outputs": [
        {
          "output_type": "execute_result",
          "data": {
            "text/plain": [
              "0        30 \n",
              "1        30 \n",
              "2        65 \n",
              "3        30 \n",
              "4        65 \n",
              "        ... \n",
              "11089    30 \n",
              "11090    30 \n",
              "11091    30 \n",
              "11092    30 \n",
              "11093    30 \n",
              "Name: Delivery_Time, Length: 11094, dtype: object"
            ]
          },
          "metadata": {
            "tags": []
          },
          "execution_count": 342
        }
      ]
    },
    {
      "cell_type": "code",
      "metadata": {
        "colab_type": "code",
        "id": "7oKO66QG_hyc",
        "outputId": "355465ae-10e3-40fa-c21d-dcace4c2b64d",
        "colab": {
          "base_uri": "https://localhost:8080/",
          "height": 34
        }
      },
      "source": [
        "y_f.astype(\"int32\").dtypes"
      ],
      "execution_count": 343,
      "outputs": [
        {
          "output_type": "execute_result",
          "data": {
            "text/plain": [
              "dtype('int32')"
            ]
          },
          "metadata": {
            "tags": []
          },
          "execution_count": 343
        }
      ]
    },
    {
      "cell_type": "code",
      "metadata": {
        "id": "y3K62SUHLgih",
        "colab_type": "code",
        "colab": {}
      },
      "source": [
        "from sklearn.model_selection import train_test_split\n",
        "X_train,X_valid,y_train,y_valid = train_test_split(X_f,y_f)"
      ],
      "execution_count": 0,
      "outputs": []
    },
    {
      "cell_type": "markdown",
      "metadata": {
        "id": "Zs3HL9nhLOqD",
        "colab_type": "text"
      },
      "source": [
        "# Modelling"
      ]
    },
    {
      "cell_type": "code",
      "metadata": {
        "colab_type": "code",
        "id": "q2ojHu8XAm25",
        "colab": {
          "base_uri": "https://localhost:8080/",
          "height": 136
        },
        "outputId": "56300708-e9bd-4ed3-cef5-83bc9cc52571"
      },
      "source": [
        "from sklearn.ensemble import RandomForestRegressor\n",
        "model_1 = RandomForestRegressor(n_estimators=500,random_state=1)\n",
        "model_1.fit(X_train,y_train)"
      ],
      "execution_count": 345,
      "outputs": [
        {
          "output_type": "execute_result",
          "data": {
            "text/plain": [
              "RandomForestRegressor(bootstrap=True, criterion='mse', max_depth=None,\n",
              "                      max_features='auto', max_leaf_nodes=None,\n",
              "                      min_impurity_decrease=0.0, min_impurity_split=None,\n",
              "                      min_samples_leaf=1, min_samples_split=2,\n",
              "                      min_weight_fraction_leaf=0.0, n_estimators=500,\n",
              "                      n_jobs=None, oob_score=False, random_state=1, verbose=0,\n",
              "                      warm_start=False)"
            ]
          },
          "metadata": {
            "tags": []
          },
          "execution_count": 345
        }
      ]
    },
    {
      "cell_type": "code",
      "metadata": {
        "colab_type": "code",
        "id": "pwNM44voAyIJ",
        "colab": {}
      },
      "source": [
        "pred = model_1.predict(X_valid)"
      ],
      "execution_count": 0,
      "outputs": []
    },
    {
      "cell_type": "code",
      "metadata": {
        "colab_type": "code",
        "id": "dS_jnYkKB0J_",
        "colab": {}
      },
      "source": [
        "from sklearn.metrics import mean_absolute_error\n",
        "score = mean_absolute_error(pred,y_valid)"
      ],
      "execution_count": 0,
      "outputs": []
    },
    {
      "cell_type": "code",
      "metadata": {
        "colab_type": "code",
        "id": "2_6ROppsB08K",
        "outputId": "95e04432-e0b6-4775-b981-c2664cd45bab",
        "colab": {
          "base_uri": "https://localhost:8080/",
          "height": 34
        }
      },
      "source": [
        "score"
      ],
      "execution_count": 348,
      "outputs": [
        {
          "output_type": "execute_result",
          "data": {
            "text/plain": [
              "0.0005912040374909867"
            ]
          },
          "metadata": {
            "tags": []
          },
          "execution_count": 348
        }
      ]
    },
    {
      "cell_type": "code",
      "metadata": {
        "colab_type": "code",
        "id": "O3K1A5geDZBK",
        "colab": {}
      },
      "source": [
        "def getScores(n_est,X_train,y_train,X_valid,y_valid):\n",
        "  scores = {}\n",
        "  for k in n_est:\n",
        "    model = RandomForestRegressor(n_estimators=k,random_state=1)\n",
        "    model.fit(X_train,y_train)\n",
        "    preds = model.predict(X_valid)\n",
        "    score = mean_absolute_error(preds,y_valid)\n",
        "    scores[k]=score\n",
        "  return scores"
      ],
      "execution_count": 0,
      "outputs": []
    },
    {
      "cell_type": "code",
      "metadata": {
        "colab_type": "code",
        "id": "tK8BscZdDUwX",
        "colab": {}
      },
      "source": [
        "n_est = [50,100,150,200,500,1000,1500,2000]\n",
        "scores = getScores(n_est, X_train, y_train, X_valid, y_valid)"
      ],
      "execution_count": 0,
      "outputs": []
    },
    {
      "cell_type": "code",
      "metadata": {
        "colab_type": "code",
        "id": "sKDyCfiT18Fq",
        "outputId": "65a6839b-e901-4eeb-be7c-48f33111ca13",
        "colab": {
          "base_uri": "https://localhost:8080/",
          "height": 153
        }
      },
      "source": [
        "scores"
      ],
      "execution_count": 351,
      "outputs": [
        {
          "output_type": "execute_result",
          "data": {
            "text/plain": [
              "{50: 0.0003604902667627974,\n",
              " 100: 0.0003604902667627974,\n",
              " 150: 0.0005046863734679165,\n",
              " 200: 0.0005046863734679171,\n",
              " 500: 0.0005912040374909867,\n",
              " 1000: 0.000544340302811824,\n",
              " 1500: 0.0004998798365777457,\n",
              " 2000: 0.0004983777937995547}"
            ]
          },
          "metadata": {
            "tags": []
          },
          "execution_count": 351
        }
      ]
    },
    {
      "cell_type": "code",
      "metadata": {
        "id": "xf5sdhWSsFiO",
        "colab_type": "code",
        "colab": {
          "base_uri": "https://localhost:8080/",
          "height": 34
        },
        "outputId": "a7409b84-53a4-4aeb-bd2a-5a34183bc961"
      },
      "source": [
        "0.0002162941600576783 < 0.00021629416005767896"
      ],
      "execution_count": 352,
      "outputs": [
        {
          "output_type": "execute_result",
          "data": {
            "text/plain": [
              "True"
            ]
          },
          "metadata": {
            "tags": []
          },
          "execution_count": 352
        }
      ]
    },
    {
      "cell_type": "code",
      "metadata": {
        "id": "JfsAcJMhp-fd",
        "colab_type": "code",
        "colab": {
          "base_uri": "https://localhost:8080/",
          "height": 34
        },
        "outputId": "a1966edf-cc19-44c4-c16d-810b32d0a405"
      },
      "source": [
        "X_f.columns"
      ],
      "execution_count": 353,
      "outputs": [
        {
          "output_type": "execute_result",
          "data": {
            "text/plain": [
              "Index(['Rating', 'Votes', 'Reviews', 'City', 'Delivery_Time'], dtype='object')"
            ]
          },
          "metadata": {
            "tags": []
          },
          "execution_count": 353
        }
      ]
    },
    {
      "cell_type": "code",
      "metadata": {
        "id": "Pbr56-9DqNyI",
        "colab_type": "code",
        "colab": {
          "base_uri": "https://localhost:8080/",
          "height": 34
        },
        "outputId": "cb1cbf1e-c525-47f8-e279-62810bb556e8"
      },
      "source": [
        "if \"Delivery_Time\" in X_f.columns:\n",
        "  print(\"hi\")"
      ],
      "execution_count": 354,
      "outputs": [
        {
          "output_type": "stream",
          "text": [
            "hi\n"
          ],
          "name": "stdout"
        }
      ]
    },
    {
      "cell_type": "code",
      "metadata": {
        "colab_type": "code",
        "id": "2w7bJXS42bVG",
        "colab": {
          "base_uri": "https://localhost:8080/",
          "height": 102
        },
        "outputId": "27c7111e-317b-462b-fc5a-fe8fbde56965"
      },
      "source": [
        "model_test = RandomForestRegressor(n_estimators=200,random_state=1)  #choosing the best n_est\n",
        "if \"Delivery_Time\" in X_f.columns:\n",
        "  X_f.drop([\"Delivery_Time\"],axis=1,inplace=True)\n",
        "model_test.fit(X_f,y_f) #fitting on the complete Training data\n",
        "X_test = Data_Test.copy()\n",
        "if \"Delivery_Time\" in features:\n",
        "  features.remove(\"Delivery_Time\")\n",
        "X_test = X_test[features]\n",
        "city = getCity(X_test.Location)\n",
        "#le.fit(city)\n",
        "X_test[\"City\"] = le.fit_transform(city)\n",
        "X_test = X_test.drop(\"Location\",axis=1)\n",
        "X_test.Rating.replace([\"NEW\",\"-\",\"Opening Soon\",'Temporarily Closed'],2.5,inplace=True)\n",
        "X_test.Votes.replace([\"-\"],0,inplace=True)\n",
        "X_test.Reviews.replace([\"-\"],0,inplace=True)\n",
        "'''\n",
        "for col in X_test.index:\n",
        "  s = str(X_test.Average_Cost[col])\n",
        "  if s.isalpha():\n",
        "    print(\"Average cost has a non numeric value \",s)\n",
        "    X_test.drop(index=col,axis=0,inplace=True)\n",
        "    continue\n",
        "  \n",
        "  X_test.Average_Cost[col]=X_test.Average_Cost[col].replace(\"₹\",\"\")\n",
        "  X_test.Average_Cost[col]=X_test.Average_Cost[col].replace(\",\",\"\")\n",
        "  X_test.Minimum_Order[col]=X_test.Minimum_Order[col].replace(\"₹\",\"\")\n",
        "  X_test.Minimum_Order[col]=X_test.Minimum_Order[col].replace(\",\",\"\")\n",
        "'''\n",
        "X_test.astype(\"float32\").dtypes"
      ],
      "execution_count": 355,
      "outputs": [
        {
          "output_type": "execute_result",
          "data": {
            "text/plain": [
              "Rating     float32\n",
              "Votes      float32\n",
              "Reviews    float32\n",
              "City       float32\n",
              "dtype: object"
            ]
          },
          "metadata": {
            "tags": []
          },
          "execution_count": 355
        }
      ]
    },
    {
      "cell_type": "code",
      "metadata": {
        "id": "Vf61UTpnF_nD",
        "colab_type": "code",
        "colab": {
          "base_uri": "https://localhost:8080/",
          "height": 204
        },
        "outputId": "a4f6b534-d4b3-4b97-dc22-23caa6417a56"
      },
      "source": [
        "X_test.head()"
      ],
      "execution_count": 356,
      "outputs": [
        {
          "output_type": "execute_result",
          "data": {
            "text/html": [
              "<div>\n",
              "<style scoped>\n",
              "    .dataframe tbody tr th:only-of-type {\n",
              "        vertical-align: middle;\n",
              "    }\n",
              "\n",
              "    .dataframe tbody tr th {\n",
              "        vertical-align: top;\n",
              "    }\n",
              "\n",
              "    .dataframe thead th {\n",
              "        text-align: right;\n",
              "    }\n",
              "</style>\n",
              "<table border=\"1\" class=\"dataframe\">\n",
              "  <thead>\n",
              "    <tr style=\"text-align: right;\">\n",
              "      <th></th>\n",
              "      <th>Rating</th>\n",
              "      <th>Votes</th>\n",
              "      <th>Reviews</th>\n",
              "      <th>City</th>\n",
              "    </tr>\n",
              "  </thead>\n",
              "  <tbody>\n",
              "    <tr>\n",
              "      <th>0</th>\n",
              "      <td>4.2</td>\n",
              "      <td>361</td>\n",
              "      <td>225</td>\n",
              "      <td>0</td>\n",
              "    </tr>\n",
              "    <tr>\n",
              "      <th>1</th>\n",
              "      <td>2.5</td>\n",
              "      <td>0</td>\n",
              "      <td>0</td>\n",
              "      <td>0</td>\n",
              "    </tr>\n",
              "    <tr>\n",
              "      <th>2</th>\n",
              "      <td>3.6</td>\n",
              "      <td>36</td>\n",
              "      <td>16</td>\n",
              "      <td>16</td>\n",
              "    </tr>\n",
              "    <tr>\n",
              "      <th>3</th>\n",
              "      <td>3.6</td>\n",
              "      <td>66</td>\n",
              "      <td>33</td>\n",
              "      <td>2</td>\n",
              "    </tr>\n",
              "    <tr>\n",
              "      <th>4</th>\n",
              "      <td>2.9</td>\n",
              "      <td>38</td>\n",
              "      <td>14</td>\n",
              "      <td>16</td>\n",
              "    </tr>\n",
              "  </tbody>\n",
              "</table>\n",
              "</div>"
            ],
            "text/plain": [
              "  Rating Votes Reviews  City\n",
              "0    4.2   361     225     0\n",
              "1    2.5     0       0     0\n",
              "2    3.6    36      16    16\n",
              "3    3.6    66      33     2\n",
              "4    2.9    38      14    16"
            ]
          },
          "metadata": {
            "tags": []
          },
          "execution_count": 356
        }
      ]
    },
    {
      "cell_type": "code",
      "metadata": {
        "id": "Juge2RXFF_nK",
        "colab_type": "code",
        "colab": {}
      },
      "source": [
        "#import numpy as np\n",
        "#X_test = np.array(X_test)\n",
        "#X_test = X_test.reshape(-1,1)"
      ],
      "execution_count": 0,
      "outputs": []
    },
    {
      "cell_type": "code",
      "metadata": {
        "id": "diUZBR1lF_nW",
        "colab_type": "code",
        "colab": {
          "base_uri": "https://localhost:8080/",
          "height": 34
        },
        "outputId": "61ac7593-8a86-4d43-e1a4-4258da5173d9"
      },
      "source": [
        "X_test.shape"
      ],
      "execution_count": 358,
      "outputs": [
        {
          "output_type": "execute_result",
          "data": {
            "text/plain": [
              "(2774, 4)"
            ]
          },
          "metadata": {
            "tags": []
          },
          "execution_count": 358
        }
      ]
    },
    {
      "cell_type": "code",
      "metadata": {
        "id": "afZkdHRcF_nf",
        "colab_type": "code",
        "colab": {}
      },
      "source": [
        "predictions_test = model_test.predict(X_test)"
      ],
      "execution_count": 0,
      "outputs": []
    },
    {
      "cell_type": "markdown",
      "metadata": {
        "id": "IbUDC_ZeOD6r",
        "colab_type": "text"
      },
      "source": [
        "# Converting time multiples of 5"
      ]
    },
    {
      "cell_type": "code",
      "metadata": {
        "id": "tilO-J1RF_nj",
        "colab_type": "code",
        "colab": {}
      },
      "source": [
        "import math\n",
        "pred_minutes = []\n",
        "for p in predictions_test:\n",
        "    time = math.ceil(p)\n",
        "    d = time // 5\n",
        "    time = d * 5\n",
        "    pred_minutes.append(str(time) + \" minutes\")"
      ],
      "execution_count": 0,
      "outputs": []
    },
    {
      "cell_type": "code",
      "metadata": {
        "id": "Xoja4qTDF_nx",
        "colab_type": "code",
        "colab": {}
      },
      "source": [
        "#pred_minutes"
      ],
      "execution_count": 0,
      "outputs": []
    },
    {
      "cell_type": "markdown",
      "metadata": {
        "id": "n2BJQCrBOTJO",
        "colab_type": "text"
      },
      "source": [
        "# Creating a submission excel file"
      ]
    },
    {
      "cell_type": "code",
      "metadata": {
        "colab_type": "code",
        "id": "S_FjzVMvB_dD",
        "colab": {}
      },
      "source": [
        "output = pd.DataFrame({'Delivery_Time':pred_minutes})"
      ],
      "execution_count": 0,
      "outputs": []
    },
    {
      "cell_type": "code",
      "metadata": {
        "colab_type": "code",
        "id": "nB4-lCEfDOoK",
        "colab": {}
      },
      "source": [
        "output.to_excel(\"Submission_6.xlsx\",index=False)"
      ],
      "execution_count": 0,
      "outputs": []
    },
    {
      "cell_type": "code",
      "metadata": {
        "id": "vLcxoIFjlxI6",
        "colab_type": "code",
        "colab": {}
      },
      "source": [
        ""
      ],
      "execution_count": 0,
      "outputs": []
    }
  ]
}