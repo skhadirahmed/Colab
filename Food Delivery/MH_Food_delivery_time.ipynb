{
 "cells": [
  {
   "cell_type": "code",
   "execution_count": 1,
   "metadata": {
    "colab": {},
    "colab_type": "code",
    "id": "SszGJLH6y1P0"
   },
   "outputs": [],
   "source": [
    "import pandas as pd"
   ]
  },
  {
   "cell_type": "code",
   "execution_count": 2,
   "metadata": {
    "colab": {},
    "colab_type": "code",
    "id": "afY8OUu9zKyC"
   },
   "outputs": [],
   "source": [
    "Data_Train = pd.read_excel(\"Data_Train.xlsx\")"
   ]
  },
  {
   "cell_type": "code",
   "execution_count": 3,
   "metadata": {
    "colab": {
     "base_uri": "https://localhost:8080/",
     "height": 306
    },
    "colab_type": "code",
    "id": "bgPDioLqzfNP",
    "outputId": "0dc76d70-5eae-4cdf-c2a3-dcd6c6d75ef3"
   },
   "outputs": [
    {
     "data": {
      "text/html": [
       "<div>\n",
       "<style scoped>\n",
       "    .dataframe tbody tr th:only-of-type {\n",
       "        vertical-align: middle;\n",
       "    }\n",
       "\n",
       "    .dataframe tbody tr th {\n",
       "        vertical-align: top;\n",
       "    }\n",
       "\n",
       "    .dataframe thead th {\n",
       "        text-align: right;\n",
       "    }\n",
       "</style>\n",
       "<table border=\"1\" class=\"dataframe\">\n",
       "  <thead>\n",
       "    <tr style=\"text-align: right;\">\n",
       "      <th></th>\n",
       "      <th>Restaurant</th>\n",
       "      <th>Location</th>\n",
       "      <th>Cuisines</th>\n",
       "      <th>Average_Cost</th>\n",
       "      <th>Minimum_Order</th>\n",
       "      <th>Rating</th>\n",
       "      <th>Votes</th>\n",
       "      <th>Reviews</th>\n",
       "      <th>Delivery_Time</th>\n",
       "    </tr>\n",
       "  </thead>\n",
       "  <tbody>\n",
       "    <tr>\n",
       "      <th>0</th>\n",
       "      <td>ID_6321</td>\n",
       "      <td>FTI College, Law College Road, Pune</td>\n",
       "      <td>Fast Food, Rolls, Burger, Salad, Wraps</td>\n",
       "      <td>₹200</td>\n",
       "      <td>₹50</td>\n",
       "      <td>3.5</td>\n",
       "      <td>12</td>\n",
       "      <td>4</td>\n",
       "      <td>30 minutes</td>\n",
       "    </tr>\n",
       "    <tr>\n",
       "      <th>1</th>\n",
       "      <td>ID_2882</td>\n",
       "      <td>Sector 3, Marathalli</td>\n",
       "      <td>Ice Cream, Desserts</td>\n",
       "      <td>₹100</td>\n",
       "      <td>₹50</td>\n",
       "      <td>3.5</td>\n",
       "      <td>11</td>\n",
       "      <td>4</td>\n",
       "      <td>30 minutes</td>\n",
       "    </tr>\n",
       "    <tr>\n",
       "      <th>2</th>\n",
       "      <td>ID_1595</td>\n",
       "      <td>Mumbai Central</td>\n",
       "      <td>Italian, Street Food, Fast Food</td>\n",
       "      <td>₹150</td>\n",
       "      <td>₹50</td>\n",
       "      <td>3.6</td>\n",
       "      <td>99</td>\n",
       "      <td>30</td>\n",
       "      <td>65 minutes</td>\n",
       "    </tr>\n",
       "    <tr>\n",
       "      <th>3</th>\n",
       "      <td>ID_5929</td>\n",
       "      <td>Sector 1, Noida</td>\n",
       "      <td>Mughlai, North Indian, Chinese</td>\n",
       "      <td>₹250</td>\n",
       "      <td>₹99</td>\n",
       "      <td>3.7</td>\n",
       "      <td>176</td>\n",
       "      <td>95</td>\n",
       "      <td>30 minutes</td>\n",
       "    </tr>\n",
       "    <tr>\n",
       "      <th>4</th>\n",
       "      <td>ID_6123</td>\n",
       "      <td>Rmz Centennial, I Gate, Whitefield</td>\n",
       "      <td>Cafe, Beverages</td>\n",
       "      <td>₹200</td>\n",
       "      <td>₹99</td>\n",
       "      <td>3.2</td>\n",
       "      <td>521</td>\n",
       "      <td>235</td>\n",
       "      <td>65 minutes</td>\n",
       "    </tr>\n",
       "  </tbody>\n",
       "</table>\n",
       "</div>"
      ],
      "text/plain": [
       "  Restaurant                             Location  \\\n",
       "0    ID_6321  FTI College, Law College Road, Pune   \n",
       "1    ID_2882                 Sector 3, Marathalli   \n",
       "2    ID_1595                       Mumbai Central   \n",
       "3    ID_5929                      Sector 1, Noida   \n",
       "4    ID_6123   Rmz Centennial, I Gate, Whitefield   \n",
       "\n",
       "                                 Cuisines Average_Cost Minimum_Order Rating  \\\n",
       "0  Fast Food, Rolls, Burger, Salad, Wraps         ₹200           ₹50    3.5   \n",
       "1                     Ice Cream, Desserts         ₹100           ₹50    3.5   \n",
       "2         Italian, Street Food, Fast Food         ₹150           ₹50    3.6   \n",
       "3          Mughlai, North Indian, Chinese         ₹250           ₹99    3.7   \n",
       "4                         Cafe, Beverages         ₹200           ₹99    3.2   \n",
       "\n",
       "  Votes Reviews Delivery_Time  \n",
       "0    12       4    30 minutes  \n",
       "1    11       4    30 minutes  \n",
       "2    99      30    65 minutes  \n",
       "3   176      95    30 minutes  \n",
       "4   521     235    65 minutes  "
      ]
     },
     "execution_count": 3,
     "metadata": {},
     "output_type": "execute_result"
    }
   ],
   "source": [
    "Data_Train.head()"
   ]
  },
  {
   "cell_type": "code",
   "execution_count": 4,
   "metadata": {
    "colab": {
     "base_uri": "https://localhost:8080/",
     "height": 224
    },
    "colab_type": "code",
    "id": "WrqS19Mzz1bH",
    "outputId": "d07603af-e5a3-4648-b195-eb68e800134e"
   },
   "outputs": [
    {
     "name": "stdout",
     "output_type": "stream",
     "text": [
      "11094\n"
     ]
    },
    {
     "data": {
      "text/html": [
       "<div>\n",
       "<style scoped>\n",
       "    .dataframe tbody tr th:only-of-type {\n",
       "        vertical-align: middle;\n",
       "    }\n",
       "\n",
       "    .dataframe tbody tr th {\n",
       "        vertical-align: top;\n",
       "    }\n",
       "\n",
       "    .dataframe thead th {\n",
       "        text-align: right;\n",
       "    }\n",
       "</style>\n",
       "<table border=\"1\" class=\"dataframe\">\n",
       "  <thead>\n",
       "    <tr style=\"text-align: right;\">\n",
       "      <th></th>\n",
       "      <th>Restaurant</th>\n",
       "      <th>Location</th>\n",
       "      <th>Cuisines</th>\n",
       "      <th>Average_Cost</th>\n",
       "      <th>Minimum_Order</th>\n",
       "      <th>Rating</th>\n",
       "      <th>Votes</th>\n",
       "      <th>Reviews</th>\n",
       "      <th>Delivery_Time</th>\n",
       "    </tr>\n",
       "  </thead>\n",
       "  <tbody>\n",
       "    <tr>\n",
       "      <th>count</th>\n",
       "      <td>11094</td>\n",
       "      <td>11094</td>\n",
       "      <td>11094</td>\n",
       "      <td>11094</td>\n",
       "      <td>11094</td>\n",
       "      <td>11094</td>\n",
       "      <td>11094</td>\n",
       "      <td>11094</td>\n",
       "      <td>11094</td>\n",
       "    </tr>\n",
       "    <tr>\n",
       "      <th>unique</th>\n",
       "      <td>7480</td>\n",
       "      <td>35</td>\n",
       "      <td>2179</td>\n",
       "      <td>26</td>\n",
       "      <td>18</td>\n",
       "      <td>33</td>\n",
       "      <td>1103</td>\n",
       "      <td>761</td>\n",
       "      <td>7</td>\n",
       "    </tr>\n",
       "    <tr>\n",
       "      <th>top</th>\n",
       "      <td>ID_7184</td>\n",
       "      <td>Mico Layout, Stage 2, BTM Layout,Bangalore</td>\n",
       "      <td>North Indian</td>\n",
       "      <td>₹200</td>\n",
       "      <td>₹50</td>\n",
       "      <td>-</td>\n",
       "      <td>-</td>\n",
       "      <td>-</td>\n",
       "      <td>30 minutes</td>\n",
       "    </tr>\n",
       "    <tr>\n",
       "      <th>freq</th>\n",
       "      <td>22</td>\n",
       "      <td>947</td>\n",
       "      <td>850</td>\n",
       "      <td>3241</td>\n",
       "      <td>10118</td>\n",
       "      <td>1191</td>\n",
       "      <td>2074</td>\n",
       "      <td>2312</td>\n",
       "      <td>7406</td>\n",
       "    </tr>\n",
       "  </tbody>\n",
       "</table>\n",
       "</div>"
      ],
      "text/plain": [
       "       Restaurant                                    Location      Cuisines  \\\n",
       "count       11094                                       11094         11094   \n",
       "unique       7480                                          35          2179   \n",
       "top       ID_7184  Mico Layout, Stage 2, BTM Layout,Bangalore  North Indian   \n",
       "freq           22                                         947           850   \n",
       "\n",
       "       Average_Cost Minimum_Order Rating  Votes Reviews Delivery_Time  \n",
       "count         11094         11094  11094  11094   11094         11094  \n",
       "unique           26            18     33   1103     761             7  \n",
       "top            ₹200           ₹50      -      -       -    30 minutes  \n",
       "freq           3241         10118   1191   2074    2312          7406  "
      ]
     },
     "execution_count": 4,
     "metadata": {},
     "output_type": "execute_result"
    }
   ],
   "source": [
    "print(len(Data_Train))\n",
    "Data_Train.describe()"
   ]
  },
  {
   "cell_type": "code",
   "execution_count": 5,
   "metadata": {
    "colab": {},
    "colab_type": "code",
    "id": "NCNGltm6zhYq"
   },
   "outputs": [],
   "source": [
    "X = Data_Train.copy()"
   ]
  },
  {
   "cell_type": "code",
   "execution_count": 6,
   "metadata": {
    "colab": {},
    "colab_type": "code",
    "id": "3wC8aE8D0O3g"
   },
   "outputs": [],
   "source": [
    "X.dropna(axis=0,subset=['Delivery_Time'],inplace=True)\n",
    "y= X.Delivery_Time\n",
    "X.drop(['Delivery_Time'],axis=1,inplace=True)"
   ]
  },
  {
   "cell_type": "code",
   "execution_count": 7,
   "metadata": {
    "colab": {
     "base_uri": "https://localhost:8080/",
     "height": 34
    },
    "colab_type": "code",
    "id": "kb1-3q2508_9",
    "outputId": "c4648f7f-e056-4fa0-ea64-c00669c35f96"
   },
   "outputs": [
    {
     "data": {
      "text/plain": [
       "11094"
      ]
     },
     "execution_count": 7,
     "metadata": {},
     "output_type": "execute_result"
    }
   ],
   "source": [
    "len(X)"
   ]
  },
  {
   "cell_type": "code",
   "execution_count": 8,
   "metadata": {
    "colab": {
     "base_uri": "https://localhost:8080/",
     "height": 122
    },
    "colab_type": "code",
    "id": "pgKxAVSZ0-XF",
    "outputId": "b38d7d9b-4375-4499-afa4-46417b712692"
   },
   "outputs": [
    {
     "name": "stderr",
     "output_type": "stream",
     "text": [
      "C:\\Users\\skhad\\Anaconda3\\envs\\ML\\lib\\site-packages\\ipykernel_launcher.py:7: SettingWithCopyWarning: \n",
      "A value is trying to be set on a copy of a slice from a DataFrame\n",
      "\n",
      "See the caveats in the documentation: http://pandas.pydata.org/pandas-docs/stable/user_guide/indexing.html#returning-a-view-versus-a-copy\n",
      "  import sys\n"
     ]
    }
   ],
   "source": [
    "from sklearn.model_selection import train_test_split\n",
    "\n",
    "#features = [\"Rating\",\t\"Votes\", \"Reviews\"]\n",
    "features = [\"Rating\",\"Delivery_Time\"]\n",
    "X_new = Data_Train.copy()\n",
    "X_rating = X_new[features]\n",
    "X_rating.dropna(axis=0,subset=features,inplace=True)\n"
   ]
  },
  {
   "cell_type": "code",
   "execution_count": 9,
   "metadata": {
    "colab": {
     "base_uri": "https://localhost:8080/",
     "height": 425
    },
    "colab_type": "code",
    "id": "eDgIsZFw2CA5",
    "outputId": "440781b4-5499-435c-e635-755bccadcbc8"
   },
   "outputs": [
    {
     "name": "stdout",
     "output_type": "stream",
     "text": [
      "0        3.5\n",
      "1        3.5\n",
      "2        3.6\n",
      "3        3.7\n",
      "4        3.2\n",
      "        ... \n",
      "11089    4.2\n",
      "11090    3.6\n",
      "11091    3.5\n",
      "11092    3.1\n",
      "11093    NEW\n",
      "Name: Rating, Length: 11094, dtype: object\n",
      "0        30 minutes\n",
      "1        30 minutes\n",
      "2        65 minutes\n",
      "3        30 minutes\n",
      "4        65 minutes\n",
      "            ...    \n",
      "11089    30 minutes\n",
      "11090    30 minutes\n",
      "11091    30 minutes\n",
      "11092    30 minutes\n",
      "11093    30 minutes\n",
      "Name: Delivery_Time, Length: 11094, dtype: object\n"
     ]
    }
   ],
   "source": [
    "for row in X_rating:\n",
    "  print(X_rating[row])"
   ]
  },
  {
   "cell_type": "code",
   "execution_count": 10,
   "metadata": {
    "colab": {},
    "colab_type": "code",
    "id": "SkoO_3qi2MZ8"
   },
   "outputs": [],
   "source": [
    "X_rating = X_rating.replace([\"NEW\",\"-\",\"Opening Soon\",'Temporarily Closed'],2.5)"
   ]
  },
  {
   "cell_type": "code",
   "execution_count": 11,
   "metadata": {
    "colab": {
     "base_uri": "https://localhost:8080/",
     "height": 419
    },
    "colab_type": "code",
    "id": "-JngNYHT7BvG",
    "outputId": "6589c105-939a-4601-d2f2-0537db4ae90a"
   },
   "outputs": [
    {
     "data": {
      "text/html": [
       "<div>\n",
       "<style scoped>\n",
       "    .dataframe tbody tr th:only-of-type {\n",
       "        vertical-align: middle;\n",
       "    }\n",
       "\n",
       "    .dataframe tbody tr th {\n",
       "        vertical-align: top;\n",
       "    }\n",
       "\n",
       "    .dataframe thead th {\n",
       "        text-align: right;\n",
       "    }\n",
       "</style>\n",
       "<table border=\"1\" class=\"dataframe\">\n",
       "  <thead>\n",
       "    <tr style=\"text-align: right;\">\n",
       "      <th></th>\n",
       "      <th>Rating</th>\n",
       "      <th>Delivery_Time</th>\n",
       "    </tr>\n",
       "  </thead>\n",
       "  <tbody>\n",
       "    <tr>\n",
       "      <th>0</th>\n",
       "      <td>3.5</td>\n",
       "      <td>30 minutes</td>\n",
       "    </tr>\n",
       "    <tr>\n",
       "      <th>1</th>\n",
       "      <td>3.5</td>\n",
       "      <td>30 minutes</td>\n",
       "    </tr>\n",
       "    <tr>\n",
       "      <th>2</th>\n",
       "      <td>3.6</td>\n",
       "      <td>65 minutes</td>\n",
       "    </tr>\n",
       "    <tr>\n",
       "      <th>3</th>\n",
       "      <td>3.7</td>\n",
       "      <td>30 minutes</td>\n",
       "    </tr>\n",
       "    <tr>\n",
       "      <th>4</th>\n",
       "      <td>3.2</td>\n",
       "      <td>65 minutes</td>\n",
       "    </tr>\n",
       "    <tr>\n",
       "      <th>...</th>\n",
       "      <td>...</td>\n",
       "      <td>...</td>\n",
       "    </tr>\n",
       "    <tr>\n",
       "      <th>11089</th>\n",
       "      <td>4.2</td>\n",
       "      <td>30 minutes</td>\n",
       "    </tr>\n",
       "    <tr>\n",
       "      <th>11090</th>\n",
       "      <td>3.6</td>\n",
       "      <td>30 minutes</td>\n",
       "    </tr>\n",
       "    <tr>\n",
       "      <th>11091</th>\n",
       "      <td>3.5</td>\n",
       "      <td>30 minutes</td>\n",
       "    </tr>\n",
       "    <tr>\n",
       "      <th>11092</th>\n",
       "      <td>3.1</td>\n",
       "      <td>30 minutes</td>\n",
       "    </tr>\n",
       "    <tr>\n",
       "      <th>11093</th>\n",
       "      <td>2.5</td>\n",
       "      <td>30 minutes</td>\n",
       "    </tr>\n",
       "  </tbody>\n",
       "</table>\n",
       "<p>11094 rows × 2 columns</p>\n",
       "</div>"
      ],
      "text/plain": [
       "      Rating Delivery_Time\n",
       "0        3.5    30 minutes\n",
       "1        3.5    30 minutes\n",
       "2        3.6    65 minutes\n",
       "3        3.7    30 minutes\n",
       "4        3.2    65 minutes\n",
       "...      ...           ...\n",
       "11089    4.2    30 minutes\n",
       "11090    3.6    30 minutes\n",
       "11091    3.5    30 minutes\n",
       "11092    3.1    30 minutes\n",
       "11093    2.5    30 minutes\n",
       "\n",
       "[11094 rows x 2 columns]"
      ]
     },
     "execution_count": 11,
     "metadata": {},
     "output_type": "execute_result"
    }
   ],
   "source": [
    "X_rating"
   ]
  },
  {
   "cell_type": "code",
   "execution_count": 12,
   "metadata": {
    "colab": {
     "base_uri": "https://localhost:8080/",
     "height": 51
    },
    "colab_type": "code",
    "id": "xbN_OHXz7R6F",
    "outputId": "a2e4450a-d5bb-4cc5-fa18-7feeb627c7dd"
   },
   "outputs": [
    {
     "data": {
      "text/plain": [
       "Rating    float32\n",
       "dtype: object"
      ]
     },
     "execution_count": 12,
     "metadata": {},
     "output_type": "execute_result"
    }
   ],
   "source": [
    "y_rating = X_rating.Delivery_Time\n",
    "X_rating.drop([\"Delivery_Time\"],axis=1,inplace=True)\n",
    "X_rating.astype(\"float32\").dtypes"
   ]
  },
  {
   "cell_type": "code",
   "execution_count": 13,
   "metadata": {},
   "outputs": [
    {
     "data": {
      "text/plain": [
       "(11094, 1)"
      ]
     },
     "execution_count": 13,
     "metadata": {},
     "output_type": "execute_result"
    }
   ],
   "source": [
    "X_rating.shape"
   ]
  },
  {
   "cell_type": "code",
   "execution_count": 14,
   "metadata": {
    "colab": {
     "base_uri": "https://localhost:8080/",
     "height": 221
    },
    "colab_type": "code",
    "id": "fgNIAsmd7ph-",
    "outputId": "7eef2c71-6498-4cf2-c1d8-8cfb433e517b"
   },
   "outputs": [
    {
     "data": {
      "text/plain": [
       "0        30 minutes\n",
       "1        30 minutes\n",
       "2        65 minutes\n",
       "3        30 minutes\n",
       "4        65 minutes\n",
       "            ...    \n",
       "11089    30 minutes\n",
       "11090    30 minutes\n",
       "11091    30 minutes\n",
       "11092    30 minutes\n",
       "11093    30 minutes\n",
       "Name: Delivery_Time, Length: 11094, dtype: object"
      ]
     },
     "execution_count": 14,
     "metadata": {},
     "output_type": "execute_result"
    }
   ],
   "source": [
    "y_rating"
   ]
  },
  {
   "cell_type": "code",
   "execution_count": 15,
   "metadata": {
    "colab": {
     "base_uri": "https://localhost:8080/",
     "height": 34
    },
    "colab_type": "code",
    "id": "36s7Txdf9yH6",
    "outputId": "39bf5e01-ed73-45d6-b5fb-ee7bed180176"
   },
   "outputs": [
    {
     "name": "stdout",
     "output_type": "stream",
     "text": [
      "30 \n"
     ]
    }
   ],
   "source": [
    "print(y_rating[0].replace(\"minutes\",\"\"))"
   ]
  },
  {
   "cell_type": "code",
   "execution_count": 16,
   "metadata": {
    "colab": {},
    "colab_type": "code",
    "id": "ranjx0B497CS"
   },
   "outputs": [],
   "source": [
    "for col in y_rating.index:\n",
    "  y_rating[col]=y_rating[col].replace(\"minutes\",\"\")"
   ]
  },
  {
   "cell_type": "code",
   "execution_count": 17,
   "metadata": {
    "colab": {
     "base_uri": "https://localhost:8080/",
     "height": 221
    },
    "colab_type": "code",
    "id": "noM8zqNr-6n8",
    "outputId": "3336264e-cd29-442c-82f7-eb8f2a322f72"
   },
   "outputs": [
    {
     "data": {
      "text/plain": [
       "0        30 \n",
       "1        30 \n",
       "2        65 \n",
       "3        30 \n",
       "4        65 \n",
       "        ... \n",
       "11089    30 \n",
       "11090    30 \n",
       "11091    30 \n",
       "11092    30 \n",
       "11093    30 \n",
       "Name: Delivery_Time, Length: 11094, dtype: object"
      ]
     },
     "execution_count": 17,
     "metadata": {},
     "output_type": "execute_result"
    }
   ],
   "source": [
    "y_rating"
   ]
  },
  {
   "cell_type": "code",
   "execution_count": 18,
   "metadata": {
    "colab": {
     "base_uri": "https://localhost:8080/",
     "height": 34
    },
    "colab_type": "code",
    "id": "7oKO66QG_hyc",
    "outputId": "f0b5c780-7f04-461a-8255-0def26ddb884"
   },
   "outputs": [
    {
     "data": {
      "text/plain": [
       "dtype('int32')"
      ]
     },
     "execution_count": 18,
     "metadata": {},
     "output_type": "execute_result"
    }
   ],
   "source": [
    "y_rating.astype(\"int32\").dtypes"
   ]
  },
  {
   "cell_type": "code",
   "execution_count": 19,
   "metadata": {
    "colab": {},
    "colab_type": "code",
    "id": "frfRSl6K_pik"
   },
   "outputs": [],
   "source": [
    "from sklearn.ensemble import RandomForestRegressor"
   ]
  },
  {
   "cell_type": "code",
   "execution_count": 20,
   "metadata": {
    "colab": {},
    "colab_type": "code",
    "id": "q2ojHu8XAm25"
   },
   "outputs": [],
   "source": [
    "model_1 = RandomForestRegressor(n_estimators=500,random_state=1)"
   ]
  },
  {
   "cell_type": "code",
   "execution_count": 21,
   "metadata": {
    "colab": {},
    "colab_type": "code",
    "id": "pwNM44voAyIJ"
   },
   "outputs": [],
   "source": [
    "X_rating_train,X_rating_valid,y_rating_train,y_rating_valid = train_test_split(X_rating,y_rating)"
   ]
  },
  {
   "cell_type": "code",
   "execution_count": 22,
   "metadata": {
    "colab": {
     "base_uri": "https://localhost:8080/",
     "height": 34
    },
    "colab_type": "code",
    "id": "jEin3ILrBgP2",
    "outputId": "e7e7281f-5cdd-4fae-85f2-708b825db47c"
   },
   "outputs": [
    {
     "data": {
      "text/plain": [
       "8320"
      ]
     },
     "execution_count": 22,
     "metadata": {},
     "output_type": "execute_result"
    }
   ],
   "source": [
    "len(X_rating_train)"
   ]
  },
  {
   "cell_type": "code",
   "execution_count": 23,
   "metadata": {
    "colab": {
     "base_uri": "https://localhost:8080/",
     "height": 136
    },
    "colab_type": "code",
    "id": "sbAxMF1pBh0n",
    "outputId": "53dcc817-2902-416c-da07-565de298557f"
   },
   "outputs": [
    {
     "data": {
      "text/plain": [
       "RandomForestRegressor(bootstrap=True, criterion='mse', max_depth=None,\n",
       "                      max_features='auto', max_leaf_nodes=None,\n",
       "                      min_impurity_decrease=0.0, min_impurity_split=None,\n",
       "                      min_samples_leaf=1, min_samples_split=2,\n",
       "                      min_weight_fraction_leaf=0.0, n_estimators=500,\n",
       "                      n_jobs=None, oob_score=False, random_state=1, verbose=0,\n",
       "                      warm_start=False)"
      ]
     },
     "execution_count": 23,
     "metadata": {},
     "output_type": "execute_result"
    }
   ],
   "source": [
    "model_1.fit(X_rating_train,y_rating_train)"
   ]
  },
  {
   "cell_type": "code",
   "execution_count": 24,
   "metadata": {
    "colab": {},
    "colab_type": "code",
    "id": "oitRjwbRBr0z"
   },
   "outputs": [],
   "source": [
    "pred = model_1.predict(X_rating_valid)"
   ]
  },
  {
   "cell_type": "code",
   "execution_count": 25,
   "metadata": {
    "colab": {},
    "colab_type": "code",
    "id": "dS_jnYkKB0J_"
   },
   "outputs": [],
   "source": [
    "from sklearn.metrics import mean_absolute_error\n",
    "score = mean_absolute_error(pred,y_rating_valid)"
   ]
  },
  {
   "cell_type": "code",
   "execution_count": 26,
   "metadata": {
    "colab": {
     "base_uri": "https://localhost:8080/",
     "height": 34
    },
    "colab_type": "code",
    "id": "2_6ROppsB08K",
    "outputId": "87f85f92-af77-4af8-c601-b20cd1b11096"
   },
   "outputs": [
    {
     "data": {
      "text/plain": [
       "0.0017375630857966824"
      ]
     },
     "execution_count": 26,
     "metadata": {},
     "output_type": "execute_result"
    }
   ],
   "source": [
    "score"
   ]
  },
  {
   "cell_type": "code",
   "execution_count": 27,
   "metadata": {
    "colab": {},
    "colab_type": "code",
    "id": "O3K1A5geDZBK"
   },
   "outputs": [],
   "source": [
    "def getScores(n_est,X_train,y_train,X_valid,y_valid):\n",
    "  scores = {}\n",
    "  for k in n_est:\n",
    "    model = RandomForestRegressor(n_estimators=k,random_state=1)\n",
    "    model.fit(X_train,y_train)\n",
    "    preds = model.predict(X_valid)\n",
    "    score = mean_absolute_error(preds,y_valid)\n",
    "    scores[k]=score\n",
    "  return scores"
   ]
  },
  {
   "cell_type": "code",
   "execution_count": 28,
   "metadata": {
    "colab": {},
    "colab_type": "code",
    "id": "tK8BscZdDUwX"
   },
   "outputs": [],
   "source": [
    "n_est = [50,100,150,200,500,1000,1500,2000]\n",
    "scores = getScores(n_est, X_rating_train, y_rating_train, X_rating_valid, y_rating_valid)"
   ]
  },
  {
   "cell_type": "code",
   "execution_count": 29,
   "metadata": {
    "colab": {
     "base_uri": "https://localhost:8080/",
     "height": 153
    },
    "colab_type": "code",
    "id": "sKDyCfiT18Fq",
    "outputId": "5078902e-83ce-488e-8c03-c3f8807093b4"
   },
   "outputs": [
    {
     "data": {
      "text/plain": [
       "{50: 0.0014419610670511895,\n",
       " 100: 0.0019466474405191055,\n",
       " 150: 0.0021148762316750775,\n",
       " 200: 0.0018385003604902666,\n",
       " 500: 0.0017375630857966824,\n",
       " 1000: 0.0017880317231434761,\n",
       " 1500: 0.0018336938236000965,\n",
       " 2000: 0.001935832732516223}"
      ]
     },
     "execution_count": 29,
     "metadata": {},
     "output_type": "execute_result"
    }
   ],
   "source": [
    "scores"
   ]
  },
  {
   "cell_type": "code",
   "execution_count": 35,
   "metadata": {},
   "outputs": [],
   "source": [
    "X_rating = X_rating.drop([\"Delivery_Time\"],axis=1)"
   ]
  },
  {
   "cell_type": "code",
   "execution_count": 36,
   "metadata": {},
   "outputs": [
    {
     "data": {
      "text/html": [
       "<div>\n",
       "<style scoped>\n",
       "    .dataframe tbody tr th:only-of-type {\n",
       "        vertical-align: middle;\n",
       "    }\n",
       "\n",
       "    .dataframe tbody tr th {\n",
       "        vertical-align: top;\n",
       "    }\n",
       "\n",
       "    .dataframe thead th {\n",
       "        text-align: right;\n",
       "    }\n",
       "</style>\n",
       "<table border=\"1\" class=\"dataframe\">\n",
       "  <thead>\n",
       "    <tr style=\"text-align: right;\">\n",
       "      <th></th>\n",
       "      <th>Rating</th>\n",
       "    </tr>\n",
       "  </thead>\n",
       "  <tbody>\n",
       "    <tr>\n",
       "      <th>0</th>\n",
       "      <td>3.5</td>\n",
       "    </tr>\n",
       "    <tr>\n",
       "      <th>1</th>\n",
       "      <td>3.5</td>\n",
       "    </tr>\n",
       "    <tr>\n",
       "      <th>2</th>\n",
       "      <td>3.6</td>\n",
       "    </tr>\n",
       "    <tr>\n",
       "      <th>3</th>\n",
       "      <td>3.7</td>\n",
       "    </tr>\n",
       "    <tr>\n",
       "      <th>4</th>\n",
       "      <td>3.2</td>\n",
       "    </tr>\n",
       "  </tbody>\n",
       "</table>\n",
       "</div>"
      ],
      "text/plain": [
       "  Rating\n",
       "0    3.5\n",
       "1    3.5\n",
       "2    3.6\n",
       "3    3.7\n",
       "4    3.2"
      ]
     },
     "execution_count": 36,
     "metadata": {},
     "output_type": "execute_result"
    }
   ],
   "source": [
    "X_rating.head()"
   ]
  },
  {
   "cell_type": "code",
   "execution_count": 37,
   "metadata": {
    "colab": {},
    "colab_type": "code",
    "id": "2w7bJXS42bVG"
   },
   "outputs": [
    {
     "data": {
      "text/plain": [
       "dtype('float32')"
      ]
     },
     "execution_count": 37,
     "metadata": {},
     "output_type": "execute_result"
    }
   ],
   "source": [
    "model_test = RandomForestRegressor(n_estimators=100,random_state=1)\n",
    "model_test.fit(X_rating,y_rating)\n",
    "X_test = pd.read_excel(\"Data_test.xlsx\")\n",
    "X_test = X_test[\"Rating\"]\n",
    "X_test = X_test.replace([\"NEW\",\"-\",\"Opening Soon\",'Temporarily Closed'],2.5)\n",
    "X_test.astype(\"float32\").dtypes"
   ]
  },
  {
   "cell_type": "code",
   "execution_count": 38,
   "metadata": {},
   "outputs": [
    {
     "data": {
      "text/plain": [
       "0       4.2\n",
       "1       2.5\n",
       "2       3.6\n",
       "3       3.6\n",
       "4       2.9\n",
       "       ... \n",
       "2769    2.5\n",
       "2770    3.1\n",
       "2771    3.0\n",
       "2772    3.0\n",
       "2773    3.6\n",
       "Name: Rating, Length: 2774, dtype: object"
      ]
     },
     "execution_count": 38,
     "metadata": {},
     "output_type": "execute_result"
    }
   ],
   "source": [
    "X_test"
   ]
  },
  {
   "cell_type": "code",
   "execution_count": 39,
   "metadata": {},
   "outputs": [],
   "source": [
    "import numpy as np"
   ]
  },
  {
   "cell_type": "code",
   "execution_count": 40,
   "metadata": {},
   "outputs": [],
   "source": [
    "X_test = np.array(X_test)"
   ]
  },
  {
   "cell_type": "code",
   "execution_count": 41,
   "metadata": {},
   "outputs": [],
   "source": [
    "X_test = X_test.reshape(-1,1)"
   ]
  },
  {
   "cell_type": "code",
   "execution_count": 42,
   "metadata": {},
   "outputs": [
    {
     "data": {
      "text/plain": [
       "(2774, 1)"
      ]
     },
     "execution_count": 42,
     "metadata": {},
     "output_type": "execute_result"
    }
   ],
   "source": [
    "X_test.shape"
   ]
  },
  {
   "cell_type": "code",
   "execution_count": 43,
   "metadata": {},
   "outputs": [
    {
     "data": {
      "text/plain": [
       "(8320, 2)"
      ]
     },
     "execution_count": 43,
     "metadata": {},
     "output_type": "execute_result"
    }
   ],
   "source": [
    "X_rating_train.shape"
   ]
  },
  {
   "cell_type": "code",
   "execution_count": 44,
   "metadata": {},
   "outputs": [],
   "source": [
    "predictions_test = model_test.predict(X_test)"
   ]
  },
  {
   "cell_type": "code",
   "execution_count": 45,
   "metadata": {},
   "outputs": [],
   "source": [
    "import math"
   ]
  },
  {
   "cell_type": "code",
   "execution_count": 58,
   "metadata": {
    "scrolled": true
   },
   "outputs": [],
   "source": [
    "pred_min = []\n",
    "for p in predictions_test:\n",
    "    time = math.ceil(p)\n",
    "    d = time // 5\n",
    "    time = d * 5\n",
    "    pred_min.append(str(time) + \" minutes\")"
   ]
  },
  {
   "cell_type": "code",
   "execution_count": 59,
   "metadata": {},
   "outputs": [
    {
     "data": {
      "text/plain": [
       "['40 minutes',\n",
       " '30 minutes',\n",
       " '35 minutes',\n",
       " '35 minutes',\n",
       " '35 minutes',\n",
       " '35 minutes',\n",
       " '35 minutes',\n",
       " '35 minutes',\n",
       " '30 minutes',\n",
       " '35 minutes',\n",
       " '35 minutes',\n",
       " '30 minutes',\n",
       " '30 minutes',\n",
       " '40 minutes',\n",
       " '40 minutes',\n",
       " '30 minutes',\n",
       " '35 minutes',\n",
       " '30 minutes',\n",
       " '35 minutes',\n",
       " '40 minutes',\n",
       " '30 minutes',\n",
       " '35 minutes',\n",
       " '40 minutes',\n",
       " '35 minutes',\n",
       " '35 minutes',\n",
       " '40 minutes',\n",
       " '30 minutes',\n",
       " '35 minutes',\n",
       " '35 minutes',\n",
       " '30 minutes',\n",
       " '40 minutes',\n",
       " '35 minutes',\n",
       " '35 minutes',\n",
       " '40 minutes',\n",
       " '40 minutes',\n",
       " '40 minutes',\n",
       " '40 minutes',\n",
       " '40 minutes',\n",
       " '40 minutes',\n",
       " '40 minutes',\n",
       " '35 minutes',\n",
       " '35 minutes',\n",
       " '35 minutes',\n",
       " '35 minutes',\n",
       " '35 minutes',\n",
       " '40 minutes',\n",
       " '35 minutes',\n",
       " '30 minutes',\n",
       " '30 minutes',\n",
       " '35 minutes',\n",
       " '40 minutes',\n",
       " '35 minutes',\n",
       " '30 minutes',\n",
       " '30 minutes',\n",
       " '30 minutes',\n",
       " '30 minutes',\n",
       " '40 minutes',\n",
       " '40 minutes',\n",
       " '40 minutes',\n",
       " '30 minutes',\n",
       " '35 minutes',\n",
       " '35 minutes',\n",
       " '35 minutes',\n",
       " '35 minutes',\n",
       " '40 minutes',\n",
       " '40 minutes',\n",
       " '35 minutes',\n",
       " '35 minutes',\n",
       " '40 minutes',\n",
       " '35 minutes',\n",
       " '30 minutes',\n",
       " '40 minutes',\n",
       " '30 minutes',\n",
       " '35 minutes',\n",
       " '30 minutes',\n",
       " '40 minutes',\n",
       " '40 minutes',\n",
       " '30 minutes',\n",
       " '40 minutes',\n",
       " '35 minutes',\n",
       " '35 minutes',\n",
       " '35 minutes',\n",
       " '35 minutes',\n",
       " '40 minutes',\n",
       " '40 minutes',\n",
       " '35 minutes',\n",
       " '35 minutes',\n",
       " '35 minutes',\n",
       " '40 minutes',\n",
       " '30 minutes',\n",
       " '35 minutes',\n",
       " '35 minutes',\n",
       " '40 minutes',\n",
       " '35 minutes',\n",
       " '40 minutes',\n",
       " '30 minutes',\n",
       " '35 minutes',\n",
       " '35 minutes',\n",
       " '35 minutes',\n",
       " '30 minutes',\n",
       " '30 minutes',\n",
       " '30 minutes',\n",
       " '35 minutes',\n",
       " '40 minutes',\n",
       " '35 minutes',\n",
       " '35 minutes',\n",
       " '30 minutes',\n",
       " '35 minutes',\n",
       " '40 minutes',\n",
       " '35 minutes',\n",
       " '30 minutes',\n",
       " '35 minutes',\n",
       " '40 minutes',\n",
       " '30 minutes',\n",
       " '35 minutes',\n",
       " '35 minutes',\n",
       " '30 minutes',\n",
       " '40 minutes',\n",
       " '35 minutes',\n",
       " '35 minutes',\n",
       " '30 minutes',\n",
       " '30 minutes',\n",
       " '30 minutes',\n",
       " '40 minutes',\n",
       " '35 minutes',\n",
       " '35 minutes',\n",
       " '35 minutes',\n",
       " '35 minutes',\n",
       " '40 minutes',\n",
       " '30 minutes',\n",
       " '30 minutes',\n",
       " '35 minutes',\n",
       " '40 minutes',\n",
       " '40 minutes',\n",
       " '40 minutes',\n",
       " '35 minutes',\n",
       " '40 minutes',\n",
       " '30 minutes',\n",
       " '35 minutes',\n",
       " '35 minutes',\n",
       " '30 minutes',\n",
       " '30 minutes',\n",
       " '30 minutes',\n",
       " '35 minutes',\n",
       " '40 minutes',\n",
       " '40 minutes',\n",
       " '40 minutes',\n",
       " '30 minutes',\n",
       " '35 minutes',\n",
       " '35 minutes',\n",
       " '40 minutes',\n",
       " '40 minutes',\n",
       " '30 minutes',\n",
       " '35 minutes',\n",
       " '35 minutes',\n",
       " '35 minutes',\n",
       " '35 minutes',\n",
       " '40 minutes',\n",
       " '40 minutes',\n",
       " '40 minutes',\n",
       " '30 minutes',\n",
       " '40 minutes',\n",
       " '40 minutes',\n",
       " '40 minutes',\n",
       " '35 minutes',\n",
       " '40 minutes',\n",
       " '40 minutes',\n",
       " '40 minutes',\n",
       " '35 minutes',\n",
       " '35 minutes',\n",
       " '35 minutes',\n",
       " '30 minutes',\n",
       " '35 minutes',\n",
       " '30 minutes',\n",
       " '35 minutes',\n",
       " '35 minutes',\n",
       " '35 minutes',\n",
       " '40 minutes',\n",
       " '30 minutes',\n",
       " '35 minutes',\n",
       " '40 minutes',\n",
       " '30 minutes',\n",
       " '35 minutes',\n",
       " '35 minutes',\n",
       " '40 minutes',\n",
       " '30 minutes',\n",
       " '30 minutes',\n",
       " '35 minutes',\n",
       " '40 minutes',\n",
       " '30 minutes',\n",
       " '40 minutes',\n",
       " '30 minutes',\n",
       " '30 minutes',\n",
       " '35 minutes',\n",
       " '40 minutes',\n",
       " '30 minutes',\n",
       " '45 minutes',\n",
       " '40 minutes',\n",
       " '45 minutes',\n",
       " '35 minutes',\n",
       " '45 minutes',\n",
       " '35 minutes',\n",
       " '30 minutes',\n",
       " '35 minutes',\n",
       " '35 minutes',\n",
       " '35 minutes',\n",
       " '30 minutes',\n",
       " '35 minutes',\n",
       " '35 minutes',\n",
       " '35 minutes',\n",
       " '40 minutes',\n",
       " '30 minutes',\n",
       " '35 minutes',\n",
       " '40 minutes',\n",
       " '40 minutes',\n",
       " '35 minutes',\n",
       " '40 minutes',\n",
       " '45 minutes',\n",
       " '30 minutes',\n",
       " '30 minutes',\n",
       " '40 minutes',\n",
       " '40 minutes',\n",
       " '40 minutes',\n",
       " '40 minutes',\n",
       " '40 minutes',\n",
       " '40 minutes',\n",
       " '40 minutes',\n",
       " '40 minutes',\n",
       " '35 minutes',\n",
       " '35 minutes',\n",
       " '35 minutes',\n",
       " '40 minutes',\n",
       " '30 minutes',\n",
       " '40 minutes',\n",
       " '35 minutes',\n",
       " '40 minutes',\n",
       " '40 minutes',\n",
       " '35 minutes',\n",
       " '35 minutes',\n",
       " '40 minutes',\n",
       " '30 minutes',\n",
       " '35 minutes',\n",
       " '30 minutes',\n",
       " '30 minutes',\n",
       " '30 minutes',\n",
       " '40 minutes',\n",
       " '30 minutes',\n",
       " '35 minutes',\n",
       " '40 minutes',\n",
       " '30 minutes',\n",
       " '30 minutes',\n",
       " '35 minutes',\n",
       " '40 minutes',\n",
       " '40 minutes',\n",
       " '35 minutes',\n",
       " '30 minutes',\n",
       " '30 minutes',\n",
       " '35 minutes',\n",
       " '40 minutes',\n",
       " '35 minutes',\n",
       " '30 minutes',\n",
       " '35 minutes',\n",
       " '35 minutes',\n",
       " '35 minutes',\n",
       " '40 minutes',\n",
       " '40 minutes',\n",
       " '30 minutes',\n",
       " '30 minutes',\n",
       " '40 minutes',\n",
       " '35 minutes',\n",
       " '35 minutes',\n",
       " '30 minutes',\n",
       " '30 minutes',\n",
       " '30 minutes',\n",
       " '35 minutes',\n",
       " '30 minutes',\n",
       " '35 minutes',\n",
       " '35 minutes',\n",
       " '35 minutes',\n",
       " '35 minutes',\n",
       " '40 minutes',\n",
       " '35 minutes',\n",
       " '35 minutes',\n",
       " '35 minutes',\n",
       " '40 minutes',\n",
       " '30 minutes',\n",
       " '40 minutes',\n",
       " '35 minutes',\n",
       " '35 minutes',\n",
       " '35 minutes',\n",
       " '35 minutes',\n",
       " '30 minutes',\n",
       " '30 minutes',\n",
       " '40 minutes',\n",
       " '40 minutes',\n",
       " '40 minutes',\n",
       " '35 minutes',\n",
       " '35 minutes',\n",
       " '40 minutes',\n",
       " '30 minutes',\n",
       " '40 minutes',\n",
       " '35 minutes',\n",
       " '45 minutes',\n",
       " '40 minutes',\n",
       " '35 minutes',\n",
       " '40 minutes',\n",
       " '30 minutes',\n",
       " '35 minutes',\n",
       " '40 minutes',\n",
       " '35 minutes',\n",
       " '35 minutes',\n",
       " '30 minutes',\n",
       " '30 minutes',\n",
       " '35 minutes',\n",
       " '35 minutes',\n",
       " '30 minutes',\n",
       " '40 minutes',\n",
       " '40 minutes',\n",
       " '30 minutes',\n",
       " '35 minutes',\n",
       " '40 minutes',\n",
       " '30 minutes',\n",
       " '30 minutes',\n",
       " '40 minutes',\n",
       " '40 minutes',\n",
       " '35 minutes',\n",
       " '35 minutes',\n",
       " '35 minutes',\n",
       " '40 minutes',\n",
       " '35 minutes',\n",
       " '30 minutes',\n",
       " '40 minutes',\n",
       " '35 minutes',\n",
       " '35 minutes',\n",
       " '40 minutes',\n",
       " '35 minutes',\n",
       " '40 minutes',\n",
       " '40 minutes',\n",
       " '35 minutes',\n",
       " '30 minutes',\n",
       " '40 minutes',\n",
       " '40 minutes',\n",
       " '35 minutes',\n",
       " '35 minutes',\n",
       " '35 minutes',\n",
       " '35 minutes',\n",
       " '40 minutes',\n",
       " '40 minutes',\n",
       " '35 minutes',\n",
       " '30 minutes',\n",
       " '35 minutes',\n",
       " '35 minutes',\n",
       " '35 minutes',\n",
       " '40 minutes',\n",
       " '40 minutes',\n",
       " '35 minutes',\n",
       " '40 minutes',\n",
       " '35 minutes',\n",
       " '40 minutes',\n",
       " '35 minutes',\n",
       " '40 minutes',\n",
       " '30 minutes',\n",
       " '40 minutes',\n",
       " '30 minutes',\n",
       " '40 minutes',\n",
       " '35 minutes',\n",
       " '30 minutes',\n",
       " '35 minutes',\n",
       " '40 minutes',\n",
       " '30 minutes',\n",
       " '35 minutes',\n",
       " '40 minutes',\n",
       " '40 minutes',\n",
       " '35 minutes',\n",
       " '35 minutes',\n",
       " '30 minutes',\n",
       " '35 minutes',\n",
       " '40 minutes',\n",
       " '35 minutes',\n",
       " '35 minutes',\n",
       " '35 minutes',\n",
       " '35 minutes',\n",
       " '40 minutes',\n",
       " '40 minutes',\n",
       " '40 minutes',\n",
       " '40 minutes',\n",
       " '30 minutes',\n",
       " '40 minutes',\n",
       " '40 minutes',\n",
       " '40 minutes',\n",
       " '40 minutes',\n",
       " '30 minutes',\n",
       " '35 minutes',\n",
       " '40 minutes',\n",
       " '55 minutes',\n",
       " '35 minutes',\n",
       " '35 minutes',\n",
       " '35 minutes',\n",
       " '40 minutes',\n",
       " '40 minutes',\n",
       " '35 minutes',\n",
       " '35 minutes',\n",
       " '35 minutes',\n",
       " '35 minutes',\n",
       " '35 minutes',\n",
       " '30 minutes',\n",
       " '40 minutes',\n",
       " '40 minutes',\n",
       " '35 minutes',\n",
       " '40 minutes',\n",
       " '40 minutes',\n",
       " '30 minutes',\n",
       " '40 minutes',\n",
       " '35 minutes',\n",
       " '35 minutes',\n",
       " '35 minutes',\n",
       " '30 minutes',\n",
       " '40 minutes',\n",
       " '35 minutes',\n",
       " '35 minutes',\n",
       " '40 minutes',\n",
       " '35 minutes',\n",
       " '35 minutes',\n",
       " '40 minutes',\n",
       " '40 minutes',\n",
       " '30 minutes',\n",
       " '40 minutes',\n",
       " '35 minutes',\n",
       " '35 minutes',\n",
       " '35 minutes',\n",
       " '30 minutes',\n",
       " '30 minutes',\n",
       " '35 minutes',\n",
       " '30 minutes',\n",
       " '30 minutes',\n",
       " '35 minutes',\n",
       " '35 minutes',\n",
       " '30 minutes',\n",
       " '40 minutes',\n",
       " '35 minutes',\n",
       " '30 minutes',\n",
       " '30 minutes',\n",
       " '40 minutes',\n",
       " '30 minutes',\n",
       " '40 minutes',\n",
       " '40 minutes',\n",
       " '35 minutes',\n",
       " '40 minutes',\n",
       " '35 minutes',\n",
       " '35 minutes',\n",
       " '30 minutes',\n",
       " '35 minutes',\n",
       " '40 minutes',\n",
       " '30 minutes',\n",
       " '35 minutes',\n",
       " '35 minutes',\n",
       " '30 minutes',\n",
       " '40 minutes',\n",
       " '40 minutes',\n",
       " '35 minutes',\n",
       " '35 minutes',\n",
       " '40 minutes',\n",
       " '35 minutes',\n",
       " '30 minutes',\n",
       " '40 minutes',\n",
       " '35 minutes',\n",
       " '30 minutes',\n",
       " '35 minutes',\n",
       " '30 minutes',\n",
       " '35 minutes',\n",
       " '40 minutes',\n",
       " '35 minutes',\n",
       " '35 minutes',\n",
       " '55 minutes',\n",
       " '30 minutes',\n",
       " '40 minutes',\n",
       " '35 minutes',\n",
       " '40 minutes',\n",
       " '30 minutes',\n",
       " '40 minutes',\n",
       " '35 minutes',\n",
       " '35 minutes',\n",
       " '30 minutes',\n",
       " '35 minutes',\n",
       " '30 minutes',\n",
       " '35 minutes',\n",
       " '30 minutes',\n",
       " '35 minutes',\n",
       " '35 minutes',\n",
       " '40 minutes',\n",
       " '35 minutes',\n",
       " '30 minutes',\n",
       " '30 minutes',\n",
       " '30 minutes',\n",
       " '35 minutes',\n",
       " '35 minutes',\n",
       " '35 minutes',\n",
       " '40 minutes',\n",
       " '35 minutes',\n",
       " '40 minutes',\n",
       " '40 minutes',\n",
       " '35 minutes',\n",
       " '40 minutes',\n",
       " '40 minutes',\n",
       " '30 minutes',\n",
       " '35 minutes',\n",
       " '35 minutes',\n",
       " '30 minutes',\n",
       " '40 minutes',\n",
       " '35 minutes',\n",
       " '40 minutes',\n",
       " '35 minutes',\n",
       " '35 minutes',\n",
       " '35 minutes',\n",
       " '35 minutes',\n",
       " '40 minutes',\n",
       " '35 minutes',\n",
       " '30 minutes',\n",
       " '40 minutes',\n",
       " '35 minutes',\n",
       " '40 minutes',\n",
       " '35 minutes',\n",
       " '40 minutes',\n",
       " '35 minutes',\n",
       " '30 minutes',\n",
       " '35 minutes',\n",
       " '35 minutes',\n",
       " '30 minutes',\n",
       " '55 minutes',\n",
       " '30 minutes',\n",
       " '35 minutes',\n",
       " '30 minutes',\n",
       " '30 minutes',\n",
       " '40 minutes',\n",
       " '30 minutes',\n",
       " '30 minutes',\n",
       " '35 minutes',\n",
       " '40 minutes',\n",
       " '35 minutes',\n",
       " '35 minutes',\n",
       " '30 minutes',\n",
       " '40 minutes',\n",
       " '40 minutes',\n",
       " '30 minutes',\n",
       " '35 minutes',\n",
       " '30 minutes',\n",
       " '35 minutes',\n",
       " '40 minutes',\n",
       " '30 minutes',\n",
       " '35 minutes',\n",
       " '30 minutes',\n",
       " '35 minutes',\n",
       " '35 minutes',\n",
       " '30 minutes',\n",
       " '40 minutes',\n",
       " '35 minutes',\n",
       " '35 minutes',\n",
       " '40 minutes',\n",
       " '40 minutes',\n",
       " '35 minutes',\n",
       " '40 minutes',\n",
       " '35 minutes',\n",
       " '40 minutes',\n",
       " '40 minutes',\n",
       " '40 minutes',\n",
       " '35 minutes',\n",
       " '35 minutes',\n",
       " '30 minutes',\n",
       " '40 minutes',\n",
       " '40 minutes',\n",
       " '35 minutes',\n",
       " '40 minutes',\n",
       " '40 minutes',\n",
       " '40 minutes',\n",
       " '30 minutes',\n",
       " '30 minutes',\n",
       " '35 minutes',\n",
       " '35 minutes',\n",
       " '40 minutes',\n",
       " '35 minutes',\n",
       " '40 minutes',\n",
       " '35 minutes',\n",
       " '45 minutes',\n",
       " '35 minutes',\n",
       " '30 minutes',\n",
       " '30 minutes',\n",
       " '35 minutes',\n",
       " '30 minutes',\n",
       " '35 minutes',\n",
       " '35 minutes',\n",
       " '40 minutes',\n",
       " '30 minutes',\n",
       " '35 minutes',\n",
       " '40 minutes',\n",
       " '35 minutes',\n",
       " '35 minutes',\n",
       " '35 minutes',\n",
       " '40 minutes',\n",
       " '35 minutes',\n",
       " '40 minutes',\n",
       " '30 minutes',\n",
       " '40 minutes',\n",
       " '40 minutes',\n",
       " '40 minutes',\n",
       " '40 minutes',\n",
       " '40 minutes',\n",
       " '35 minutes',\n",
       " '40 minutes',\n",
       " '35 minutes',\n",
       " '35 minutes',\n",
       " '35 minutes',\n",
       " '30 minutes',\n",
       " '30 minutes',\n",
       " '40 minutes',\n",
       " '40 minutes',\n",
       " '40 minutes',\n",
       " '30 minutes',\n",
       " '30 minutes',\n",
       " '30 minutes',\n",
       " '35 minutes',\n",
       " '40 minutes',\n",
       " '30 minutes',\n",
       " '35 minutes',\n",
       " '40 minutes',\n",
       " '35 minutes',\n",
       " '35 minutes',\n",
       " '35 minutes',\n",
       " '40 minutes',\n",
       " '35 minutes',\n",
       " '35 minutes',\n",
       " '40 minutes',\n",
       " '40 minutes',\n",
       " '35 minutes',\n",
       " '35 minutes',\n",
       " '40 minutes',\n",
       " '40 minutes',\n",
       " '35 minutes',\n",
       " '40 minutes',\n",
       " '40 minutes',\n",
       " '35 minutes',\n",
       " '40 minutes',\n",
       " '35 minutes',\n",
       " '35 minutes',\n",
       " '40 minutes',\n",
       " '35 minutes',\n",
       " '35 minutes',\n",
       " '40 minutes',\n",
       " '40 minutes',\n",
       " '30 minutes',\n",
       " '40 minutes',\n",
       " '35 minutes',\n",
       " '40 minutes',\n",
       " '35 minutes',\n",
       " '35 minutes',\n",
       " '40 minutes',\n",
       " '35 minutes',\n",
       " '40 minutes',\n",
       " '30 minutes',\n",
       " '35 minutes',\n",
       " '40 minutes',\n",
       " '40 minutes',\n",
       " '35 minutes',\n",
       " '30 minutes',\n",
       " '35 minutes',\n",
       " '35 minutes',\n",
       " '35 minutes',\n",
       " '35 minutes',\n",
       " '30 minutes',\n",
       " '40 minutes',\n",
       " '40 minutes',\n",
       " '35 minutes',\n",
       " '30 minutes',\n",
       " '40 minutes',\n",
       " '35 minutes',\n",
       " '35 minutes',\n",
       " '40 minutes',\n",
       " '30 minutes',\n",
       " '40 minutes',\n",
       " '35 minutes',\n",
       " '40 minutes',\n",
       " '30 minutes',\n",
       " '35 minutes',\n",
       " '30 minutes',\n",
       " '40 minutes',\n",
       " '35 minutes',\n",
       " '35 minutes',\n",
       " '35 minutes',\n",
       " '40 minutes',\n",
       " '30 minutes',\n",
       " '35 minutes',\n",
       " '40 minutes',\n",
       " '35 minutes',\n",
       " '30 minutes',\n",
       " '40 minutes',\n",
       " '35 minutes',\n",
       " '35 minutes',\n",
       " '35 minutes',\n",
       " '30 minutes',\n",
       " '30 minutes',\n",
       " '35 minutes',\n",
       " '30 minutes',\n",
       " '35 minutes',\n",
       " '30 minutes',\n",
       " '30 minutes',\n",
       " '40 minutes',\n",
       " '40 minutes',\n",
       " '35 minutes',\n",
       " '35 minutes',\n",
       " '40 minutes',\n",
       " '30 minutes',\n",
       " '30 minutes',\n",
       " '35 minutes',\n",
       " '30 minutes',\n",
       " '40 minutes',\n",
       " '40 minutes',\n",
       " '35 minutes',\n",
       " '30 minutes',\n",
       " '35 minutes',\n",
       " '35 minutes',\n",
       " '35 minutes',\n",
       " '35 minutes',\n",
       " '35 minutes',\n",
       " '40 minutes',\n",
       " '35 minutes',\n",
       " '35 minutes',\n",
       " '35 minutes',\n",
       " '35 minutes',\n",
       " '30 minutes',\n",
       " '30 minutes',\n",
       " '30 minutes',\n",
       " '35 minutes',\n",
       " '35 minutes',\n",
       " '35 minutes',\n",
       " '40 minutes',\n",
       " '40 minutes',\n",
       " '40 minutes',\n",
       " '30 minutes',\n",
       " '35 minutes',\n",
       " '40 minutes',\n",
       " '30 minutes',\n",
       " '35 minutes',\n",
       " '35 minutes',\n",
       " '40 minutes',\n",
       " '30 minutes',\n",
       " '40 minutes',\n",
       " '30 minutes',\n",
       " '35 minutes',\n",
       " '30 minutes',\n",
       " '40 minutes',\n",
       " '30 minutes',\n",
       " '35 minutes',\n",
       " '35 minutes',\n",
       " '30 minutes',\n",
       " '35 minutes',\n",
       " '30 minutes',\n",
       " '35 minutes',\n",
       " '35 minutes',\n",
       " '30 minutes',\n",
       " '40 minutes',\n",
       " '35 minutes',\n",
       " '35 minutes',\n",
       " '35 minutes',\n",
       " '30 minutes',\n",
       " '35 minutes',\n",
       " '40 minutes',\n",
       " '35 minutes',\n",
       " '35 minutes',\n",
       " '35 minutes',\n",
       " '40 minutes',\n",
       " '40 minutes',\n",
       " '40 minutes',\n",
       " '35 minutes',\n",
       " '40 minutes',\n",
       " '40 minutes',\n",
       " '35 minutes',\n",
       " '30 minutes',\n",
       " '40 minutes',\n",
       " '30 minutes',\n",
       " '40 minutes',\n",
       " '35 minutes',\n",
       " '40 minutes',\n",
       " '35 minutes',\n",
       " '40 minutes',\n",
       " '35 minutes',\n",
       " '40 minutes',\n",
       " '30 minutes',\n",
       " '30 minutes',\n",
       " '40 minutes',\n",
       " '40 minutes',\n",
       " '40 minutes',\n",
       " '30 minutes',\n",
       " '35 minutes',\n",
       " '40 minutes',\n",
       " '30 minutes',\n",
       " '35 minutes',\n",
       " '30 minutes',\n",
       " '40 minutes',\n",
       " '30 minutes',\n",
       " '30 minutes',\n",
       " '30 minutes',\n",
       " '40 minutes',\n",
       " '30 minutes',\n",
       " '30 minutes',\n",
       " '40 minutes',\n",
       " '30 minutes',\n",
       " '35 minutes',\n",
       " '40 minutes',\n",
       " '35 minutes',\n",
       " '30 minutes',\n",
       " '35 minutes',\n",
       " '35 minutes',\n",
       " '35 minutes',\n",
       " '35 minutes',\n",
       " '30 minutes',\n",
       " '30 minutes',\n",
       " '30 minutes',\n",
       " '30 minutes',\n",
       " '35 minutes',\n",
       " '30 minutes',\n",
       " '40 minutes',\n",
       " '35 minutes',\n",
       " '35 minutes',\n",
       " '35 minutes',\n",
       " '30 minutes',\n",
       " '30 minutes',\n",
       " '40 minutes',\n",
       " '35 minutes',\n",
       " '35 minutes',\n",
       " '40 minutes',\n",
       " '40 minutes',\n",
       " '35 minutes',\n",
       " '35 minutes',\n",
       " '35 minutes',\n",
       " '40 minutes',\n",
       " '35 minutes',\n",
       " '35 minutes',\n",
       " '35 minutes',\n",
       " '40 minutes',\n",
       " '35 minutes',\n",
       " '40 minutes',\n",
       " '35 minutes',\n",
       " '30 minutes',\n",
       " '40 minutes',\n",
       " '35 minutes',\n",
       " '30 minutes',\n",
       " '30 minutes',\n",
       " '35 minutes',\n",
       " '35 minutes',\n",
       " '30 minutes',\n",
       " '35 minutes',\n",
       " '40 minutes',\n",
       " '40 minutes',\n",
       " '40 minutes',\n",
       " '35 minutes',\n",
       " '30 minutes',\n",
       " '40 minutes',\n",
       " '35 minutes',\n",
       " '40 minutes',\n",
       " '40 minutes',\n",
       " '40 minutes',\n",
       " '40 minutes',\n",
       " '35 minutes',\n",
       " '35 minutes',\n",
       " '35 minutes',\n",
       " '30 minutes',\n",
       " '35 minutes',\n",
       " '30 minutes',\n",
       " '45 minutes',\n",
       " '40 minutes',\n",
       " '40 minutes',\n",
       " '35 minutes',\n",
       " '40 minutes',\n",
       " '35 minutes',\n",
       " '35 minutes',\n",
       " '40 minutes',\n",
       " '40 minutes',\n",
       " '35 minutes',\n",
       " '35 minutes',\n",
       " '35 minutes',\n",
       " '30 minutes',\n",
       " '40 minutes',\n",
       " '30 minutes',\n",
       " '35 minutes',\n",
       " '40 minutes',\n",
       " '40 minutes',\n",
       " '30 minutes',\n",
       " '40 minutes',\n",
       " '30 minutes',\n",
       " '35 minutes',\n",
       " '35 minutes',\n",
       " '35 minutes',\n",
       " '40 minutes',\n",
       " '40 minutes',\n",
       " '40 minutes',\n",
       " '35 minutes',\n",
       " '35 minutes',\n",
       " '30 minutes',\n",
       " '35 minutes',\n",
       " '35 minutes',\n",
       " '35 minutes',\n",
       " '35 minutes',\n",
       " '40 minutes',\n",
       " '30 minutes',\n",
       " '30 minutes',\n",
       " '35 minutes',\n",
       " '35 minutes',\n",
       " '30 minutes',\n",
       " '35 minutes',\n",
       " '40 minutes',\n",
       " '40 minutes',\n",
       " '40 minutes',\n",
       " '40 minutes',\n",
       " '40 minutes',\n",
       " '30 minutes',\n",
       " '30 minutes',\n",
       " '30 minutes',\n",
       " '35 minutes',\n",
       " '30 minutes',\n",
       " '40 minutes',\n",
       " '40 minutes',\n",
       " '35 minutes',\n",
       " '30 minutes',\n",
       " '40 minutes',\n",
       " '30 minutes',\n",
       " '40 minutes',\n",
       " '35 minutes',\n",
       " '40 minutes',\n",
       " '35 minutes',\n",
       " '35 minutes',\n",
       " '35 minutes',\n",
       " '35 minutes',\n",
       " '35 minutes',\n",
       " '40 minutes',\n",
       " '40 minutes',\n",
       " '35 minutes',\n",
       " '40 minutes',\n",
       " '35 minutes',\n",
       " '40 minutes',\n",
       " '40 minutes',\n",
       " '40 minutes',\n",
       " '30 minutes',\n",
       " '35 minutes',\n",
       " '40 minutes',\n",
       " '35 minutes',\n",
       " '35 minutes',\n",
       " '35 minutes',\n",
       " '35 minutes',\n",
       " '35 minutes',\n",
       " '35 minutes',\n",
       " '40 minutes',\n",
       " '35 minutes',\n",
       " '30 minutes',\n",
       " '35 minutes',\n",
       " '35 minutes',\n",
       " '30 minutes',\n",
       " '35 minutes',\n",
       " '35 minutes',\n",
       " '30 minutes',\n",
       " '35 minutes',\n",
       " '40 minutes',\n",
       " '30 minutes',\n",
       " '40 minutes',\n",
       " '35 minutes',\n",
       " '35 minutes',\n",
       " '30 minutes',\n",
       " '35 minutes',\n",
       " '30 minutes',\n",
       " '40 minutes',\n",
       " '40 minutes',\n",
       " '35 minutes',\n",
       " '35 minutes',\n",
       " '30 minutes',\n",
       " '40 minutes',\n",
       " '35 minutes',\n",
       " '30 minutes',\n",
       " '35 minutes',\n",
       " '35 minutes',\n",
       " '35 minutes',\n",
       " '35 minutes',\n",
       " '40 minutes',\n",
       " '35 minutes',\n",
       " '30 minutes',\n",
       " '35 minutes',\n",
       " '35 minutes',\n",
       " '35 minutes',\n",
       " '40 minutes',\n",
       " '35 minutes',\n",
       " '35 minutes',\n",
       " '40 minutes',\n",
       " '35 minutes',\n",
       " '35 minutes',\n",
       " '35 minutes',\n",
       " '30 minutes',\n",
       " '35 minutes',\n",
       " '30 minutes',\n",
       " '40 minutes',\n",
       " '40 minutes',\n",
       " '35 minutes',\n",
       " '35 minutes',\n",
       " '35 minutes',\n",
       " ...]"
      ]
     },
     "execution_count": 59,
     "metadata": {},
     "output_type": "execute_result"
    }
   ],
   "source": [
    "pred_min"
   ]
  },
  {
   "cell_type": "code",
   "execution_count": 60,
   "metadata": {
    "colab": {},
    "colab_type": "code",
    "id": "S_FjzVMvB_dD"
   },
   "outputs": [],
   "source": [
    "output = pd.DataFrame({'Delivery_Time':pred_min})"
   ]
  },
  {
   "cell_type": "code",
   "execution_count": 61,
   "metadata": {
    "colab": {},
    "colab_type": "code",
    "id": "nitk1-4qDMQl"
   },
   "outputs": [],
   "source": [
    "output.to_csv(\"Submission_test_rating_min.csv\",index=False)"
   ]
  },
  {
   "cell_type": "code",
   "execution_count": 62,
   "metadata": {},
   "outputs": [
    {
     "name": "stdout",
     "output_type": "stream",
     "text": [
      "Requirement already satisfied: openpyxl in c:\\users\\skhad\\anaconda3\\envs\\ml\\lib\\site-packages (3.0.1)\n",
      "Requirement already satisfied: jdcal in c:\\users\\skhad\\anaconda3\\envs\\ml\\lib\\site-packages (from openpyxl) (1.4.1)\n",
      "Requirement already satisfied: et-xmlfile in c:\\users\\skhad\\anaconda3\\envs\\ml\\lib\\site-packages (from openpyxl) (1.0.1)\n",
      "Note: you may need to restart the kernel to use updated packages.\n"
     ]
    }
   ],
   "source": [
    "pip install openpyxl"
   ]
  },
  {
   "cell_type": "code",
   "execution_count": 63,
   "metadata": {
    "colab": {},
    "colab_type": "code",
    "id": "nB4-lCEfDOoK"
   },
   "outputs": [],
   "source": [
    "output.to_excel(\"Submission_2.xlsx\",index=False)"
   ]
  },
  {
   "cell_type": "code",
   "execution_count": null,
   "metadata": {},
   "outputs": [],
   "source": []
  }
 ],
 "metadata": {
  "colab": {
   "name": "MH-Food delivery time",
   "provenance": []
  },
  "kernelspec": {
   "display_name": "Python 3",
   "language": "python",
   "name": "python3"
  },
  "language_info": {
   "codemirror_mode": {
    "name": "ipython",
    "version": 3
   },
   "file_extension": ".py",
   "mimetype": "text/x-python",
   "name": "python",
   "nbconvert_exporter": "python",
   "pygments_lexer": "ipython3",
   "version": "3.7.4"
  }
 },
 "nbformat": 4,
 "nbformat_minor": 1
}
