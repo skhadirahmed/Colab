{
  "nbformat": 4,
  "nbformat_minor": 0,
  "metadata": {
    "colab": {
      "name": "MH-Food delivery time",
      "provenance": []
    },
    "kernelspec": {
      "display_name": "Python 3",
      "language": "python",
      "name": "python3"
    },
    "language_info": {
      "codemirror_mode": {
        "name": "ipython",
        "version": 3
      },
      "file_extension": ".py",
      "mimetype": "text/x-python",
      "name": "python",
      "nbconvert_exporter": "python",
      "pygments_lexer": "ipython3",
      "version": "3.7.4"
    }
  },
  "cells": [
    {
      "cell_type": "markdown",
      "metadata": {
        "id": "9R7MP45LHUb2",
        "colab_type": "text"
      },
      "source": [
        "# Importing required packages"
      ]
    },
    {
      "cell_type": "code",
      "metadata": {
        "colab_type": "code",
        "id": "SszGJLH6y1P0",
        "colab": {}
      },
      "source": [
        "#pip install openpyxl\n",
        "import pandas as pd\n"
      ],
      "execution_count": 0,
      "outputs": []
    },
    {
      "cell_type": "markdown",
      "metadata": {
        "id": "QzGzciT9Hbwv",
        "colab_type": "text"
      },
      "source": [
        "# Reading Train and Test data"
      ]
    },
    {
      "cell_type": "code",
      "metadata": {
        "colab_type": "code",
        "id": "afY8OUu9zKyC",
        "colab": {
          "base_uri": "https://localhost:8080/",
          "height": 51
        },
        "outputId": "29fe6781-b8f6-48cc-f0a8-4ef0a5f96749"
      },
      "source": [
        "Data_Train = pd.read_excel(\"Data_Train.xlsx\")\n",
        "Data_Test = pd.read_excel(\"Data_Test.xlsx\")\n",
        "print(\"Number of records in Train\",len(Data_Train))\n",
        "print(\"Number of records in Test\",len(Data_Test))"
      ],
      "execution_count": 49,
      "outputs": [
        {
          "output_type": "stream",
          "text": [
            "Number of records in Train 11094\n",
            "Number of records in Test 2774\n"
          ],
          "name": "stdout"
        }
      ]
    },
    {
      "cell_type": "code",
      "metadata": {
        "colab_type": "code",
        "id": "bgPDioLqzfNP",
        "outputId": "c17ebfe9-d624-4db4-9258-12933136247d",
        "colab": {
          "base_uri": "https://localhost:8080/",
          "height": 306
        }
      },
      "source": [
        "Data_Train.head()"
      ],
      "execution_count": 50,
      "outputs": [
        {
          "output_type": "execute_result",
          "data": {
            "text/html": [
              "<div>\n",
              "<style scoped>\n",
              "    .dataframe tbody tr th:only-of-type {\n",
              "        vertical-align: middle;\n",
              "    }\n",
              "\n",
              "    .dataframe tbody tr th {\n",
              "        vertical-align: top;\n",
              "    }\n",
              "\n",
              "    .dataframe thead th {\n",
              "        text-align: right;\n",
              "    }\n",
              "</style>\n",
              "<table border=\"1\" class=\"dataframe\">\n",
              "  <thead>\n",
              "    <tr style=\"text-align: right;\">\n",
              "      <th></th>\n",
              "      <th>Restaurant</th>\n",
              "      <th>Location</th>\n",
              "      <th>Cuisines</th>\n",
              "      <th>Average_Cost</th>\n",
              "      <th>Minimum_Order</th>\n",
              "      <th>Rating</th>\n",
              "      <th>Votes</th>\n",
              "      <th>Reviews</th>\n",
              "      <th>Delivery_Time</th>\n",
              "    </tr>\n",
              "  </thead>\n",
              "  <tbody>\n",
              "    <tr>\n",
              "      <th>0</th>\n",
              "      <td>ID_6321</td>\n",
              "      <td>FTI College, Law College Road, Pune</td>\n",
              "      <td>Fast Food, Rolls, Burger, Salad, Wraps</td>\n",
              "      <td>₹200</td>\n",
              "      <td>₹50</td>\n",
              "      <td>3.5</td>\n",
              "      <td>12</td>\n",
              "      <td>4</td>\n",
              "      <td>30 minutes</td>\n",
              "    </tr>\n",
              "    <tr>\n",
              "      <th>1</th>\n",
              "      <td>ID_2882</td>\n",
              "      <td>Sector 3, Marathalli</td>\n",
              "      <td>Ice Cream, Desserts</td>\n",
              "      <td>₹100</td>\n",
              "      <td>₹50</td>\n",
              "      <td>3.5</td>\n",
              "      <td>11</td>\n",
              "      <td>4</td>\n",
              "      <td>30 minutes</td>\n",
              "    </tr>\n",
              "    <tr>\n",
              "      <th>2</th>\n",
              "      <td>ID_1595</td>\n",
              "      <td>Mumbai Central</td>\n",
              "      <td>Italian, Street Food, Fast Food</td>\n",
              "      <td>₹150</td>\n",
              "      <td>₹50</td>\n",
              "      <td>3.6</td>\n",
              "      <td>99</td>\n",
              "      <td>30</td>\n",
              "      <td>65 minutes</td>\n",
              "    </tr>\n",
              "    <tr>\n",
              "      <th>3</th>\n",
              "      <td>ID_5929</td>\n",
              "      <td>Sector 1, Noida</td>\n",
              "      <td>Mughlai, North Indian, Chinese</td>\n",
              "      <td>₹250</td>\n",
              "      <td>₹99</td>\n",
              "      <td>3.7</td>\n",
              "      <td>176</td>\n",
              "      <td>95</td>\n",
              "      <td>30 minutes</td>\n",
              "    </tr>\n",
              "    <tr>\n",
              "      <th>4</th>\n",
              "      <td>ID_6123</td>\n",
              "      <td>Rmz Centennial, I Gate, Whitefield</td>\n",
              "      <td>Cafe, Beverages</td>\n",
              "      <td>₹200</td>\n",
              "      <td>₹99</td>\n",
              "      <td>3.2</td>\n",
              "      <td>521</td>\n",
              "      <td>235</td>\n",
              "      <td>65 minutes</td>\n",
              "    </tr>\n",
              "  </tbody>\n",
              "</table>\n",
              "</div>"
            ],
            "text/plain": [
              "  Restaurant                             Location  ... Reviews Delivery_Time\n",
              "0    ID_6321  FTI College, Law College Road, Pune  ...       4    30 minutes\n",
              "1    ID_2882                 Sector 3, Marathalli  ...       4    30 minutes\n",
              "2    ID_1595                       Mumbai Central  ...      30    65 minutes\n",
              "3    ID_5929                      Sector 1, Noida  ...      95    30 minutes\n",
              "4    ID_6123   Rmz Centennial, I Gate, Whitefield  ...     235    65 minutes\n",
              "\n",
              "[5 rows x 9 columns]"
            ]
          },
          "metadata": {
            "tags": []
          },
          "execution_count": 50
        }
      ]
    },
    {
      "cell_type": "code",
      "metadata": {
        "colab_type": "code",
        "id": "WrqS19Mzz1bH",
        "outputId": "7113dc5b-8828-42ef-f6a6-a1c6658ca642",
        "colab": {
          "base_uri": "https://localhost:8080/",
          "height": 207
        }
      },
      "source": [
        "Data_Train.describe()"
      ],
      "execution_count": 51,
      "outputs": [
        {
          "output_type": "execute_result",
          "data": {
            "text/html": [
              "<div>\n",
              "<style scoped>\n",
              "    .dataframe tbody tr th:only-of-type {\n",
              "        vertical-align: middle;\n",
              "    }\n",
              "\n",
              "    .dataframe tbody tr th {\n",
              "        vertical-align: top;\n",
              "    }\n",
              "\n",
              "    .dataframe thead th {\n",
              "        text-align: right;\n",
              "    }\n",
              "</style>\n",
              "<table border=\"1\" class=\"dataframe\">\n",
              "  <thead>\n",
              "    <tr style=\"text-align: right;\">\n",
              "      <th></th>\n",
              "      <th>Restaurant</th>\n",
              "      <th>Location</th>\n",
              "      <th>Cuisines</th>\n",
              "      <th>Average_Cost</th>\n",
              "      <th>Minimum_Order</th>\n",
              "      <th>Rating</th>\n",
              "      <th>Votes</th>\n",
              "      <th>Reviews</th>\n",
              "      <th>Delivery_Time</th>\n",
              "    </tr>\n",
              "  </thead>\n",
              "  <tbody>\n",
              "    <tr>\n",
              "      <th>count</th>\n",
              "      <td>11094</td>\n",
              "      <td>11094</td>\n",
              "      <td>11094</td>\n",
              "      <td>11094</td>\n",
              "      <td>11094</td>\n",
              "      <td>11094</td>\n",
              "      <td>11094</td>\n",
              "      <td>11094</td>\n",
              "      <td>11094</td>\n",
              "    </tr>\n",
              "    <tr>\n",
              "      <th>unique</th>\n",
              "      <td>7480</td>\n",
              "      <td>35</td>\n",
              "      <td>2179</td>\n",
              "      <td>26</td>\n",
              "      <td>18</td>\n",
              "      <td>33</td>\n",
              "      <td>1103</td>\n",
              "      <td>761</td>\n",
              "      <td>7</td>\n",
              "    </tr>\n",
              "    <tr>\n",
              "      <th>top</th>\n",
              "      <td>ID_7184</td>\n",
              "      <td>Mico Layout, Stage 2, BTM Layout,Bangalore</td>\n",
              "      <td>North Indian</td>\n",
              "      <td>₹200</td>\n",
              "      <td>₹50</td>\n",
              "      <td>-</td>\n",
              "      <td>-</td>\n",
              "      <td>-</td>\n",
              "      <td>30 minutes</td>\n",
              "    </tr>\n",
              "    <tr>\n",
              "      <th>freq</th>\n",
              "      <td>22</td>\n",
              "      <td>947</td>\n",
              "      <td>850</td>\n",
              "      <td>3241</td>\n",
              "      <td>10118</td>\n",
              "      <td>1191</td>\n",
              "      <td>2074</td>\n",
              "      <td>2312</td>\n",
              "      <td>7406</td>\n",
              "    </tr>\n",
              "  </tbody>\n",
              "</table>\n",
              "</div>"
            ],
            "text/plain": [
              "       Restaurant  ... Delivery_Time\n",
              "count       11094  ...         11094\n",
              "unique       7480  ...             7\n",
              "top       ID_7184  ...    30 minutes\n",
              "freq           22  ...          7406\n",
              "\n",
              "[4 rows x 9 columns]"
            ]
          },
          "metadata": {
            "tags": []
          },
          "execution_count": 51
        }
      ]
    },
    {
      "cell_type": "markdown",
      "metadata": {
        "id": "R2QMi_XLIEDp",
        "colab_type": "text"
      },
      "source": [
        "# Preparing the data"
      ]
    },
    {
      "cell_type": "code",
      "metadata": {
        "colab_type": "code",
        "id": "NCNGltm6zhYq",
        "colab": {}
      },
      "source": [
        "X = Data_Train.copy() #Creating a new copy of Train data"
      ],
      "execution_count": 0,
      "outputs": []
    },
    {
      "cell_type": "code",
      "metadata": {
        "colab_type": "code",
        "id": "3wC8aE8D0O3g",
        "colab": {}
      },
      "source": [
        "#X.dropna(axis=0,subset=['Delivery_Time'],inplace=True)  #Dropping any rows with the predicting feature empty/NaN\n",
        "#y= X.Delivery_Time  #Setting the predicting feature\n",
        "#X.drop(['Delivery_Time'],axis=1,inplace=True) #Removing the Predicting feature from X"
      ],
      "execution_count": 0,
      "outputs": []
    },
    {
      "cell_type": "code",
      "metadata": {
        "colab_type": "code",
        "id": "pgKxAVSZ0-XF",
        "outputId": "a54387c8-d7a0-4f7d-ac04-c8c90e2272a9",
        "colab": {
          "base_uri": "https://localhost:8080/",
          "height": 122
        }
      },
      "source": [
        "features = [\"Rating\",\t\"Votes\", \"Reviews\",\"Delivery_Time\"]\n",
        "\n",
        "X_f = X[features]\n",
        "X_f.dropna(axis=0,subset=features,inplace=True)\n"
      ],
      "execution_count": 67,
      "outputs": [
        {
          "output_type": "stream",
          "text": [
            "/usr/local/lib/python3.6/dist-packages/ipykernel_launcher.py:6: SettingWithCopyWarning: \n",
            "A value is trying to be set on a copy of a slice from a DataFrame\n",
            "\n",
            "See the caveats in the documentation: http://pandas.pydata.org/pandas-docs/stable/user_guide/indexing.html#returning-a-view-versus-a-copy\n",
            "  \n"
          ],
          "name": "stderr"
        }
      ]
    },
    {
      "cell_type": "code",
      "metadata": {
        "id": "XD0sHZHkJhUm",
        "colab_type": "code",
        "colab": {
          "base_uri": "https://localhost:8080/",
          "height": 204
        },
        "outputId": "b6059511-1b9e-4a44-aa0b-1b6389657ace"
      },
      "source": [
        "X_f.head()"
      ],
      "execution_count": 68,
      "outputs": [
        {
          "output_type": "execute_result",
          "data": {
            "text/html": [
              "<div>\n",
              "<style scoped>\n",
              "    .dataframe tbody tr th:only-of-type {\n",
              "        vertical-align: middle;\n",
              "    }\n",
              "\n",
              "    .dataframe tbody tr th {\n",
              "        vertical-align: top;\n",
              "    }\n",
              "\n",
              "    .dataframe thead th {\n",
              "        text-align: right;\n",
              "    }\n",
              "</style>\n",
              "<table border=\"1\" class=\"dataframe\">\n",
              "  <thead>\n",
              "    <tr style=\"text-align: right;\">\n",
              "      <th></th>\n",
              "      <th>Rating</th>\n",
              "      <th>Votes</th>\n",
              "      <th>Reviews</th>\n",
              "      <th>Delivery_Time</th>\n",
              "    </tr>\n",
              "  </thead>\n",
              "  <tbody>\n",
              "    <tr>\n",
              "      <th>0</th>\n",
              "      <td>3.5</td>\n",
              "      <td>12</td>\n",
              "      <td>4</td>\n",
              "      <td>30 minutes</td>\n",
              "    </tr>\n",
              "    <tr>\n",
              "      <th>1</th>\n",
              "      <td>3.5</td>\n",
              "      <td>11</td>\n",
              "      <td>4</td>\n",
              "      <td>30 minutes</td>\n",
              "    </tr>\n",
              "    <tr>\n",
              "      <th>2</th>\n",
              "      <td>3.6</td>\n",
              "      <td>99</td>\n",
              "      <td>30</td>\n",
              "      <td>65 minutes</td>\n",
              "    </tr>\n",
              "    <tr>\n",
              "      <th>3</th>\n",
              "      <td>3.7</td>\n",
              "      <td>176</td>\n",
              "      <td>95</td>\n",
              "      <td>30 minutes</td>\n",
              "    </tr>\n",
              "    <tr>\n",
              "      <th>4</th>\n",
              "      <td>3.2</td>\n",
              "      <td>521</td>\n",
              "      <td>235</td>\n",
              "      <td>65 minutes</td>\n",
              "    </tr>\n",
              "  </tbody>\n",
              "</table>\n",
              "</div>"
            ],
            "text/plain": [
              "  Rating Votes Reviews Delivery_Time\n",
              "0    3.5    12       4    30 minutes\n",
              "1    3.5    11       4    30 minutes\n",
              "2    3.6    99      30    65 minutes\n",
              "3    3.7   176      95    30 minutes\n",
              "4    3.2   521     235    65 minutes"
            ]
          },
          "metadata": {
            "tags": []
          },
          "execution_count": 68
        }
      ]
    },
    {
      "cell_type": "code",
      "metadata": {
        "id": "YpYVCw-EJpog",
        "colab_type": "code",
        "colab": {
          "base_uri": "https://localhost:8080/",
          "height": 173
        },
        "outputId": "d5c7b437-3b46-4b6c-e959-ecb27e120339"
      },
      "source": [
        "X_f.describe()"
      ],
      "execution_count": 69,
      "outputs": [
        {
          "output_type": "execute_result",
          "data": {
            "text/html": [
              "<div>\n",
              "<style scoped>\n",
              "    .dataframe tbody tr th:only-of-type {\n",
              "        vertical-align: middle;\n",
              "    }\n",
              "\n",
              "    .dataframe tbody tr th {\n",
              "        vertical-align: top;\n",
              "    }\n",
              "\n",
              "    .dataframe thead th {\n",
              "        text-align: right;\n",
              "    }\n",
              "</style>\n",
              "<table border=\"1\" class=\"dataframe\">\n",
              "  <thead>\n",
              "    <tr style=\"text-align: right;\">\n",
              "      <th></th>\n",
              "      <th>Rating</th>\n",
              "      <th>Votes</th>\n",
              "      <th>Reviews</th>\n",
              "      <th>Delivery_Time</th>\n",
              "    </tr>\n",
              "  </thead>\n",
              "  <tbody>\n",
              "    <tr>\n",
              "      <th>count</th>\n",
              "      <td>11094</td>\n",
              "      <td>11094</td>\n",
              "      <td>11094</td>\n",
              "      <td>11094</td>\n",
              "    </tr>\n",
              "    <tr>\n",
              "      <th>unique</th>\n",
              "      <td>33</td>\n",
              "      <td>1103</td>\n",
              "      <td>761</td>\n",
              "      <td>7</td>\n",
              "    </tr>\n",
              "    <tr>\n",
              "      <th>top</th>\n",
              "      <td>-</td>\n",
              "      <td>-</td>\n",
              "      <td>-</td>\n",
              "      <td>30 minutes</td>\n",
              "    </tr>\n",
              "    <tr>\n",
              "      <th>freq</th>\n",
              "      <td>1191</td>\n",
              "      <td>2074</td>\n",
              "      <td>2312</td>\n",
              "      <td>7406</td>\n",
              "    </tr>\n",
              "  </tbody>\n",
              "</table>\n",
              "</div>"
            ],
            "text/plain": [
              "       Rating  Votes Reviews Delivery_Time\n",
              "count   11094  11094   11094         11094\n",
              "unique     33   1103     761             7\n",
              "top         -      -       -    30 minutes\n",
              "freq     1191   2074    2312          7406"
            ]
          },
          "metadata": {
            "tags": []
          },
          "execution_count": 69
        }
      ]
    },
    {
      "cell_type": "code",
      "metadata": {
        "colab_type": "code",
        "id": "SkoO_3qi2MZ8",
        "colab": {
          "base_uri": "https://localhost:8080/",
          "height": 122
        },
        "outputId": "b5b879bb-4ae2-48ea-87c3-d93fbe90dc6d"
      },
      "source": [
        "X_f.Rating.replace([\"NEW\",\"-\",\"Opening Soon\",'Temporarily Closed'],2.5,inplace=True)\n",
        "X_f.Votes.replace([\"-\"],0,inplace=True)\n",
        "X_f.Reviews.replace([\"-\"],0,inplace=True)"
      ],
      "execution_count": 74,
      "outputs": [
        {
          "output_type": "stream",
          "text": [
            "/usr/local/lib/python3.6/dist-packages/pandas/core/generic.py:6786: SettingWithCopyWarning: \n",
            "A value is trying to be set on a copy of a slice from a DataFrame\n",
            "\n",
            "See the caveats in the documentation: http://pandas.pydata.org/pandas-docs/stable/user_guide/indexing.html#returning-a-view-versus-a-copy\n",
            "  self._update_inplace(new_data)\n"
          ],
          "name": "stderr"
        }
      ]
    },
    {
      "cell_type": "code",
      "metadata": {
        "colab_type": "code",
        "id": "-JngNYHT7BvG",
        "outputId": "8f7dea66-be8b-4c13-ad39-fdaec113f108",
        "colab": {
          "base_uri": "https://localhost:8080/",
          "height": 419
        }
      },
      "source": [
        "X_f"
      ],
      "execution_count": 75,
      "outputs": [
        {
          "output_type": "execute_result",
          "data": {
            "text/html": [
              "<div>\n",
              "<style scoped>\n",
              "    .dataframe tbody tr th:only-of-type {\n",
              "        vertical-align: middle;\n",
              "    }\n",
              "\n",
              "    .dataframe tbody tr th {\n",
              "        vertical-align: top;\n",
              "    }\n",
              "\n",
              "    .dataframe thead th {\n",
              "        text-align: right;\n",
              "    }\n",
              "</style>\n",
              "<table border=\"1\" class=\"dataframe\">\n",
              "  <thead>\n",
              "    <tr style=\"text-align: right;\">\n",
              "      <th></th>\n",
              "      <th>Rating</th>\n",
              "      <th>Votes</th>\n",
              "      <th>Reviews</th>\n",
              "      <th>Delivery_Time</th>\n",
              "    </tr>\n",
              "  </thead>\n",
              "  <tbody>\n",
              "    <tr>\n",
              "      <th>0</th>\n",
              "      <td>3.5</td>\n",
              "      <td>12</td>\n",
              "      <td>4</td>\n",
              "      <td>30 minutes</td>\n",
              "    </tr>\n",
              "    <tr>\n",
              "      <th>1</th>\n",
              "      <td>3.5</td>\n",
              "      <td>11</td>\n",
              "      <td>4</td>\n",
              "      <td>30 minutes</td>\n",
              "    </tr>\n",
              "    <tr>\n",
              "      <th>2</th>\n",
              "      <td>3.6</td>\n",
              "      <td>99</td>\n",
              "      <td>30</td>\n",
              "      <td>65 minutes</td>\n",
              "    </tr>\n",
              "    <tr>\n",
              "      <th>3</th>\n",
              "      <td>3.7</td>\n",
              "      <td>176</td>\n",
              "      <td>95</td>\n",
              "      <td>30 minutes</td>\n",
              "    </tr>\n",
              "    <tr>\n",
              "      <th>4</th>\n",
              "      <td>3.2</td>\n",
              "      <td>521</td>\n",
              "      <td>235</td>\n",
              "      <td>65 minutes</td>\n",
              "    </tr>\n",
              "    <tr>\n",
              "      <th>...</th>\n",
              "      <td>...</td>\n",
              "      <td>...</td>\n",
              "      <td>...</td>\n",
              "      <td>...</td>\n",
              "    </tr>\n",
              "    <tr>\n",
              "      <th>11089</th>\n",
              "      <td>4.2</td>\n",
              "      <td>326</td>\n",
              "      <td>189</td>\n",
              "      <td>30 minutes</td>\n",
              "    </tr>\n",
              "    <tr>\n",
              "      <th>11090</th>\n",
              "      <td>3.6</td>\n",
              "      <td>36</td>\n",
              "      <td>16</td>\n",
              "      <td>30 minutes</td>\n",
              "    </tr>\n",
              "    <tr>\n",
              "      <th>11091</th>\n",
              "      <td>3.5</td>\n",
              "      <td>45</td>\n",
              "      <td>18</td>\n",
              "      <td>30 minutes</td>\n",
              "    </tr>\n",
              "    <tr>\n",
              "      <th>11092</th>\n",
              "      <td>3.1</td>\n",
              "      <td>24</td>\n",
              "      <td>9</td>\n",
              "      <td>30 minutes</td>\n",
              "    </tr>\n",
              "    <tr>\n",
              "      <th>11093</th>\n",
              "      <td>2.5</td>\n",
              "      <td>0</td>\n",
              "      <td>0</td>\n",
              "      <td>30 minutes</td>\n",
              "    </tr>\n",
              "  </tbody>\n",
              "</table>\n",
              "<p>11094 rows × 4 columns</p>\n",
              "</div>"
            ],
            "text/plain": [
              "      Rating Votes Reviews Delivery_Time\n",
              "0        3.5    12       4    30 minutes\n",
              "1        3.5    11       4    30 minutes\n",
              "2        3.6    99      30    65 minutes\n",
              "3        3.7   176      95    30 minutes\n",
              "4        3.2   521     235    65 minutes\n",
              "...      ...   ...     ...           ...\n",
              "11089    4.2   326     189    30 minutes\n",
              "11090    3.6    36      16    30 minutes\n",
              "11091    3.5    45      18    30 minutes\n",
              "11092    3.1    24       9    30 minutes\n",
              "11093    2.5     0       0    30 minutes\n",
              "\n",
              "[11094 rows x 4 columns]"
            ]
          },
          "metadata": {
            "tags": []
          },
          "execution_count": 75
        }
      ]
    },
    {
      "cell_type": "code",
      "metadata": {
        "colab_type": "code",
        "id": "xbN_OHXz7R6F",
        "outputId": "37012435-618f-4570-acea-5e695a1c9748",
        "colab": {
          "base_uri": "https://localhost:8080/",
          "height": 190
        }
      },
      "source": [
        "y_f = X_f.Delivery_Time\n",
        "X_f.drop([\"Delivery_Time\"],axis=1,inplace=True)\n",
        "X_f.astype(\"float32\").dtypes"
      ],
      "execution_count": 76,
      "outputs": [
        {
          "output_type": "stream",
          "text": [
            "/usr/local/lib/python3.6/dist-packages/pandas/core/frame.py:4117: SettingWithCopyWarning: \n",
            "A value is trying to be set on a copy of a slice from a DataFrame\n",
            "\n",
            "See the caveats in the documentation: http://pandas.pydata.org/pandas-docs/stable/user_guide/indexing.html#returning-a-view-versus-a-copy\n",
            "  errors=errors,\n"
          ],
          "name": "stderr"
        },
        {
          "output_type": "execute_result",
          "data": {
            "text/plain": [
              "Rating     float32\n",
              "Votes      float32\n",
              "Reviews    float32\n",
              "dtype: object"
            ]
          },
          "metadata": {
            "tags": []
          },
          "execution_count": 76
        }
      ]
    },
    {
      "cell_type": "code",
      "metadata": {
        "id": "793NswuHF_lV",
        "colab_type": "code",
        "colab": {
          "base_uri": "https://localhost:8080/",
          "height": 34
        },
        "outputId": "1404f134-2620-468c-8385-c4f6d750b439"
      },
      "source": [
        "X_f.shape"
      ],
      "execution_count": 77,
      "outputs": [
        {
          "output_type": "execute_result",
          "data": {
            "text/plain": [
              "(11094, 3)"
            ]
          },
          "metadata": {
            "tags": []
          },
          "execution_count": 77
        }
      ]
    },
    {
      "cell_type": "code",
      "metadata": {
        "colab_type": "code",
        "id": "fgNIAsmd7ph-",
        "outputId": "543acb2c-e70b-43b8-d585-997afd665f10",
        "colab": {
          "base_uri": "https://localhost:8080/",
          "height": 221
        }
      },
      "source": [
        "y_f"
      ],
      "execution_count": 79,
      "outputs": [
        {
          "output_type": "execute_result",
          "data": {
            "text/plain": [
              "0        30 minutes\n",
              "1        30 minutes\n",
              "2        65 minutes\n",
              "3        30 minutes\n",
              "4        65 minutes\n",
              "            ...    \n",
              "11089    30 minutes\n",
              "11090    30 minutes\n",
              "11091    30 minutes\n",
              "11092    30 minutes\n",
              "11093    30 minutes\n",
              "Name: Delivery_Time, Length: 11094, dtype: object"
            ]
          },
          "metadata": {
            "tags": []
          },
          "execution_count": 79
        }
      ]
    },
    {
      "cell_type": "code",
      "metadata": {
        "colab_type": "code",
        "id": "36s7Txdf9yH6",
        "outputId": "ecee5c27-8115-401e-d1dd-1b51b3709856",
        "colab": {
          "base_uri": "https://localhost:8080/",
          "height": 34
        }
      },
      "source": [
        "print(y_rating[0].replace(\"minutes\",\"\"))"
      ],
      "execution_count": 80,
      "outputs": [
        {
          "output_type": "stream",
          "text": [
            "30 \n"
          ],
          "name": "stdout"
        }
      ]
    },
    {
      "cell_type": "code",
      "metadata": {
        "colab_type": "code",
        "id": "ranjx0B497CS",
        "colab": {
          "base_uri": "https://localhost:8080/",
          "height": 122
        },
        "outputId": "c589924a-d6fd-4d8b-ad8a-536e11518962"
      },
      "source": [
        "for col in y_f.index:\n",
        "  y_f[col]=y_f[col].replace(\"minutes\",\"\")"
      ],
      "execution_count": 82,
      "outputs": [
        {
          "output_type": "stream",
          "text": [
            "/usr/local/lib/python3.6/dist-packages/IPython/core/interactiveshell.py:2882: SettingWithCopyWarning: \n",
            "A value is trying to be set on a copy of a slice from a DataFrame\n",
            "\n",
            "See the caveats in the documentation: http://pandas.pydata.org/pandas-docs/stable/user_guide/indexing.html#returning-a-view-versus-a-copy\n",
            "  exec(code_obj, self.user_global_ns, self.user_ns)\n"
          ],
          "name": "stderr"
        }
      ]
    },
    {
      "cell_type": "code",
      "metadata": {
        "colab_type": "code",
        "id": "noM8zqNr-6n8",
        "outputId": "f1a656e9-c2e9-4485-e891-262d3bf7d554",
        "colab": {
          "base_uri": "https://localhost:8080/",
          "height": 221
        }
      },
      "source": [
        "y_f"
      ],
      "execution_count": 83,
      "outputs": [
        {
          "output_type": "execute_result",
          "data": {
            "text/plain": [
              "0        30 \n",
              "1        30 \n",
              "2        65 \n",
              "3        30 \n",
              "4        65 \n",
              "        ... \n",
              "11089    30 \n",
              "11090    30 \n",
              "11091    30 \n",
              "11092    30 \n",
              "11093    30 \n",
              "Name: Delivery_Time, Length: 11094, dtype: object"
            ]
          },
          "metadata": {
            "tags": []
          },
          "execution_count": 83
        }
      ]
    },
    {
      "cell_type": "code",
      "metadata": {
        "colab_type": "code",
        "id": "7oKO66QG_hyc",
        "outputId": "74696a34-637e-41fa-8e38-d52ecf024533",
        "colab": {
          "base_uri": "https://localhost:8080/",
          "height": 34
        }
      },
      "source": [
        "y_f.astype(\"int32\").dtypes"
      ],
      "execution_count": 84,
      "outputs": [
        {
          "output_type": "execute_result",
          "data": {
            "text/plain": [
              "dtype('int32')"
            ]
          },
          "metadata": {
            "tags": []
          },
          "execution_count": 84
        }
      ]
    },
    {
      "cell_type": "code",
      "metadata": {
        "id": "y3K62SUHLgih",
        "colab_type": "code",
        "colab": {}
      },
      "source": [
        "from sklearn.model_selection import train_test_split\n",
        "X_train,X_valid,y_train,y_valid = train_test_split(X_f,y_f)"
      ],
      "execution_count": 0,
      "outputs": []
    },
    {
      "cell_type": "markdown",
      "metadata": {
        "id": "Zs3HL9nhLOqD",
        "colab_type": "text"
      },
      "source": [
        "# Modelling"
      ]
    },
    {
      "cell_type": "code",
      "metadata": {
        "colab_type": "code",
        "id": "q2ojHu8XAm25",
        "colab": {
          "base_uri": "https://localhost:8080/",
          "height": 136
        },
        "outputId": "1b30d524-96c9-433a-f9f0-58e81e3ebc90"
      },
      "source": [
        "from sklearn.ensemble import RandomForestRegressor\n",
        "model_1 = RandomForestRegressor(n_estimators=500,random_state=1)\n",
        "model_1.fit(X_train,y_train)"
      ],
      "execution_count": 87,
      "outputs": [
        {
          "output_type": "execute_result",
          "data": {
            "text/plain": [
              "RandomForestRegressor(bootstrap=True, criterion='mse', max_depth=None,\n",
              "                      max_features='auto', max_leaf_nodes=None,\n",
              "                      min_impurity_decrease=0.0, min_impurity_split=None,\n",
              "                      min_samples_leaf=1, min_samples_split=2,\n",
              "                      min_weight_fraction_leaf=0.0, n_estimators=500,\n",
              "                      n_jobs=None, oob_score=False, random_state=1, verbose=0,\n",
              "                      warm_start=False)"
            ]
          },
          "metadata": {
            "tags": []
          },
          "execution_count": 87
        }
      ]
    },
    {
      "cell_type": "code",
      "metadata": {
        "colab_type": "code",
        "id": "pwNM44voAyIJ",
        "colab": {}
      },
      "source": [
        "pred = model_1.predict(X_valid)"
      ],
      "execution_count": 0,
      "outputs": []
    },
    {
      "cell_type": "code",
      "metadata": {
        "colab_type": "code",
        "id": "dS_jnYkKB0J_",
        "colab": {}
      },
      "source": [
        "from sklearn.metrics import mean_absolute_error\n",
        "score = mean_absolute_error(pred,y_valid)"
      ],
      "execution_count": 0,
      "outputs": []
    },
    {
      "cell_type": "code",
      "metadata": {
        "colab_type": "code",
        "id": "2_6ROppsB08K",
        "outputId": "a596e27f-10f7-4de8-84e4-a4cde19169a4",
        "colab": {
          "base_uri": "https://localhost:8080/",
          "height": 34
        }
      },
      "source": [
        "score"
      ],
      "execution_count": 90,
      "outputs": [
        {
          "output_type": "execute_result",
          "data": {
            "text/plain": [
              "0.00020187454938716673"
            ]
          },
          "metadata": {
            "tags": []
          },
          "execution_count": 90
        }
      ]
    },
    {
      "cell_type": "code",
      "metadata": {
        "colab_type": "code",
        "id": "O3K1A5geDZBK",
        "colab": {}
      },
      "source": [
        "def getScores(n_est,X_train,y_train,X_valid,y_valid):\n",
        "  scores = {}\n",
        "  for k in n_est:\n",
        "    model = RandomForestRegressor(n_estimators=k,random_state=1)\n",
        "    model.fit(X_train,y_train)\n",
        "    preds = model.predict(X_valid)\n",
        "    score = mean_absolute_error(preds,y_valid)\n",
        "    scores[k]=score\n",
        "  return scores"
      ],
      "execution_count": 0,
      "outputs": []
    },
    {
      "cell_type": "code",
      "metadata": {
        "colab_type": "code",
        "id": "tK8BscZdDUwX",
        "colab": {}
      },
      "source": [
        "n_est = [50,100,150,200,500,1000,1500,2000]\n",
        "scores = getScores(n_est, X_train, y_train, X_valid, y_valid)"
      ],
      "execution_count": 0,
      "outputs": []
    },
    {
      "cell_type": "code",
      "metadata": {
        "colab_type": "code",
        "id": "sKDyCfiT18Fq",
        "outputId": "69ed179b-876c-4d34-fa26-df314ee87a16",
        "colab": {
          "base_uri": "https://localhost:8080/",
          "height": 153
        }
      },
      "source": [
        "scores"
      ],
      "execution_count": 96,
      "outputs": [
        {
          "output_type": "execute_result",
          "data": {
            "text/plain": [
              "{50: 0.0002162941600576783,\n",
              " 100: 0.0002523431867339579,\n",
              " 150: 0.0002403268445085314,\n",
              " 200: 0.0002162941600576783,\n",
              " 500: 0.00020187454938716673,\n",
              " 1000: 0.00017303532804614354,\n",
              " 1500: 0.0001826484018264844,\n",
              " 2000: 0.00020007209805335247}"
            ]
          },
          "metadata": {
            "tags": []
          },
          "execution_count": 96
        }
      ]
    },
    {
      "cell_type": "code",
      "metadata": {
        "colab_type": "code",
        "id": "2w7bJXS42bVG",
        "colab": {
          "base_uri": "https://localhost:8080/",
          "height": 190
        },
        "outputId": "8c63b040-c7b9-4226-bec0-9433fbdd0e77"
      },
      "source": [
        "model_test = RandomForestRegressor(n_estimators=1000,random_state=1)  #choosing the best n_est\n",
        "X_f.drop([\"Delivery_Time\"],axis=1,inplace=True)\n",
        "model_test.fit(X_f,y_f) #fitting on the complete Training data\n",
        "X_test = Data_Test.copy()\n",
        "if \"Delivery_Time\" in features:\n",
        "  features.remove(\"Delivery_Time\")\n",
        "X_test = X_test[features]\n",
        "X_test.Rating.replace([\"NEW\",\"-\",\"Opening Soon\",'Temporarily Closed'],2.5,inplace=True)\n",
        "X_test.Votes.replace([\"-\"],0,inplace=True)\n",
        "X_test.Reviews.replace([\"-\"],0,inplace=True)\n",
        "X_test.astype(\"float32\").dtypes"
      ],
      "execution_count": 109,
      "outputs": [
        {
          "output_type": "stream",
          "text": [
            "/usr/local/lib/python3.6/dist-packages/pandas/core/frame.py:4117: SettingWithCopyWarning: \n",
            "A value is trying to be set on a copy of a slice from a DataFrame\n",
            "\n",
            "See the caveats in the documentation: http://pandas.pydata.org/pandas-docs/stable/user_guide/indexing.html#returning-a-view-versus-a-copy\n",
            "  errors=errors,\n"
          ],
          "name": "stderr"
        },
        {
          "output_type": "execute_result",
          "data": {
            "text/plain": [
              "Rating     float32\n",
              "Votes      float32\n",
              "Reviews    float32\n",
              "dtype: object"
            ]
          },
          "metadata": {
            "tags": []
          },
          "execution_count": 109
        }
      ]
    },
    {
      "cell_type": "code",
      "metadata": {
        "id": "Vf61UTpnF_nD",
        "colab_type": "code",
        "colab": {
          "base_uri": "https://localhost:8080/",
          "height": 204
        },
        "outputId": "25bfdab9-782f-4293-9454-cf62901fbcfd"
      },
      "source": [
        "X_test.head()"
      ],
      "execution_count": 110,
      "outputs": [
        {
          "output_type": "execute_result",
          "data": {
            "text/html": [
              "<div>\n",
              "<style scoped>\n",
              "    .dataframe tbody tr th:only-of-type {\n",
              "        vertical-align: middle;\n",
              "    }\n",
              "\n",
              "    .dataframe tbody tr th {\n",
              "        vertical-align: top;\n",
              "    }\n",
              "\n",
              "    .dataframe thead th {\n",
              "        text-align: right;\n",
              "    }\n",
              "</style>\n",
              "<table border=\"1\" class=\"dataframe\">\n",
              "  <thead>\n",
              "    <tr style=\"text-align: right;\">\n",
              "      <th></th>\n",
              "      <th>Rating</th>\n",
              "      <th>Votes</th>\n",
              "      <th>Reviews</th>\n",
              "    </tr>\n",
              "  </thead>\n",
              "  <tbody>\n",
              "    <tr>\n",
              "      <th>0</th>\n",
              "      <td>4.2</td>\n",
              "      <td>361</td>\n",
              "      <td>225</td>\n",
              "    </tr>\n",
              "    <tr>\n",
              "      <th>1</th>\n",
              "      <td>2.5</td>\n",
              "      <td>0</td>\n",
              "      <td>0</td>\n",
              "    </tr>\n",
              "    <tr>\n",
              "      <th>2</th>\n",
              "      <td>3.6</td>\n",
              "      <td>36</td>\n",
              "      <td>16</td>\n",
              "    </tr>\n",
              "    <tr>\n",
              "      <th>3</th>\n",
              "      <td>3.6</td>\n",
              "      <td>66</td>\n",
              "      <td>33</td>\n",
              "    </tr>\n",
              "    <tr>\n",
              "      <th>4</th>\n",
              "      <td>2.9</td>\n",
              "      <td>38</td>\n",
              "      <td>14</td>\n",
              "    </tr>\n",
              "  </tbody>\n",
              "</table>\n",
              "</div>"
            ],
            "text/plain": [
              "  Rating Votes Reviews\n",
              "0    4.2   361     225\n",
              "1    2.5     0       0\n",
              "2    3.6    36      16\n",
              "3    3.6    66      33\n",
              "4    2.9    38      14"
            ]
          },
          "metadata": {
            "tags": []
          },
          "execution_count": 110
        }
      ]
    },
    {
      "cell_type": "code",
      "metadata": {
        "id": "Juge2RXFF_nK",
        "colab_type": "code",
        "colab": {}
      },
      "source": [
        "#import numpy as np"
      ],
      "execution_count": 0,
      "outputs": []
    },
    {
      "cell_type": "code",
      "metadata": {
        "id": "hNLeATn1F_nQ",
        "colab_type": "code",
        "colab": {}
      },
      "source": [
        "#X_test = np.array(X_test)"
      ],
      "execution_count": 0,
      "outputs": []
    },
    {
      "cell_type": "code",
      "metadata": {
        "id": "W7HUcuiJF_nS",
        "colab_type": "code",
        "colab": {}
      },
      "source": [
        "#X_test = X_test.reshape(-1,1)"
      ],
      "execution_count": 0,
      "outputs": []
    },
    {
      "cell_type": "code",
      "metadata": {
        "id": "diUZBR1lF_nW",
        "colab_type": "code",
        "colab": {
          "base_uri": "https://localhost:8080/",
          "height": 34
        },
        "outputId": "93478a8e-9f38-43e6-e9a7-cbc75b5ad186"
      },
      "source": [
        "X_test.shape"
      ],
      "execution_count": 114,
      "outputs": [
        {
          "output_type": "execute_result",
          "data": {
            "text/plain": [
              "(2774, 3)"
            ]
          },
          "metadata": {
            "tags": []
          },
          "execution_count": 114
        }
      ]
    },
    {
      "cell_type": "code",
      "metadata": {
        "id": "afZkdHRcF_nf",
        "colab_type": "code",
        "colab": {}
      },
      "source": [
        "predictions_test = model_test.predict(X_test)"
      ],
      "execution_count": 0,
      "outputs": []
    },
    {
      "cell_type": "markdown",
      "metadata": {
        "id": "IbUDC_ZeOD6r",
        "colab_type": "text"
      },
      "source": [
        "# Converting time multiples of 5"
      ]
    },
    {
      "cell_type": "code",
      "metadata": {
        "id": "tilO-J1RF_nj",
        "colab_type": "code",
        "colab": {}
      },
      "source": [
        "import math\n",
        "pred_minutes = []\n",
        "for p in predictions_test:\n",
        "    time = math.ceil(p)\n",
        "    d = time // 5\n",
        "    time = d * 5\n",
        "    pred_minutes.append(str(time) + \" minutes\")"
      ],
      "execution_count": 0,
      "outputs": []
    },
    {
      "cell_type": "code",
      "metadata": {
        "id": "Xoja4qTDF_nx",
        "colab_type": "code",
        "colab": {}
      },
      "source": [
        "#pred_minutes"
      ],
      "execution_count": 0,
      "outputs": []
    },
    {
      "cell_type": "markdown",
      "metadata": {
        "id": "n2BJQCrBOTJO",
        "colab_type": "text"
      },
      "source": [
        "# Creating a submission excel file"
      ]
    },
    {
      "cell_type": "code",
      "metadata": {
        "colab_type": "code",
        "id": "S_FjzVMvB_dD",
        "colab": {}
      },
      "source": [
        "output = pd.DataFrame({'Delivery_Time':pred_minutes})"
      ],
      "execution_count": 0,
      "outputs": []
    },
    {
      "cell_type": "code",
      "metadata": {
        "colab_type": "code",
        "id": "nB4-lCEfDOoK",
        "colab": {}
      },
      "source": [
        "output.to_excel(\"Submission_3.xlsx\",index=False)"
      ],
      "execution_count": 0,
      "outputs": []
    },
    {
      "cell_type": "code",
      "metadata": {
        "id": "-W_p7l5BF_oM",
        "colab_type": "code",
        "colab": {}
      },
      "source": [
        ""
      ],
      "execution_count": 0,
      "outputs": []
    }
  ]
}